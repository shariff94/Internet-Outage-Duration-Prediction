{
 "cells": [
  {
   "cell_type": "markdown",
   "metadata": {},
   "source": [
    "# PHD Hackathon"
   ]
  },
  {
   "cell_type": "markdown",
   "metadata": {},
   "source": [
    "# `Broadband Outage Detection`\n",
    "\n",
    "### Description:\n",
    "\n",
    "India is seeing an explosion of new competitors in the Broadband space. 'India Broadband' is\n",
    "a company that is now seeing a lot of customer churn due to customer dissatisfaction\n",
    "because of broadband outages.\n",
    "\n",
    "The company has now curated a dataset, where it tracks several variables that it believes\n",
    "impact the `outage_duration`. They have tracked three different outage durations, `0` for\n",
    "no outage, `1` for short outages that last anywhere between a few minutes and a maximum\n",
    "of 2 hours, and `2` for long outages that can last from 2 hours to sometimes even a couple\n",
    "of days.\n",
    "\n",
    "You will now have to use these metrics that the company has tracked to create a machine\n",
    "learning model that will be able to predict the `outage_duration` so that the company can\n",
    "better handle outages and improve customer satisfaction and therefore reduce customer\n",
    "churn.\n"
   ]
  },
  {
   "cell_type": "markdown",
   "metadata": {},
   "source": [
    "## 1. Importing Libraries"
   ]
  },
  {
   "cell_type": "code",
   "execution_count": 1,
   "metadata": {},
   "outputs": [],
   "source": [
    "import numpy as np                   # array/mathematical package\n",
    "import pandas as pd                  # data manipulation/analysis package\n",
    "import matplotlib.pyplot as plt      # library for vizualisations in matlab style\n",
    "import seaborn as sns                # matplot based package for stylised plots\n",
    "sns.set()                            # set seaborn as default aesthetics in plots\n",
    "from functools import reduce\n",
    "from sklearn.model_selection import train_test_split\n",
    "from sklearn.decomposition import PCA\n",
    "from sklearn.model_selection import GridSearchCV\n",
    "from sklearn.metrics import f1_score"
   ]
  },
  {
   "cell_type": "markdown",
   "metadata": {},
   "source": [
    "## 2 Reading Datasets"
   ]
  },
  {
   "cell_type": "code",
   "execution_count": 2,
   "metadata": {},
   "outputs": [],
   "source": [
    "# broadband data\n",
    "broadband_df = pd.read_csv('data/broadband_data.csv')\n",
    "\n",
    "# outage data\n",
    "outage_df = pd.read_csv('data/outage_data.csv')\n",
    "\n",
    "# report data\n",
    "report_df = pd.read_csv('data/report_data.csv')\n",
    "\n",
    "# server data\n",
    "server_df = pd.read_csv('data/server_data.csv')\n",
    "\n",
    "# train data\n",
    "train_df = pd.read_csv('data/train_data.csv')"
   ]
  },
  {
   "cell_type": "markdown",
   "metadata": {},
   "source": [
    "## 3. Exploring the datasets"
   ]
  },
  {
   "cell_type": "markdown",
   "metadata": {},
   "source": [
    "#### 3.1 Broadband data"
   ]
  },
  {
   "cell_type": "code",
   "execution_count": 3,
   "metadata": {
    "scrolled": true
   },
   "outputs": [
    {
     "data": {
      "text/html": [
       "<div>\n",
       "<style scoped>\n",
       "    .dataframe tbody tr th:only-of-type {\n",
       "        vertical-align: middle;\n",
       "    }\n",
       "\n",
       "    .dataframe tbody tr th {\n",
       "        vertical-align: top;\n",
       "    }\n",
       "\n",
       "    .dataframe thead th {\n",
       "        text-align: right;\n",
       "    }\n",
       "</style>\n",
       "<table border=\"1\" class=\"dataframe\">\n",
       "  <thead>\n",
       "    <tr style=\"text-align: right;\">\n",
       "      <th></th>\n",
       "      <th>id</th>\n",
       "      <th>broadband_type</th>\n",
       "    </tr>\n",
       "  </thead>\n",
       "  <tbody>\n",
       "    <tr>\n",
       "      <th>0</th>\n",
       "      <td>6597</td>\n",
       "      <td>broadband_type_8</td>\n",
       "    </tr>\n",
       "    <tr>\n",
       "      <th>1</th>\n",
       "      <td>8011</td>\n",
       "      <td>broadband_type_8</td>\n",
       "    </tr>\n",
       "    <tr>\n",
       "      <th>2</th>\n",
       "      <td>2597</td>\n",
       "      <td>broadband_type_8</td>\n",
       "    </tr>\n",
       "    <tr>\n",
       "      <th>3</th>\n",
       "      <td>5022</td>\n",
       "      <td>broadband_type_8</td>\n",
       "    </tr>\n",
       "    <tr>\n",
       "      <th>4</th>\n",
       "      <td>6852</td>\n",
       "      <td>broadband_type_8</td>\n",
       "    </tr>\n",
       "  </tbody>\n",
       "</table>\n",
       "</div>"
      ],
      "text/plain": [
       "     id    broadband_type\n",
       "0  6597  broadband_type_8\n",
       "1  8011  broadband_type_8\n",
       "2  2597  broadband_type_8\n",
       "3  5022  broadband_type_8\n",
       "4  6852  broadband_type_8"
      ]
     },
     "execution_count": 3,
     "metadata": {},
     "output_type": "execute_result"
    }
   ],
   "source": [
    "broadband_df.head()"
   ]
  },
  {
   "cell_type": "code",
   "execution_count": 4,
   "metadata": {},
   "outputs": [],
   "source": [
    "# creating a dictionary for broadband types with key as the type and name as the value\n",
    "broadband_type_dict = {  'broadband_type_8'  : 'ADSL 1',\n",
    "                         'broadband_type_2'  : 'ADSL 2',\n",
    "                         'broadband_type_6'  : 'ADSL 2+',\n",
    "                         'broadband_type_7'  : 'Cable',\n",
    "                         'broadband_type_4'  : 'Fiber 1',\n",
    "                         'broadband_type_9'  : 'BPL',\n",
    "                         'broadband_type_3'  : 'Fiber 2',\n",
    "                         'broadband_type_10' : 'Fiber High Speed',\n",
    "                         'broadband_type_1'  : 'Fiber Ultra',\n",
    "                         'broadband_type_5'  : 'Fiber Ultra Max'}\n"
   ]
  },
  {
   "cell_type": "code",
   "execution_count": 5,
   "metadata": {},
   "outputs": [],
   "source": [
    "# mapping the values of the dictionary broadband_type_dict based on the broadband_name as the key\n",
    "broadband_df['broadband_name']=broadband_df.broadband_type.map(broadband_type_dict)"
   ]
  },
  {
   "cell_type": "code",
   "execution_count": 6,
   "metadata": {},
   "outputs": [
    {
     "data": {
      "text/html": [
       "<div>\n",
       "<style scoped>\n",
       "    .dataframe tbody tr th:only-of-type {\n",
       "        vertical-align: middle;\n",
       "    }\n",
       "\n",
       "    .dataframe tbody tr th {\n",
       "        vertical-align: top;\n",
       "    }\n",
       "\n",
       "    .dataframe thead th {\n",
       "        text-align: right;\n",
       "    }\n",
       "</style>\n",
       "<table border=\"1\" class=\"dataframe\">\n",
       "  <thead>\n",
       "    <tr style=\"text-align: right;\">\n",
       "      <th></th>\n",
       "      <th>id</th>\n",
       "      <th>broadband_type</th>\n",
       "      <th>broadband_name</th>\n",
       "    </tr>\n",
       "  </thead>\n",
       "  <tbody>\n",
       "    <tr>\n",
       "      <th>0</th>\n",
       "      <td>6597</td>\n",
       "      <td>broadband_type_8</td>\n",
       "      <td>ADSL 1</td>\n",
       "    </tr>\n",
       "    <tr>\n",
       "      <th>1</th>\n",
       "      <td>8011</td>\n",
       "      <td>broadband_type_8</td>\n",
       "      <td>ADSL 1</td>\n",
       "    </tr>\n",
       "    <tr>\n",
       "      <th>2</th>\n",
       "      <td>2597</td>\n",
       "      <td>broadband_type_8</td>\n",
       "      <td>ADSL 1</td>\n",
       "    </tr>\n",
       "    <tr>\n",
       "      <th>3</th>\n",
       "      <td>5022</td>\n",
       "      <td>broadband_type_8</td>\n",
       "      <td>ADSL 1</td>\n",
       "    </tr>\n",
       "    <tr>\n",
       "      <th>4</th>\n",
       "      <td>6852</td>\n",
       "      <td>broadband_type_8</td>\n",
       "      <td>ADSL 1</td>\n",
       "    </tr>\n",
       "  </tbody>\n",
       "</table>\n",
       "</div>"
      ],
      "text/plain": [
       "     id    broadband_type broadband_name\n",
       "0  6597  broadband_type_8         ADSL 1\n",
       "1  8011  broadband_type_8         ADSL 1\n",
       "2  2597  broadband_type_8         ADSL 1\n",
       "3  5022  broadband_type_8         ADSL 1\n",
       "4  6852  broadband_type_8         ADSL 1"
      ]
     },
     "execution_count": 6,
     "metadata": {},
     "output_type": "execute_result"
    }
   ],
   "source": [
    "broadband_df.head()"
   ]
  },
  {
   "cell_type": "code",
   "execution_count": 7,
   "metadata": {
    "scrolled": true
   },
   "outputs": [
    {
     "data": {
      "text/html": [
       "<div>\n",
       "<style scoped>\n",
       "    .dataframe tbody tr th:only-of-type {\n",
       "        vertical-align: middle;\n",
       "    }\n",
       "\n",
       "    .dataframe tbody tr th {\n",
       "        vertical-align: top;\n",
       "    }\n",
       "\n",
       "    .dataframe thead th {\n",
       "        text-align: right;\n",
       "    }\n",
       "</style>\n",
       "<table border=\"1\" class=\"dataframe\">\n",
       "  <thead>\n",
       "    <tr style=\"text-align: right;\">\n",
       "      <th></th>\n",
       "      <th>id</th>\n",
       "      <th>broadband_type</th>\n",
       "      <th>broadband_name</th>\n",
       "    </tr>\n",
       "  </thead>\n",
       "  <tbody>\n",
       "    <tr>\n",
       "      <th>21071</th>\n",
       "      <td>3761</td>\n",
       "      <td>broadband_type_8</td>\n",
       "      <td>ADSL 1</td>\n",
       "    </tr>\n",
       "    <tr>\n",
       "      <th>21072</th>\n",
       "      <td>8720</td>\n",
       "      <td>broadband_type_8</td>\n",
       "      <td>ADSL 1</td>\n",
       "    </tr>\n",
       "    <tr>\n",
       "      <th>21073</th>\n",
       "      <td>6488</td>\n",
       "      <td>broadband_type_8</td>\n",
       "      <td>ADSL 1</td>\n",
       "    </tr>\n",
       "    <tr>\n",
       "      <th>21074</th>\n",
       "      <td>878</td>\n",
       "      <td>broadband_type_8</td>\n",
       "      <td>ADSL 1</td>\n",
       "    </tr>\n",
       "    <tr>\n",
       "      <th>21075</th>\n",
       "      <td>4464</td>\n",
       "      <td>broadband_type_8</td>\n",
       "      <td>ADSL 1</td>\n",
       "    </tr>\n",
       "  </tbody>\n",
       "</table>\n",
       "</div>"
      ],
      "text/plain": [
       "         id    broadband_type broadband_name\n",
       "21071  3761  broadband_type_8         ADSL 1\n",
       "21072  8720  broadband_type_8         ADSL 1\n",
       "21073  6488  broadband_type_8         ADSL 1\n",
       "21074   878  broadband_type_8         ADSL 1\n",
       "21075  4464  broadband_type_8         ADSL 1"
      ]
     },
     "execution_count": 7,
     "metadata": {},
     "output_type": "execute_result"
    }
   ],
   "source": [
    "broadband_df.tail()"
   ]
  },
  {
   "cell_type": "code",
   "execution_count": 8,
   "metadata": {},
   "outputs": [
    {
     "data": {
      "text/plain": [
       "(21076, 3)"
      ]
     },
     "execution_count": 8,
     "metadata": {},
     "output_type": "execute_result"
    }
   ],
   "source": [
    "# shape of the data post mapping with the dictionary\n",
    "broadband_df.shape"
   ]
  },
  {
   "cell_type": "code",
   "execution_count": 9,
   "metadata": {
    "scrolled": true
   },
   "outputs": [
    {
     "data": {
      "text/html": [
       "<div>\n",
       "<style scoped>\n",
       "    .dataframe tbody tr th:only-of-type {\n",
       "        vertical-align: middle;\n",
       "    }\n",
       "\n",
       "    .dataframe tbody tr th {\n",
       "        vertical-align: top;\n",
       "    }\n",
       "\n",
       "    .dataframe thead th {\n",
       "        text-align: right;\n",
       "    }\n",
       "</style>\n",
       "<table border=\"1\" class=\"dataframe\">\n",
       "  <thead>\n",
       "    <tr style=\"text-align: right;\">\n",
       "      <th></th>\n",
       "      <th>id</th>\n",
       "      <th>broadband_type</th>\n",
       "      <th>broadband_name</th>\n",
       "    </tr>\n",
       "  </thead>\n",
       "  <tbody>\n",
       "    <tr>\n",
       "      <th>count</th>\n",
       "      <td>21076.000000</td>\n",
       "      <td>21076</td>\n",
       "      <td>21076</td>\n",
       "    </tr>\n",
       "    <tr>\n",
       "      <th>unique</th>\n",
       "      <td>NaN</td>\n",
       "      <td>10</td>\n",
       "      <td>10</td>\n",
       "    </tr>\n",
       "    <tr>\n",
       "      <th>top</th>\n",
       "      <td>NaN</td>\n",
       "      <td>broadband_type_8</td>\n",
       "      <td>ADSL 1</td>\n",
       "    </tr>\n",
       "    <tr>\n",
       "      <th>freq</th>\n",
       "      <td>NaN</td>\n",
       "      <td>10268</td>\n",
       "      <td>10268</td>\n",
       "    </tr>\n",
       "    <tr>\n",
       "      <th>mean</th>\n",
       "      <td>9255.869330</td>\n",
       "      <td>NaN</td>\n",
       "      <td>NaN</td>\n",
       "    </tr>\n",
       "    <tr>\n",
       "      <th>std</th>\n",
       "      <td>5366.730222</td>\n",
       "      <td>NaN</td>\n",
       "      <td>NaN</td>\n",
       "    </tr>\n",
       "    <tr>\n",
       "      <th>min</th>\n",
       "      <td>1.000000</td>\n",
       "      <td>NaN</td>\n",
       "      <td>NaN</td>\n",
       "    </tr>\n",
       "    <tr>\n",
       "      <th>25%</th>\n",
       "      <td>4599.750000</td>\n",
       "      <td>NaN</td>\n",
       "      <td>NaN</td>\n",
       "    </tr>\n",
       "    <tr>\n",
       "      <th>50%</th>\n",
       "      <td>9256.500000</td>\n",
       "      <td>NaN</td>\n",
       "      <td>NaN</td>\n",
       "    </tr>\n",
       "    <tr>\n",
       "      <th>75%</th>\n",
       "      <td>13907.250000</td>\n",
       "      <td>NaN</td>\n",
       "      <td>NaN</td>\n",
       "    </tr>\n",
       "    <tr>\n",
       "      <th>max</th>\n",
       "      <td>18552.000000</td>\n",
       "      <td>NaN</td>\n",
       "      <td>NaN</td>\n",
       "    </tr>\n",
       "  </tbody>\n",
       "</table>\n",
       "</div>"
      ],
      "text/plain": [
       "                  id    broadband_type broadband_name\n",
       "count   21076.000000             21076          21076\n",
       "unique           NaN                10             10\n",
       "top              NaN  broadband_type_8         ADSL 1\n",
       "freq             NaN             10268          10268\n",
       "mean     9255.869330               NaN            NaN\n",
       "std      5366.730222               NaN            NaN\n",
       "min         1.000000               NaN            NaN\n",
       "25%      4599.750000               NaN            NaN\n",
       "50%      9256.500000               NaN            NaN\n",
       "75%     13907.250000               NaN            NaN\n",
       "max     18552.000000               NaN            NaN"
      ]
     },
     "execution_count": 9,
     "metadata": {},
     "output_type": "execute_result"
    }
   ],
   "source": [
    "# description of the data\n",
    "broadband_df.describe(include='all')"
   ]
  },
  {
   "cell_type": "code",
   "execution_count": 10,
   "metadata": {
    "scrolled": true
   },
   "outputs": [
    {
     "name": "stdout",
     "output_type": "stream",
     "text": [
      "<class 'pandas.core.frame.DataFrame'>\n",
      "RangeIndex: 21076 entries, 0 to 21075\n",
      "Data columns (total 3 columns):\n",
      " #   Column          Non-Null Count  Dtype \n",
      "---  ------          --------------  ----- \n",
      " 0   id              21076 non-null  int64 \n",
      " 1   broadband_type  21076 non-null  object\n",
      " 2   broadband_name  21076 non-null  object\n",
      "dtypes: int64(1), object(2)\n",
      "memory usage: 494.1+ KB\n"
     ]
    }
   ],
   "source": [
    "# summary of the dataframe\n",
    "broadband_df.info()"
   ]
  },
  {
   "cell_type": "markdown",
   "metadata": {},
   "source": [
    ">Seems like id is being treated as int, i.e. as numerical but as we know it is a category and so are the other two columns. Hence changing the datatype in the next step"
   ]
  },
  {
   "cell_type": "code",
   "execution_count": 11,
   "metadata": {
    "scrolled": true
   },
   "outputs": [
    {
     "data": {
      "text/html": [
       "<div>\n",
       "<style scoped>\n",
       "    .dataframe tbody tr th:only-of-type {\n",
       "        vertical-align: middle;\n",
       "    }\n",
       "\n",
       "    .dataframe tbody tr th {\n",
       "        vertical-align: top;\n",
       "    }\n",
       "\n",
       "    .dataframe thead th {\n",
       "        text-align: right;\n",
       "    }\n",
       "</style>\n",
       "<table border=\"1\" class=\"dataframe\">\n",
       "  <thead>\n",
       "    <tr style=\"text-align: right;\">\n",
       "      <th></th>\n",
       "      <th>id</th>\n",
       "      <th>broadband_type</th>\n",
       "      <th>broadband_name</th>\n",
       "    </tr>\n",
       "  </thead>\n",
       "  <tbody>\n",
       "    <tr>\n",
       "      <th>0</th>\n",
       "      <td>6597</td>\n",
       "      <td>broadband_type_8</td>\n",
       "      <td>ADSL 1</td>\n",
       "    </tr>\n",
       "    <tr>\n",
       "      <th>1</th>\n",
       "      <td>8011</td>\n",
       "      <td>broadband_type_8</td>\n",
       "      <td>ADSL 1</td>\n",
       "    </tr>\n",
       "    <tr>\n",
       "      <th>2</th>\n",
       "      <td>2597</td>\n",
       "      <td>broadband_type_8</td>\n",
       "      <td>ADSL 1</td>\n",
       "    </tr>\n",
       "    <tr>\n",
       "      <th>3</th>\n",
       "      <td>5022</td>\n",
       "      <td>broadband_type_8</td>\n",
       "      <td>ADSL 1</td>\n",
       "    </tr>\n",
       "    <tr>\n",
       "      <th>4</th>\n",
       "      <td>6852</td>\n",
       "      <td>broadband_type_8</td>\n",
       "      <td>ADSL 1</td>\n",
       "    </tr>\n",
       "  </tbody>\n",
       "</table>\n",
       "</div>"
      ],
      "text/plain": [
       "     id    broadband_type broadband_name\n",
       "0  6597  broadband_type_8         ADSL 1\n",
       "1  8011  broadband_type_8         ADSL 1\n",
       "2  2597  broadband_type_8         ADSL 1\n",
       "3  5022  broadband_type_8         ADSL 1\n",
       "4  6852  broadband_type_8         ADSL 1"
      ]
     },
     "execution_count": 11,
     "metadata": {},
     "output_type": "execute_result"
    }
   ],
   "source": [
    "broadband_df = broadband_df.astype('category')\n",
    "broadband_df.head()"
   ]
  },
  {
   "cell_type": "code",
   "execution_count": 12,
   "metadata": {
    "scrolled": true
   },
   "outputs": [
    {
     "name": "stdout",
     "output_type": "stream",
     "text": [
      "<class 'pandas.core.frame.DataFrame'>\n",
      "RangeIndex: 21076 entries, 0 to 21075\n",
      "Data columns (total 3 columns):\n",
      " #   Column          Non-Null Count  Dtype   \n",
      "---  ------          --------------  -----   \n",
      " 0   id              21076 non-null  category\n",
      " 1   broadband_type  21076 non-null  category\n",
      " 2   broadband_name  21076 non-null  category\n",
      "dtypes: category(3)\n",
      "memory usage: 868.2 KB\n"
     ]
    }
   ],
   "source": [
    "broadband_df.info()"
   ]
  },
  {
   "cell_type": "code",
   "execution_count": 13,
   "metadata": {},
   "outputs": [
    {
     "data": {
      "image/png": "[encoded data removed]",
      "text/plain": [
       "<Figure size 504x288 with 1 Axes>"
      ]
     },
     "metadata": {},
     "output_type": "display_data"
    }
   ],
   "source": [
    "plt.figure(figsize=(7,4))\n",
    "broadband_df.broadband_name.value_counts().plot(kind='bar')\n",
    "plt.xlabel('Broadband Type')\n",
    "plt.ylabel('Count')\n",
    "plt.title('Distribution of the Broadband Types')\n",
    "plt.show()"
   ]
  },
  {
   "cell_type": "markdown",
   "metadata": {},
   "source": [
    "> On exploring the data set we find that the broadband company has recorded most of the complaints where the broadband type was Either ADSL 1 or ADSL 2 where the Fiber type of broadbands have registered the least complaints"
   ]
  },
  {
   "cell_type": "markdown",
   "metadata": {},
   "source": [
    "`Wrangling of data for model building`"
   ]
  },
  {
   "cell_type": "code",
   "execution_count": 14,
   "metadata": {},
   "outputs": [
    {
     "data": {
      "text/html": [
       "<div>\n",
       "<style scoped>\n",
       "    .dataframe tbody tr th:only-of-type {\n",
       "        vertical-align: middle;\n",
       "    }\n",
       "\n",
       "    .dataframe tbody tr th {\n",
       "        vertical-align: top;\n",
       "    }\n",
       "\n",
       "    .dataframe thead th {\n",
       "        text-align: right;\n",
       "    }\n",
       "</style>\n",
       "<table border=\"1\" class=\"dataframe\">\n",
       "  <thead>\n",
       "    <tr style=\"text-align: right;\">\n",
       "      <th>broadband_name</th>\n",
       "      <th>ADSL 1</th>\n",
       "      <th>ADSL 2</th>\n",
       "      <th>ADSL 2+</th>\n",
       "      <th>BPL</th>\n",
       "      <th>Cable</th>\n",
       "      <th>Fiber 1</th>\n",
       "      <th>Fiber 2</th>\n",
       "      <th>Fiber High Speed</th>\n",
       "      <th>Fiber Ultra</th>\n",
       "      <th>Fiber Ultra Max</th>\n",
       "    </tr>\n",
       "    <tr>\n",
       "      <th>id</th>\n",
       "      <th></th>\n",
       "      <th></th>\n",
       "      <th></th>\n",
       "      <th></th>\n",
       "      <th></th>\n",
       "      <th></th>\n",
       "      <th></th>\n",
       "      <th></th>\n",
       "      <th></th>\n",
       "      <th></th>\n",
       "    </tr>\n",
       "  </thead>\n",
       "  <tbody>\n",
       "    <tr>\n",
       "      <th>1</th>\n",
       "      <td>1</td>\n",
       "      <td>0</td>\n",
       "      <td>1</td>\n",
       "      <td>0</td>\n",
       "      <td>0</td>\n",
       "      <td>0</td>\n",
       "      <td>0</td>\n",
       "      <td>0</td>\n",
       "      <td>0</td>\n",
       "      <td>0</td>\n",
       "    </tr>\n",
       "    <tr>\n",
       "      <th>2</th>\n",
       "      <td>0</td>\n",
       "      <td>1</td>\n",
       "      <td>0</td>\n",
       "      <td>0</td>\n",
       "      <td>0</td>\n",
       "      <td>0</td>\n",
       "      <td>0</td>\n",
       "      <td>0</td>\n",
       "      <td>0</td>\n",
       "      <td>0</td>\n",
       "    </tr>\n",
       "    <tr>\n",
       "      <th>3</th>\n",
       "      <td>1</td>\n",
       "      <td>0</td>\n",
       "      <td>0</td>\n",
       "      <td>0</td>\n",
       "      <td>0</td>\n",
       "      <td>0</td>\n",
       "      <td>0</td>\n",
       "      <td>0</td>\n",
       "      <td>0</td>\n",
       "      <td>0</td>\n",
       "    </tr>\n",
       "    <tr>\n",
       "      <th>4</th>\n",
       "      <td>0</td>\n",
       "      <td>1</td>\n",
       "      <td>0</td>\n",
       "      <td>0</td>\n",
       "      <td>0</td>\n",
       "      <td>0</td>\n",
       "      <td>0</td>\n",
       "      <td>0</td>\n",
       "      <td>0</td>\n",
       "      <td>0</td>\n",
       "    </tr>\n",
       "    <tr>\n",
       "      <th>5</th>\n",
       "      <td>0</td>\n",
       "      <td>1</td>\n",
       "      <td>0</td>\n",
       "      <td>0</td>\n",
       "      <td>0</td>\n",
       "      <td>0</td>\n",
       "      <td>0</td>\n",
       "      <td>0</td>\n",
       "      <td>0</td>\n",
       "      <td>0</td>\n",
       "    </tr>\n",
       "  </tbody>\n",
       "</table>\n",
       "</div>"
      ],
      "text/plain": [
       "broadband_name  ADSL 1  ADSL 2  ADSL 2+  BPL  Cable  Fiber 1  Fiber 2  \\\n",
       "id                                                                      \n",
       "1                    1       0        1    0      0        0        0   \n",
       "2                    0       1        0    0      0        0        0   \n",
       "3                    1       0        0    0      0        0        0   \n",
       "4                    0       1        0    0      0        0        0   \n",
       "5                    0       1        0    0      0        0        0   \n",
       "\n",
       "broadband_name  Fiber High Speed  Fiber Ultra  Fiber Ultra Max  \n",
       "id                                                              \n",
       "1                              0            0                0  \n",
       "2                              0            0                0  \n",
       "3                              0            0                0  \n",
       "4                              0            0                0  \n",
       "5                              0            0                0  "
      ]
     },
     "execution_count": 14,
     "metadata": {},
     "output_type": "execute_result"
    }
   ],
   "source": [
    "# transforming the categorical columns to numerical as needed for the model building\n",
    "broadband_df = broadband_df[['id','broadband_name']].pivot_table(values='broadband_name',index='id',columns='broadband_name',fill_value=0,aggfunc=len)\n",
    "broadband_df.head()"
   ]
  },
  {
   "cell_type": "code",
   "execution_count": 15,
   "metadata": {},
   "outputs": [
    {
     "data": {
      "text/html": [
       "<div>\n",
       "<style scoped>\n",
       "    .dataframe tbody tr th:only-of-type {\n",
       "        vertical-align: middle;\n",
       "    }\n",
       "\n",
       "    .dataframe tbody tr th {\n",
       "        vertical-align: top;\n",
       "    }\n",
       "\n",
       "    .dataframe thead th {\n",
       "        text-align: right;\n",
       "    }\n",
       "</style>\n",
       "<table border=\"1\" class=\"dataframe\">\n",
       "  <thead>\n",
       "    <tr style=\"text-align: right;\">\n",
       "      <th></th>\n",
       "      <th>ADSL 1</th>\n",
       "      <th>ADSL 2</th>\n",
       "      <th>ADSL 2+</th>\n",
       "      <th>BPL</th>\n",
       "      <th>Cable</th>\n",
       "      <th>Fiber 1</th>\n",
       "      <th>Fiber 2</th>\n",
       "      <th>Fiber High Speed</th>\n",
       "      <th>Fiber Ultra</th>\n",
       "      <th>Fiber Ultra Max</th>\n",
       "    </tr>\n",
       "    <tr>\n",
       "      <th>id</th>\n",
       "      <th></th>\n",
       "      <th></th>\n",
       "      <th></th>\n",
       "      <th></th>\n",
       "      <th></th>\n",
       "      <th></th>\n",
       "      <th></th>\n",
       "      <th></th>\n",
       "      <th></th>\n",
       "      <th></th>\n",
       "    </tr>\n",
       "  </thead>\n",
       "  <tbody>\n",
       "    <tr>\n",
       "      <th>1</th>\n",
       "      <td>1</td>\n",
       "      <td>0</td>\n",
       "      <td>1</td>\n",
       "      <td>0</td>\n",
       "      <td>0</td>\n",
       "      <td>0</td>\n",
       "      <td>0</td>\n",
       "      <td>0</td>\n",
       "      <td>0</td>\n",
       "      <td>0</td>\n",
       "    </tr>\n",
       "    <tr>\n",
       "      <th>2</th>\n",
       "      <td>0</td>\n",
       "      <td>1</td>\n",
       "      <td>0</td>\n",
       "      <td>0</td>\n",
       "      <td>0</td>\n",
       "      <td>0</td>\n",
       "      <td>0</td>\n",
       "      <td>0</td>\n",
       "      <td>0</td>\n",
       "      <td>0</td>\n",
       "    </tr>\n",
       "    <tr>\n",
       "      <th>3</th>\n",
       "      <td>1</td>\n",
       "      <td>0</td>\n",
       "      <td>0</td>\n",
       "      <td>0</td>\n",
       "      <td>0</td>\n",
       "      <td>0</td>\n",
       "      <td>0</td>\n",
       "      <td>0</td>\n",
       "      <td>0</td>\n",
       "      <td>0</td>\n",
       "    </tr>\n",
       "    <tr>\n",
       "      <th>4</th>\n",
       "      <td>0</td>\n",
       "      <td>1</td>\n",
       "      <td>0</td>\n",
       "      <td>0</td>\n",
       "      <td>0</td>\n",
       "      <td>0</td>\n",
       "      <td>0</td>\n",
       "      <td>0</td>\n",
       "      <td>0</td>\n",
       "      <td>0</td>\n",
       "    </tr>\n",
       "    <tr>\n",
       "      <th>5</th>\n",
       "      <td>0</td>\n",
       "      <td>1</td>\n",
       "      <td>0</td>\n",
       "      <td>0</td>\n",
       "      <td>0</td>\n",
       "      <td>0</td>\n",
       "      <td>0</td>\n",
       "      <td>0</td>\n",
       "      <td>0</td>\n",
       "      <td>0</td>\n",
       "    </tr>\n",
       "  </tbody>\n",
       "</table>\n",
       "</div>"
      ],
      "text/plain": [
       "    ADSL 1  ADSL 2  ADSL 2+  BPL  Cable  Fiber 1  Fiber 2  Fiber High Speed  \\\n",
       "id                                                                            \n",
       "1        1       0        1    0      0        0        0                 0   \n",
       "2        0       1        0    0      0        0        0                 0   \n",
       "3        1       0        0    0      0        0        0                 0   \n",
       "4        0       1        0    0      0        0        0                 0   \n",
       "5        0       1        0    0      0        0        0                 0   \n",
       "\n",
       "    Fiber Ultra  Fiber Ultra Max  \n",
       "id                                \n",
       "1             0                0  \n",
       "2             0                0  \n",
       "3             0                0  \n",
       "4             0                0  \n",
       "5             0                0  "
      ]
     },
     "execution_count": 15,
     "metadata": {},
     "output_type": "execute_result"
    }
   ],
   "source": [
    "broadband_df.columns = broadband_df.columns.categories\n",
    "broadband_df.head()"
   ]
  },
  {
   "cell_type": "code",
   "execution_count": 16,
   "metadata": {
    "scrolled": true
   },
   "outputs": [
    {
     "data": {
      "text/html": [
       "<div>\n",
       "<style scoped>\n",
       "    .dataframe tbody tr th:only-of-type {\n",
       "        vertical-align: middle;\n",
       "    }\n",
       "\n",
       "    .dataframe tbody tr th {\n",
       "        vertical-align: top;\n",
       "    }\n",
       "\n",
       "    .dataframe thead th {\n",
       "        text-align: right;\n",
       "    }\n",
       "</style>\n",
       "<table border=\"1\" class=\"dataframe\">\n",
       "  <thead>\n",
       "    <tr style=\"text-align: right;\">\n",
       "      <th></th>\n",
       "      <th>id</th>\n",
       "      <th>ADSL 1</th>\n",
       "      <th>ADSL 2</th>\n",
       "      <th>ADSL 2+</th>\n",
       "      <th>BPL</th>\n",
       "      <th>Cable</th>\n",
       "      <th>Fiber 1</th>\n",
       "      <th>Fiber 2</th>\n",
       "      <th>Fiber High Speed</th>\n",
       "      <th>Fiber Ultra</th>\n",
       "      <th>Fiber Ultra Max</th>\n",
       "    </tr>\n",
       "  </thead>\n",
       "  <tbody>\n",
       "    <tr>\n",
       "      <th>0</th>\n",
       "      <td>1</td>\n",
       "      <td>1</td>\n",
       "      <td>0</td>\n",
       "      <td>1</td>\n",
       "      <td>0</td>\n",
       "      <td>0</td>\n",
       "      <td>0</td>\n",
       "      <td>0</td>\n",
       "      <td>0</td>\n",
       "      <td>0</td>\n",
       "      <td>0</td>\n",
       "    </tr>\n",
       "    <tr>\n",
       "      <th>1</th>\n",
       "      <td>2</td>\n",
       "      <td>0</td>\n",
       "      <td>1</td>\n",
       "      <td>0</td>\n",
       "      <td>0</td>\n",
       "      <td>0</td>\n",
       "      <td>0</td>\n",
       "      <td>0</td>\n",
       "      <td>0</td>\n",
       "      <td>0</td>\n",
       "      <td>0</td>\n",
       "    </tr>\n",
       "    <tr>\n",
       "      <th>2</th>\n",
       "      <td>3</td>\n",
       "      <td>1</td>\n",
       "      <td>0</td>\n",
       "      <td>0</td>\n",
       "      <td>0</td>\n",
       "      <td>0</td>\n",
       "      <td>0</td>\n",
       "      <td>0</td>\n",
       "      <td>0</td>\n",
       "      <td>0</td>\n",
       "      <td>0</td>\n",
       "    </tr>\n",
       "    <tr>\n",
       "      <th>3</th>\n",
       "      <td>4</td>\n",
       "      <td>0</td>\n",
       "      <td>1</td>\n",
       "      <td>0</td>\n",
       "      <td>0</td>\n",
       "      <td>0</td>\n",
       "      <td>0</td>\n",
       "      <td>0</td>\n",
       "      <td>0</td>\n",
       "      <td>0</td>\n",
       "      <td>0</td>\n",
       "    </tr>\n",
       "    <tr>\n",
       "      <th>4</th>\n",
       "      <td>5</td>\n",
       "      <td>0</td>\n",
       "      <td>1</td>\n",
       "      <td>0</td>\n",
       "      <td>0</td>\n",
       "      <td>0</td>\n",
       "      <td>0</td>\n",
       "      <td>0</td>\n",
       "      <td>0</td>\n",
       "      <td>0</td>\n",
       "      <td>0</td>\n",
       "    </tr>\n",
       "  </tbody>\n",
       "</table>\n",
       "</div>"
      ],
      "text/plain": [
       "  id  ADSL 1  ADSL 2  ADSL 2+  BPL  Cable  Fiber 1  Fiber 2  Fiber High Speed  \\\n",
       "0  1       1       0        1    0      0        0        0                 0   \n",
       "1  2       0       1        0    0      0        0        0                 0   \n",
       "2  3       1       0        0    0      0        0        0                 0   \n",
       "3  4       0       1        0    0      0        0        0                 0   \n",
       "4  5       0       1        0    0      0        0        0                 0   \n",
       "\n",
       "   Fiber Ultra  Fiber Ultra Max  \n",
       "0            0                0  \n",
       "1            0                0  \n",
       "2            0                0  \n",
       "3            0                0  \n",
       "4            0                0  "
      ]
     },
     "execution_count": 16,
     "metadata": {},
     "output_type": "execute_result"
    }
   ],
   "source": [
    "broadband_df.reset_index(inplace=True)\n",
    "broadband_df.head()"
   ]
  },
  {
   "cell_type": "code",
   "execution_count": 17,
   "metadata": {},
   "outputs": [
    {
     "data": {
      "text/plain": [
       "False"
      ]
     },
     "execution_count": 17,
     "metadata": {},
     "output_type": "execute_result"
    }
   ],
   "source": [
    "# Checking for nulls in the data\n",
    "broadband_df.isnull().values.any()"
   ]
  },
  {
   "cell_type": "code",
   "execution_count": 18,
   "metadata": {},
   "outputs": [
    {
     "data": {
      "text/plain": [
       "(18552, 11)"
      ]
     },
     "execution_count": 18,
     "metadata": {},
     "output_type": "execute_result"
    }
   ],
   "source": [
    "broadband_df.shape"
   ]
  },
  {
   "cell_type": "markdown",
   "metadata": {},
   "source": [
    "#### 3.2 Outage data"
   ]
  },
  {
   "cell_type": "code",
   "execution_count": 19,
   "metadata": {
    "scrolled": true
   },
   "outputs": [
    {
     "data": {
      "text/html": [
       "<div>\n",
       "<style scoped>\n",
       "    .dataframe tbody tr th:only-of-type {\n",
       "        vertical-align: middle;\n",
       "    }\n",
       "\n",
       "    .dataframe tbody tr th {\n",
       "        vertical-align: top;\n",
       "    }\n",
       "\n",
       "    .dataframe thead th {\n",
       "        text-align: right;\n",
       "    }\n",
       "</style>\n",
       "<table border=\"1\" class=\"dataframe\">\n",
       "  <thead>\n",
       "    <tr style=\"text-align: right;\">\n",
       "      <th></th>\n",
       "      <th>id</th>\n",
       "      <th>outage_type</th>\n",
       "    </tr>\n",
       "  </thead>\n",
       "  <tbody>\n",
       "    <tr>\n",
       "      <th>0</th>\n",
       "      <td>6597</td>\n",
       "      <td>outage_type_2</td>\n",
       "    </tr>\n",
       "    <tr>\n",
       "      <th>1</th>\n",
       "      <td>8011</td>\n",
       "      <td>outage_type_2</td>\n",
       "    </tr>\n",
       "    <tr>\n",
       "      <th>2</th>\n",
       "      <td>2597</td>\n",
       "      <td>outage_type_2</td>\n",
       "    </tr>\n",
       "    <tr>\n",
       "      <th>3</th>\n",
       "      <td>5022</td>\n",
       "      <td>outage_type_1</td>\n",
       "    </tr>\n",
       "    <tr>\n",
       "      <th>4</th>\n",
       "      <td>6852</td>\n",
       "      <td>outage_type_1</td>\n",
       "    </tr>\n",
       "  </tbody>\n",
       "</table>\n",
       "</div>"
      ],
      "text/plain": [
       "     id    outage_type\n",
       "0  6597  outage_type_2\n",
       "1  8011  outage_type_2\n",
       "2  2597  outage_type_2\n",
       "3  5022  outage_type_1\n",
       "4  6852  outage_type_1"
      ]
     },
     "execution_count": 19,
     "metadata": {},
     "output_type": "execute_result"
    }
   ],
   "source": [
    "outage_df.head()"
   ]
  },
  {
   "cell_type": "code",
   "execution_count": 20,
   "metadata": {},
   "outputs": [
    {
     "data": {
      "text/plain": [
       "(18552, 2)"
      ]
     },
     "execution_count": 20,
     "metadata": {},
     "output_type": "execute_result"
    }
   ],
   "source": [
    "# shape of the data\n",
    "outage_df.shape"
   ]
  },
  {
   "cell_type": "code",
   "execution_count": 21,
   "metadata": {
    "scrolled": true
   },
   "outputs": [
    {
     "name": "stdout",
     "output_type": "stream",
     "text": [
      "<class 'pandas.core.frame.DataFrame'>\n",
      "RangeIndex: 18552 entries, 0 to 18551\n",
      "Data columns (total 2 columns):\n",
      " #   Column       Non-Null Count  Dtype \n",
      "---  ------       --------------  ----- \n",
      " 0   id           18552 non-null  int64 \n",
      " 1   outage_type  18552 non-null  object\n",
      "dtypes: int64(1), object(1)\n",
      "memory usage: 290.0+ KB\n"
     ]
    }
   ],
   "source": [
    "# summary of the dataset\n",
    "outage_df.info()"
   ]
  },
  {
   "cell_type": "markdown",
   "metadata": {},
   "source": [
    ">Seems like id is being treated as int, i.e. as numerical but as we know it is a category and so are the other two columns. Hence changing the datatype in the next step"
   ]
  },
  {
   "cell_type": "code",
   "execution_count": 22,
   "metadata": {},
   "outputs": [],
   "source": [
    "# changing the data type of the columns\n",
    "outage_df = outage_df.astype('category')"
   ]
  },
  {
   "cell_type": "code",
   "execution_count": 23,
   "metadata": {
    "scrolled": false
   },
   "outputs": [
    {
     "data": {
      "text/html": [
       "<div>\n",
       "<style scoped>\n",
       "    .dataframe tbody tr th:only-of-type {\n",
       "        vertical-align: middle;\n",
       "    }\n",
       "\n",
       "    .dataframe tbody tr th {\n",
       "        vertical-align: top;\n",
       "    }\n",
       "\n",
       "    .dataframe thead th {\n",
       "        text-align: right;\n",
       "    }\n",
       "</style>\n",
       "<table border=\"1\" class=\"dataframe\">\n",
       "  <thead>\n",
       "    <tr style=\"text-align: right;\">\n",
       "      <th></th>\n",
       "      <th>id</th>\n",
       "      <th>outage_type</th>\n",
       "    </tr>\n",
       "  </thead>\n",
       "  <tbody>\n",
       "    <tr>\n",
       "      <th>count</th>\n",
       "      <td>18552</td>\n",
       "      <td>18552</td>\n",
       "    </tr>\n",
       "    <tr>\n",
       "      <th>unique</th>\n",
       "      <td>18552</td>\n",
       "      <td>5</td>\n",
       "    </tr>\n",
       "    <tr>\n",
       "      <th>top</th>\n",
       "      <td>18552</td>\n",
       "      <td>outage_type_2</td>\n",
       "    </tr>\n",
       "    <tr>\n",
       "      <th>freq</th>\n",
       "      <td>1</td>\n",
       "      <td>8737</td>\n",
       "    </tr>\n",
       "  </tbody>\n",
       "</table>\n",
       "</div>"
      ],
      "text/plain": [
       "           id    outage_type\n",
       "count   18552          18552\n",
       "unique  18552              5\n",
       "top     18552  outage_type_2\n",
       "freq        1           8737"
      ]
     },
     "execution_count": 23,
     "metadata": {},
     "output_type": "execute_result"
    }
   ],
   "source": [
    "# description of the data\n",
    "outage_df.describe(include='all')"
   ]
  },
  {
   "cell_type": "markdown",
   "metadata": {},
   "source": [
    "Above cell indicates\n",
    "1. All the ids are unique\n",
    "2. Most frequent outage type is `outage_type_2` which has occurred `8737` times"
   ]
  },
  {
   "cell_type": "code",
   "execution_count": 24,
   "metadata": {},
   "outputs": [
    {
     "data": {
      "text/plain": [
       "outage_type_2    8737\n",
       "outage_type_1    8728\n",
       "outage_type_4    1014\n",
       "outage_type_5      65\n",
       "outage_type_3       8\n",
       "Name: outage_type, dtype: int64"
      ]
     },
     "execution_count": 24,
     "metadata": {},
     "output_type": "execute_result"
    }
   ],
   "source": [
    "# The frequency of each outage type\n",
    "outage_df.outage_type.value_counts()"
   ]
  },
  {
   "cell_type": "code",
   "execution_count": 25,
   "metadata": {
    "scrolled": true
   },
   "outputs": [
    {
     "data": {
      "image/png": "[encoded data removed]",
      "text/plain": [
       "<Figure size 504x288 with 1 Axes>"
      ]
     },
     "metadata": {},
     "output_type": "display_data"
    }
   ],
   "source": [
    "# Plotting the frequency from the above cell\n",
    "plt.figure(figsize=(7,4))\n",
    "outage_df.outage_type.value_counts(ascending=True).plot(kind='barh')\n",
    "plt.ylabel('Outage Type')\n",
    "plt.xlabel('Count')\n",
    "plt.title('Distribution of the Outage Types')\n",
    "plt.show()"
   ]
  },
  {
   "cell_type": "markdown",
   "metadata": {},
   "source": [
    "> `outage_type_1` and `outage_type_2` seems to be most frequent whereas `outage_type_5` and `outage_type_3` are the least"
   ]
  },
  {
   "cell_type": "markdown",
   "metadata": {},
   "source": [
    "`Wrangling the data for model building`"
   ]
  },
  {
   "cell_type": "code",
   "execution_count": 26,
   "metadata": {},
   "outputs": [
    {
     "data": {
      "text/html": [
       "<div>\n",
       "<style scoped>\n",
       "    .dataframe tbody tr th:only-of-type {\n",
       "        vertical-align: middle;\n",
       "    }\n",
       "\n",
       "    .dataframe tbody tr th {\n",
       "        vertical-align: top;\n",
       "    }\n",
       "\n",
       "    .dataframe thead th {\n",
       "        text-align: right;\n",
       "    }\n",
       "</style>\n",
       "<table border=\"1\" class=\"dataframe\">\n",
       "  <thead>\n",
       "    <tr style=\"text-align: right;\">\n",
       "      <th>outage_type</th>\n",
       "      <th>outage_type_1</th>\n",
       "      <th>outage_type_2</th>\n",
       "      <th>outage_type_3</th>\n",
       "      <th>outage_type_4</th>\n",
       "      <th>outage_type_5</th>\n",
       "    </tr>\n",
       "    <tr>\n",
       "      <th>id</th>\n",
       "      <th></th>\n",
       "      <th></th>\n",
       "      <th></th>\n",
       "      <th></th>\n",
       "      <th></th>\n",
       "    </tr>\n",
       "  </thead>\n",
       "  <tbody>\n",
       "    <tr>\n",
       "      <th>1</th>\n",
       "      <td>1</td>\n",
       "      <td>0</td>\n",
       "      <td>0</td>\n",
       "      <td>0</td>\n",
       "      <td>0</td>\n",
       "    </tr>\n",
       "    <tr>\n",
       "      <th>2</th>\n",
       "      <td>0</td>\n",
       "      <td>1</td>\n",
       "      <td>0</td>\n",
       "      <td>0</td>\n",
       "      <td>0</td>\n",
       "    </tr>\n",
       "    <tr>\n",
       "      <th>3</th>\n",
       "      <td>1</td>\n",
       "      <td>0</td>\n",
       "      <td>0</td>\n",
       "      <td>0</td>\n",
       "      <td>0</td>\n",
       "    </tr>\n",
       "    <tr>\n",
       "      <th>4</th>\n",
       "      <td>0</td>\n",
       "      <td>0</td>\n",
       "      <td>0</td>\n",
       "      <td>1</td>\n",
       "      <td>0</td>\n",
       "    </tr>\n",
       "    <tr>\n",
       "      <th>5</th>\n",
       "      <td>0</td>\n",
       "      <td>1</td>\n",
       "      <td>0</td>\n",
       "      <td>0</td>\n",
       "      <td>0</td>\n",
       "    </tr>\n",
       "  </tbody>\n",
       "</table>\n",
       "</div>"
      ],
      "text/plain": [
       "outage_type  outage_type_1  outage_type_2  outage_type_3  outage_type_4  \\\n",
       "id                                                                        \n",
       "1                        1              0              0              0   \n",
       "2                        0              1              0              0   \n",
       "3                        1              0              0              0   \n",
       "4                        0              0              0              1   \n",
       "5                        0              1              0              0   \n",
       "\n",
       "outage_type  outage_type_5  \n",
       "id                          \n",
       "1                        0  \n",
       "2                        0  \n",
       "3                        0  \n",
       "4                        0  \n",
       "5                        0  "
      ]
     },
     "execution_count": 26,
     "metadata": {},
     "output_type": "execute_result"
    }
   ],
   "source": [
    "outage_df = outage_df.pivot_table(values='outage_type',index='id',columns='outage_type',fill_value=0,aggfunc=len)\n",
    "outage_df.head()"
   ]
  },
  {
   "cell_type": "code",
   "execution_count": 27,
   "metadata": {},
   "outputs": [
    {
     "data": {
      "text/html": [
       "<div>\n",
       "<style scoped>\n",
       "    .dataframe tbody tr th:only-of-type {\n",
       "        vertical-align: middle;\n",
       "    }\n",
       "\n",
       "    .dataframe tbody tr th {\n",
       "        vertical-align: top;\n",
       "    }\n",
       "\n",
       "    .dataframe thead th {\n",
       "        text-align: right;\n",
       "    }\n",
       "</style>\n",
       "<table border=\"1\" class=\"dataframe\">\n",
       "  <thead>\n",
       "    <tr style=\"text-align: right;\">\n",
       "      <th></th>\n",
       "      <th>outage_type_1</th>\n",
       "      <th>outage_type_2</th>\n",
       "      <th>outage_type_3</th>\n",
       "      <th>outage_type_4</th>\n",
       "      <th>outage_type_5</th>\n",
       "    </tr>\n",
       "    <tr>\n",
       "      <th>id</th>\n",
       "      <th></th>\n",
       "      <th></th>\n",
       "      <th></th>\n",
       "      <th></th>\n",
       "      <th></th>\n",
       "    </tr>\n",
       "  </thead>\n",
       "  <tbody>\n",
       "    <tr>\n",
       "      <th>1</th>\n",
       "      <td>1</td>\n",
       "      <td>0</td>\n",
       "      <td>0</td>\n",
       "      <td>0</td>\n",
       "      <td>0</td>\n",
       "    </tr>\n",
       "    <tr>\n",
       "      <th>2</th>\n",
       "      <td>0</td>\n",
       "      <td>1</td>\n",
       "      <td>0</td>\n",
       "      <td>0</td>\n",
       "      <td>0</td>\n",
       "    </tr>\n",
       "    <tr>\n",
       "      <th>3</th>\n",
       "      <td>1</td>\n",
       "      <td>0</td>\n",
       "      <td>0</td>\n",
       "      <td>0</td>\n",
       "      <td>0</td>\n",
       "    </tr>\n",
       "    <tr>\n",
       "      <th>4</th>\n",
       "      <td>0</td>\n",
       "      <td>0</td>\n",
       "      <td>0</td>\n",
       "      <td>1</td>\n",
       "      <td>0</td>\n",
       "    </tr>\n",
       "    <tr>\n",
       "      <th>5</th>\n",
       "      <td>0</td>\n",
       "      <td>1</td>\n",
       "      <td>0</td>\n",
       "      <td>0</td>\n",
       "      <td>0</td>\n",
       "    </tr>\n",
       "  </tbody>\n",
       "</table>\n",
       "</div>"
      ],
      "text/plain": [
       "    outage_type_1  outage_type_2  outage_type_3  outage_type_4  outage_type_5\n",
       "id                                                                           \n",
       "1               1              0              0              0              0\n",
       "2               0              1              0              0              0\n",
       "3               1              0              0              0              0\n",
       "4               0              0              0              1              0\n",
       "5               0              1              0              0              0"
      ]
     },
     "execution_count": 27,
     "metadata": {},
     "output_type": "execute_result"
    }
   ],
   "source": [
    "outage_df.columns = outage_df.columns.categories\n",
    "outage_df.head()"
   ]
  },
  {
   "cell_type": "code",
   "execution_count": 28,
   "metadata": {},
   "outputs": [
    {
     "data": {
      "text/html": [
       "<div>\n",
       "<style scoped>\n",
       "    .dataframe tbody tr th:only-of-type {\n",
       "        vertical-align: middle;\n",
       "    }\n",
       "\n",
       "    .dataframe tbody tr th {\n",
       "        vertical-align: top;\n",
       "    }\n",
       "\n",
       "    .dataframe thead th {\n",
       "        text-align: right;\n",
       "    }\n",
       "</style>\n",
       "<table border=\"1\" class=\"dataframe\">\n",
       "  <thead>\n",
       "    <tr style=\"text-align: right;\">\n",
       "      <th></th>\n",
       "      <th>id</th>\n",
       "      <th>outage_type_1</th>\n",
       "      <th>outage_type_2</th>\n",
       "      <th>outage_type_3</th>\n",
       "      <th>outage_type_4</th>\n",
       "      <th>outage_type_5</th>\n",
       "    </tr>\n",
       "  </thead>\n",
       "  <tbody>\n",
       "    <tr>\n",
       "      <th>0</th>\n",
       "      <td>1</td>\n",
       "      <td>1</td>\n",
       "      <td>0</td>\n",
       "      <td>0</td>\n",
       "      <td>0</td>\n",
       "      <td>0</td>\n",
       "    </tr>\n",
       "    <tr>\n",
       "      <th>1</th>\n",
       "      <td>2</td>\n",
       "      <td>0</td>\n",
       "      <td>1</td>\n",
       "      <td>0</td>\n",
       "      <td>0</td>\n",
       "      <td>0</td>\n",
       "    </tr>\n",
       "    <tr>\n",
       "      <th>2</th>\n",
       "      <td>3</td>\n",
       "      <td>1</td>\n",
       "      <td>0</td>\n",
       "      <td>0</td>\n",
       "      <td>0</td>\n",
       "      <td>0</td>\n",
       "    </tr>\n",
       "    <tr>\n",
       "      <th>3</th>\n",
       "      <td>4</td>\n",
       "      <td>0</td>\n",
       "      <td>0</td>\n",
       "      <td>0</td>\n",
       "      <td>1</td>\n",
       "      <td>0</td>\n",
       "    </tr>\n",
       "    <tr>\n",
       "      <th>4</th>\n",
       "      <td>5</td>\n",
       "      <td>0</td>\n",
       "      <td>1</td>\n",
       "      <td>0</td>\n",
       "      <td>0</td>\n",
       "      <td>0</td>\n",
       "    </tr>\n",
       "  </tbody>\n",
       "</table>\n",
       "</div>"
      ],
      "text/plain": [
       "  id  outage_type_1  outage_type_2  outage_type_3  outage_type_4  \\\n",
       "0  1              1              0              0              0   \n",
       "1  2              0              1              0              0   \n",
       "2  3              1              0              0              0   \n",
       "3  4              0              0              0              1   \n",
       "4  5              0              1              0              0   \n",
       "\n",
       "   outage_type_5  \n",
       "0              0  \n",
       "1              0  \n",
       "2              0  \n",
       "3              0  \n",
       "4              0  "
      ]
     },
     "execution_count": 28,
     "metadata": {},
     "output_type": "execute_result"
    }
   ],
   "source": [
    "outage_df.reset_index(inplace=True)\n",
    "outage_df.head()"
   ]
  },
  {
   "cell_type": "code",
   "execution_count": 29,
   "metadata": {
    "scrolled": true
   },
   "outputs": [
    {
     "data": {
      "text/plain": [
       "False"
      ]
     },
     "execution_count": 29,
     "metadata": {},
     "output_type": "execute_result"
    }
   ],
   "source": [
    "# Checking for any nulls\n",
    "outage_df.isnull().values.any()"
   ]
  },
  {
   "cell_type": "code",
   "execution_count": 30,
   "metadata": {},
   "outputs": [
    {
     "data": {
      "text/plain": [
       "(18552, 6)"
      ]
     },
     "execution_count": 30,
     "metadata": {},
     "output_type": "execute_result"
    }
   ],
   "source": [
    "# Final shape after processing\n",
    "outage_df.shape"
   ]
  },
  {
   "cell_type": "markdown",
   "metadata": {},
   "source": [
    "#### 3.3 Report data"
   ]
  },
  {
   "cell_type": "code",
   "execution_count": 31,
   "metadata": {},
   "outputs": [
    {
     "data": {
      "text/plain": [
       "(58671, 3)"
      ]
     },
     "execution_count": 31,
     "metadata": {},
     "output_type": "execute_result"
    }
   ],
   "source": [
    "#Initial shape of the data\n",
    "report_df.shape"
   ]
  },
  {
   "cell_type": "code",
   "execution_count": 32,
   "metadata": {},
   "outputs": [
    {
     "name": "stdout",
     "output_type": "stream",
     "text": [
      "<class 'pandas.core.frame.DataFrame'>\n",
      "RangeIndex: 58671 entries, 0 to 58670\n",
      "Data columns (total 3 columns):\n",
      " #   Column           Non-Null Count  Dtype \n",
      "---  ------           --------------  ----- \n",
      " 0   id               58671 non-null  int64 \n",
      " 1   log_report_type  58671 non-null  object\n",
      " 2   volume           58671 non-null  int64 \n",
      "dtypes: int64(2), object(1)\n",
      "memory usage: 1.3+ MB\n"
     ]
    }
   ],
   "source": [
    "# Summary of the data\n",
    "report_df.info()"
   ]
  },
  {
   "cell_type": "markdown",
   "metadata": {},
   "source": [
    "> `id` and `log_report_type` are of type category but it is currently of type int64 and object respectively."
   ]
  },
  {
   "cell_type": "code",
   "execution_count": 33,
   "metadata": {},
   "outputs": [],
   "source": [
    "# Changing the data type of the columns mention above\n",
    "report_df[['id','log_report_type']] = report_df[['id','log_report_type']].astype('category')"
   ]
  },
  {
   "cell_type": "code",
   "execution_count": 34,
   "metadata": {
    "scrolled": false
   },
   "outputs": [
    {
     "data": {
      "text/html": [
       "<div>\n",
       "<style scoped>\n",
       "    .dataframe tbody tr th:only-of-type {\n",
       "        vertical-align: middle;\n",
       "    }\n",
       "\n",
       "    .dataframe tbody tr th {\n",
       "        vertical-align: top;\n",
       "    }\n",
       "\n",
       "    .dataframe thead th {\n",
       "        text-align: right;\n",
       "    }\n",
       "</style>\n",
       "<table border=\"1\" class=\"dataframe\">\n",
       "  <thead>\n",
       "    <tr style=\"text-align: right;\">\n",
       "      <th></th>\n",
       "      <th>id</th>\n",
       "      <th>log_report_type</th>\n",
       "      <th>volume</th>\n",
       "    </tr>\n",
       "  </thead>\n",
       "  <tbody>\n",
       "    <tr>\n",
       "      <th>count</th>\n",
       "      <td>58671.0</td>\n",
       "      <td>58671</td>\n",
       "      <td>58671.000000</td>\n",
       "    </tr>\n",
       "    <tr>\n",
       "      <th>unique</th>\n",
       "      <td>18552.0</td>\n",
       "      <td>386</td>\n",
       "      <td>NaN</td>\n",
       "    </tr>\n",
       "    <tr>\n",
       "      <th>top</th>\n",
       "      <td>15184.0</td>\n",
       "      <td>log_report_type_312</td>\n",
       "      <td>NaN</td>\n",
       "    </tr>\n",
       "    <tr>\n",
       "      <th>freq</th>\n",
       "      <td>20.0</td>\n",
       "      <td>5267</td>\n",
       "      <td>NaN</td>\n",
       "    </tr>\n",
       "    <tr>\n",
       "      <th>mean</th>\n",
       "      <td>NaN</td>\n",
       "      <td>NaN</td>\n",
       "      <td>9.685296</td>\n",
       "    </tr>\n",
       "    <tr>\n",
       "      <th>std</th>\n",
       "      <td>NaN</td>\n",
       "      <td>NaN</td>\n",
       "      <td>27.314433</td>\n",
       "    </tr>\n",
       "    <tr>\n",
       "      <th>min</th>\n",
       "      <td>NaN</td>\n",
       "      <td>NaN</td>\n",
       "      <td>1.000000</td>\n",
       "    </tr>\n",
       "    <tr>\n",
       "      <th>25%</th>\n",
       "      <td>NaN</td>\n",
       "      <td>NaN</td>\n",
       "      <td>1.000000</td>\n",
       "    </tr>\n",
       "    <tr>\n",
       "      <th>50%</th>\n",
       "      <td>NaN</td>\n",
       "      <td>NaN</td>\n",
       "      <td>2.000000</td>\n",
       "    </tr>\n",
       "    <tr>\n",
       "      <th>75%</th>\n",
       "      <td>NaN</td>\n",
       "      <td>NaN</td>\n",
       "      <td>7.000000</td>\n",
       "    </tr>\n",
       "    <tr>\n",
       "      <th>max</th>\n",
       "      <td>NaN</td>\n",
       "      <td>NaN</td>\n",
       "      <td>1310.000000</td>\n",
       "    </tr>\n",
       "  </tbody>\n",
       "</table>\n",
       "</div>"
      ],
      "text/plain": [
       "             id      log_report_type        volume\n",
       "count   58671.0                58671  58671.000000\n",
       "unique  18552.0                  386           NaN\n",
       "top     15184.0  log_report_type_312           NaN\n",
       "freq       20.0                 5267           NaN\n",
       "mean        NaN                  NaN      9.685296\n",
       "std         NaN                  NaN     27.314433\n",
       "min         NaN                  NaN      1.000000\n",
       "25%         NaN                  NaN      1.000000\n",
       "50%         NaN                  NaN      2.000000\n",
       "75%         NaN                  NaN      7.000000\n",
       "max         NaN                  NaN   1310.000000"
      ]
     },
     "execution_count": 34,
     "metadata": {},
     "output_type": "execute_result"
    }
   ],
   "source": [
    "report_df.describe(include='all')"
   ]
  },
  {
   "cell_type": "markdown",
   "metadata": {},
   "source": [
    "From the above description we can infer that\n",
    "1. `id` is not unique, which means an `id` has occured multiple times and with possibly different log_report_type\n",
    "3. Total report types are 386\n",
    "2. Most frequent `log_report_type` is `log_report_type_312` which has occured `5267` times"
   ]
  },
  {
   "cell_type": "markdown",
   "metadata": {},
   "source": [
    "**Since there are a total of 386 unique reports it will be difficult to visualize all 386 in a single frame, hence lets see what are the top 20 most frequent log_report_type**"
   ]
  },
  {
   "cell_type": "code",
   "execution_count": 35,
   "metadata": {
    "scrolled": false
   },
   "outputs": [
    {
     "data": {
      "image/png": "[encoded data removed]",
      "text/plain": [
       "<Figure size 864x288 with 1 Axes>"
      ]
     },
     "metadata": {},
     "output_type": "display_data"
    }
   ],
   "source": [
    "plt.figure(figsize=(12,4))\n",
    "report_df.groupby('log_report_type')['volume'].sum().nlargest(20).plot(kind='bar')\n",
    "plt.show()"
   ]
  },
  {
   "cell_type": "markdown",
   "metadata": {},
   "source": [
    "**Now lets see what are the ids that registered most complaints, by visualizing the 50 most frequent ids and their frequencies**"
   ]
  },
  {
   "cell_type": "code",
   "execution_count": 36,
   "metadata": {
    "scrolled": true
   },
   "outputs": [
    {
     "data": {
      "image/png": "[encoded data removed]",
      "text/plain": [
       "<Figure size 1152x288 with 1 Axes>"
      ]
     },
     "metadata": {},
     "output_type": "display_data"
    }
   ],
   "source": [
    "plt.figure(figsize=(16,4))\n",
    "report_df.groupby('id')['volume'].sum().nlargest(50).plot(kind='bar')\n",
    "plt.show()"
   ]
  },
  {
   "cell_type": "markdown",
   "metadata": {},
   "source": [
    "`Wrangling data for model building`"
   ]
  },
  {
   "cell_type": "code",
   "execution_count": 37,
   "metadata": {},
   "outputs": [
    {
     "data": {
      "text/html": [
       "<div>\n",
       "<style scoped>\n",
       "    .dataframe tbody tr th:only-of-type {\n",
       "        vertical-align: middle;\n",
       "    }\n",
       "\n",
       "    .dataframe tbody tr th {\n",
       "        vertical-align: top;\n",
       "    }\n",
       "\n",
       "    .dataframe thead th {\n",
       "        text-align: right;\n",
       "    }\n",
       "</style>\n",
       "<table border=\"1\" class=\"dataframe\">\n",
       "  <thead>\n",
       "    <tr style=\"text-align: right;\">\n",
       "      <th></th>\n",
       "      <th>id</th>\n",
       "      <th>volume</th>\n",
       "    </tr>\n",
       "  </thead>\n",
       "  <tbody>\n",
       "    <tr>\n",
       "      <th>0</th>\n",
       "      <td>1</td>\n",
       "      <td>5</td>\n",
       "    </tr>\n",
       "    <tr>\n",
       "      <th>1</th>\n",
       "      <td>2</td>\n",
       "      <td>5</td>\n",
       "    </tr>\n",
       "    <tr>\n",
       "      <th>2</th>\n",
       "      <td>3</td>\n",
       "      <td>2</td>\n",
       "    </tr>\n",
       "    <tr>\n",
       "      <th>3</th>\n",
       "      <td>4</td>\n",
       "      <td>3</td>\n",
       "    </tr>\n",
       "    <tr>\n",
       "      <th>4</th>\n",
       "      <td>5</td>\n",
       "      <td>17</td>\n",
       "    </tr>\n",
       "  </tbody>\n",
       "</table>\n",
       "</div>"
      ],
      "text/plain": [
       "  id  volume\n",
       "0  1       5\n",
       "1  2       5\n",
       "2  3       2\n",
       "3  4       3\n",
       "4  5      17"
      ]
     },
     "execution_count": 37,
     "metadata": {},
     "output_type": "execute_result"
    }
   ],
   "source": [
    "report_volume_df = pd.DataFrame(report_df.groupby('id')['volume'].sum()).reset_index()\n",
    "report_volume_df.rename(columns={'volume':'report_volume'})\n",
    "report_volume_df.head()"
   ]
  },
  {
   "cell_type": "code",
   "execution_count": 38,
   "metadata": {},
   "outputs": [
    {
     "data": {
      "text/html": [
       "<div>\n",
       "<style scoped>\n",
       "    .dataframe tbody tr th:only-of-type {\n",
       "        vertical-align: middle;\n",
       "    }\n",
       "\n",
       "    .dataframe tbody tr th {\n",
       "        vertical-align: top;\n",
       "    }\n",
       "\n",
       "    .dataframe thead th {\n",
       "        text-align: right;\n",
       "    }\n",
       "</style>\n",
       "<table border=\"1\" class=\"dataframe\">\n",
       "  <thead>\n",
       "    <tr style=\"text-align: right;\">\n",
       "      <th></th>\n",
       "      <th>id</th>\n",
       "      <th>volume</th>\n",
       "    </tr>\n",
       "  </thead>\n",
       "  <tbody>\n",
       "    <tr>\n",
       "      <th>0</th>\n",
       "      <td>1</td>\n",
       "      <td>5</td>\n",
       "    </tr>\n",
       "    <tr>\n",
       "      <th>1</th>\n",
       "      <td>2</td>\n",
       "      <td>5</td>\n",
       "    </tr>\n",
       "    <tr>\n",
       "      <th>2</th>\n",
       "      <td>3</td>\n",
       "      <td>2</td>\n",
       "    </tr>\n",
       "    <tr>\n",
       "      <th>3</th>\n",
       "      <td>4</td>\n",
       "      <td>3</td>\n",
       "    </tr>\n",
       "    <tr>\n",
       "      <th>4</th>\n",
       "      <td>5</td>\n",
       "      <td>17</td>\n",
       "    </tr>\n",
       "    <tr>\n",
       "      <th>...</th>\n",
       "      <td>...</td>\n",
       "      <td>...</td>\n",
       "    </tr>\n",
       "    <tr>\n",
       "      <th>18547</th>\n",
       "      <td>18548</td>\n",
       "      <td>22</td>\n",
       "    </tr>\n",
       "    <tr>\n",
       "      <th>18548</th>\n",
       "      <td>18549</td>\n",
       "      <td>8</td>\n",
       "    </tr>\n",
       "    <tr>\n",
       "      <th>18549</th>\n",
       "      <td>18550</td>\n",
       "      <td>6</td>\n",
       "    </tr>\n",
       "    <tr>\n",
       "      <th>18550</th>\n",
       "      <td>18551</td>\n",
       "      <td>7</td>\n",
       "    </tr>\n",
       "    <tr>\n",
       "      <th>18551</th>\n",
       "      <td>18552</td>\n",
       "      <td>48</td>\n",
       "    </tr>\n",
       "  </tbody>\n",
       "</table>\n",
       "<p>18552 rows × 2 columns</p>\n",
       "</div>"
      ],
      "text/plain": [
       "          id  volume\n",
       "0          1       5\n",
       "1          2       5\n",
       "2          3       2\n",
       "3          4       3\n",
       "4          5      17\n",
       "...      ...     ...\n",
       "18547  18548      22\n",
       "18548  18549       8\n",
       "18549  18550       6\n",
       "18550  18551       7\n",
       "18551  18552      48\n",
       "\n",
       "[18552 rows x 2 columns]"
      ]
     },
     "execution_count": 38,
     "metadata": {},
     "output_type": "execute_result"
    }
   ],
   "source": [
    "report_volume_df"
   ]
  },
  {
   "cell_type": "code",
   "execution_count": 39,
   "metadata": {},
   "outputs": [
    {
     "data": {
      "text/html": [
       "<div>\n",
       "<style scoped>\n",
       "    .dataframe tbody tr th:only-of-type {\n",
       "        vertical-align: middle;\n",
       "    }\n",
       "\n",
       "    .dataframe tbody tr th {\n",
       "        vertical-align: top;\n",
       "    }\n",
       "\n",
       "    .dataframe thead th {\n",
       "        text-align: right;\n",
       "    }\n",
       "</style>\n",
       "<table border=\"1\" class=\"dataframe\">\n",
       "  <thead>\n",
       "    <tr style=\"text-align: right;\">\n",
       "      <th>log_report_type</th>\n",
       "      <th>log_report_type_1</th>\n",
       "      <th>log_report_type_10</th>\n",
       "      <th>log_report_type_100</th>\n",
       "      <th>log_report_type_101</th>\n",
       "      <th>log_report_type_102</th>\n",
       "      <th>log_report_type_103</th>\n",
       "      <th>log_report_type_104</th>\n",
       "      <th>log_report_type_105</th>\n",
       "      <th>log_report_type_106</th>\n",
       "      <th>log_report_type_107</th>\n",
       "      <th>...</th>\n",
       "      <th>log_report_type_90</th>\n",
       "      <th>log_report_type_91</th>\n",
       "      <th>log_report_type_92</th>\n",
       "      <th>log_report_type_93</th>\n",
       "      <th>log_report_type_94</th>\n",
       "      <th>log_report_type_95</th>\n",
       "      <th>log_report_type_96</th>\n",
       "      <th>log_report_type_97</th>\n",
       "      <th>log_report_type_98</th>\n",
       "      <th>log_report_type_99</th>\n",
       "    </tr>\n",
       "    <tr>\n",
       "      <th>id</th>\n",
       "      <th></th>\n",
       "      <th></th>\n",
       "      <th></th>\n",
       "      <th></th>\n",
       "      <th></th>\n",
       "      <th></th>\n",
       "      <th></th>\n",
       "      <th></th>\n",
       "      <th></th>\n",
       "      <th></th>\n",
       "      <th></th>\n",
       "      <th></th>\n",
       "      <th></th>\n",
       "      <th></th>\n",
       "      <th></th>\n",
       "      <th></th>\n",
       "      <th></th>\n",
       "      <th></th>\n",
       "      <th></th>\n",
       "      <th></th>\n",
       "      <th></th>\n",
       "    </tr>\n",
       "  </thead>\n",
       "  <tbody>\n",
       "    <tr>\n",
       "      <th>1</th>\n",
       "      <td>0</td>\n",
       "      <td>0</td>\n",
       "      <td>0</td>\n",
       "      <td>0</td>\n",
       "      <td>0</td>\n",
       "      <td>0</td>\n",
       "      <td>0</td>\n",
       "      <td>0</td>\n",
       "      <td>0</td>\n",
       "      <td>0</td>\n",
       "      <td>...</td>\n",
       "      <td>0</td>\n",
       "      <td>0</td>\n",
       "      <td>0</td>\n",
       "      <td>0</td>\n",
       "      <td>0</td>\n",
       "      <td>0</td>\n",
       "      <td>0</td>\n",
       "      <td>0</td>\n",
       "      <td>0</td>\n",
       "      <td>0</td>\n",
       "    </tr>\n",
       "    <tr>\n",
       "      <th>2</th>\n",
       "      <td>0</td>\n",
       "      <td>0</td>\n",
       "      <td>0</td>\n",
       "      <td>0</td>\n",
       "      <td>0</td>\n",
       "      <td>0</td>\n",
       "      <td>0</td>\n",
       "      <td>0</td>\n",
       "      <td>0</td>\n",
       "      <td>0</td>\n",
       "      <td>...</td>\n",
       "      <td>0</td>\n",
       "      <td>0</td>\n",
       "      <td>0</td>\n",
       "      <td>0</td>\n",
       "      <td>0</td>\n",
       "      <td>0</td>\n",
       "      <td>0</td>\n",
       "      <td>0</td>\n",
       "      <td>0</td>\n",
       "      <td>0</td>\n",
       "    </tr>\n",
       "    <tr>\n",
       "      <th>3</th>\n",
       "      <td>0</td>\n",
       "      <td>0</td>\n",
       "      <td>0</td>\n",
       "      <td>0</td>\n",
       "      <td>0</td>\n",
       "      <td>0</td>\n",
       "      <td>0</td>\n",
       "      <td>0</td>\n",
       "      <td>0</td>\n",
       "      <td>0</td>\n",
       "      <td>...</td>\n",
       "      <td>0</td>\n",
       "      <td>0</td>\n",
       "      <td>0</td>\n",
       "      <td>0</td>\n",
       "      <td>0</td>\n",
       "      <td>0</td>\n",
       "      <td>0</td>\n",
       "      <td>0</td>\n",
       "      <td>0</td>\n",
       "      <td>0</td>\n",
       "    </tr>\n",
       "    <tr>\n",
       "      <th>4</th>\n",
       "      <td>0</td>\n",
       "      <td>0</td>\n",
       "      <td>0</td>\n",
       "      <td>0</td>\n",
       "      <td>0</td>\n",
       "      <td>0</td>\n",
       "      <td>0</td>\n",
       "      <td>0</td>\n",
       "      <td>0</td>\n",
       "      <td>0</td>\n",
       "      <td>...</td>\n",
       "      <td>0</td>\n",
       "      <td>0</td>\n",
       "      <td>0</td>\n",
       "      <td>0</td>\n",
       "      <td>0</td>\n",
       "      <td>0</td>\n",
       "      <td>0</td>\n",
       "      <td>0</td>\n",
       "      <td>0</td>\n",
       "      <td>0</td>\n",
       "    </tr>\n",
       "    <tr>\n",
       "      <th>5</th>\n",
       "      <td>0</td>\n",
       "      <td>0</td>\n",
       "      <td>0</td>\n",
       "      <td>0</td>\n",
       "      <td>0</td>\n",
       "      <td>0</td>\n",
       "      <td>0</td>\n",
       "      <td>0</td>\n",
       "      <td>0</td>\n",
       "      <td>0</td>\n",
       "      <td>...</td>\n",
       "      <td>0</td>\n",
       "      <td>0</td>\n",
       "      <td>0</td>\n",
       "      <td>0</td>\n",
       "      <td>0</td>\n",
       "      <td>0</td>\n",
       "      <td>0</td>\n",
       "      <td>0</td>\n",
       "      <td>0</td>\n",
       "      <td>0</td>\n",
       "    </tr>\n",
       "  </tbody>\n",
       "</table>\n",
       "<p>5 rows × 386 columns</p>\n",
       "</div>"
      ],
      "text/plain": [
       "log_report_type  log_report_type_1  log_report_type_10  log_report_type_100  \\\n",
       "id                                                                            \n",
       "1                                0                   0                    0   \n",
       "2                                0                   0                    0   \n",
       "3                                0                   0                    0   \n",
       "4                                0                   0                    0   \n",
       "5                                0                   0                    0   \n",
       "\n",
       "log_report_type  log_report_type_101  log_report_type_102  \\\n",
       "id                                                          \n",
       "1                                  0                    0   \n",
       "2                                  0                    0   \n",
       "3                                  0                    0   \n",
       "4                                  0                    0   \n",
       "5                                  0                    0   \n",
       "\n",
       "log_report_type  log_report_type_103  log_report_type_104  \\\n",
       "id                                                          \n",
       "1                                  0                    0   \n",
       "2                                  0                    0   \n",
       "3                                  0                    0   \n",
       "4                                  0                    0   \n",
       "5                                  0                    0   \n",
       "\n",
       "log_report_type  log_report_type_105  log_report_type_106  \\\n",
       "id                                                          \n",
       "1                                  0                    0   \n",
       "2                                  0                    0   \n",
       "3                                  0                    0   \n",
       "4                                  0                    0   \n",
       "5                                  0                    0   \n",
       "\n",
       "log_report_type  log_report_type_107  ...  log_report_type_90  \\\n",
       "id                                    ...                       \n",
       "1                                  0  ...                   0   \n",
       "2                                  0  ...                   0   \n",
       "3                                  0  ...                   0   \n",
       "4                                  0  ...                   0   \n",
       "5                                  0  ...                   0   \n",
       "\n",
       "log_report_type  log_report_type_91  log_report_type_92  log_report_type_93  \\\n",
       "id                                                                            \n",
       "1                                 0                   0                   0   \n",
       "2                                 0                   0                   0   \n",
       "3                                 0                   0                   0   \n",
       "4                                 0                   0                   0   \n",
       "5                                 0                   0                   0   \n",
       "\n",
       "log_report_type  log_report_type_94  log_report_type_95  log_report_type_96  \\\n",
       "id                                                                            \n",
       "1                                 0                   0                   0   \n",
       "2                                 0                   0                   0   \n",
       "3                                 0                   0                   0   \n",
       "4                                 0                   0                   0   \n",
       "5                                 0                   0                   0   \n",
       "\n",
       "log_report_type  log_report_type_97  log_report_type_98  log_report_type_99  \n",
       "id                                                                           \n",
       "1                                 0                   0                   0  \n",
       "2                                 0                   0                   0  \n",
       "3                                 0                   0                   0  \n",
       "4                                 0                   0                   0  \n",
       "5                                 0                   0                   0  \n",
       "\n",
       "[5 rows x 386 columns]"
      ]
     },
     "execution_count": 39,
     "metadata": {},
     "output_type": "execute_result"
    }
   ],
   "source": [
    "report_df = report_df.pivot_table(values='volume',index='id',columns='log_report_type',fill_value=0,aggfunc=np.sum)\n",
    "report_df.head()"
   ]
  },
  {
   "cell_type": "code",
   "execution_count": 40,
   "metadata": {},
   "outputs": [
    {
     "data": {
      "text/html": [
       "<div>\n",
       "<style scoped>\n",
       "    .dataframe tbody tr th:only-of-type {\n",
       "        vertical-align: middle;\n",
       "    }\n",
       "\n",
       "    .dataframe tbody tr th {\n",
       "        vertical-align: top;\n",
       "    }\n",
       "\n",
       "    .dataframe thead th {\n",
       "        text-align: right;\n",
       "    }\n",
       "</style>\n",
       "<table border=\"1\" class=\"dataframe\">\n",
       "  <thead>\n",
       "    <tr style=\"text-align: right;\">\n",
       "      <th></th>\n",
       "      <th>log_report_type_1</th>\n",
       "      <th>log_report_type_10</th>\n",
       "      <th>log_report_type_100</th>\n",
       "      <th>log_report_type_101</th>\n",
       "      <th>log_report_type_102</th>\n",
       "      <th>log_report_type_103</th>\n",
       "      <th>log_report_type_104</th>\n",
       "      <th>log_report_type_105</th>\n",
       "      <th>log_report_type_106</th>\n",
       "      <th>log_report_type_107</th>\n",
       "      <th>...</th>\n",
       "      <th>log_report_type_90</th>\n",
       "      <th>log_report_type_91</th>\n",
       "      <th>log_report_type_92</th>\n",
       "      <th>log_report_type_93</th>\n",
       "      <th>log_report_type_94</th>\n",
       "      <th>log_report_type_95</th>\n",
       "      <th>log_report_type_96</th>\n",
       "      <th>log_report_type_97</th>\n",
       "      <th>log_report_type_98</th>\n",
       "      <th>log_report_type_99</th>\n",
       "    </tr>\n",
       "    <tr>\n",
       "      <th>id</th>\n",
       "      <th></th>\n",
       "      <th></th>\n",
       "      <th></th>\n",
       "      <th></th>\n",
       "      <th></th>\n",
       "      <th></th>\n",
       "      <th></th>\n",
       "      <th></th>\n",
       "      <th></th>\n",
       "      <th></th>\n",
       "      <th></th>\n",
       "      <th></th>\n",
       "      <th></th>\n",
       "      <th></th>\n",
       "      <th></th>\n",
       "      <th></th>\n",
       "      <th></th>\n",
       "      <th></th>\n",
       "      <th></th>\n",
       "      <th></th>\n",
       "      <th></th>\n",
       "    </tr>\n",
       "  </thead>\n",
       "  <tbody>\n",
       "    <tr>\n",
       "      <th>1</th>\n",
       "      <td>0</td>\n",
       "      <td>0</td>\n",
       "      <td>0</td>\n",
       "      <td>0</td>\n",
       "      <td>0</td>\n",
       "      <td>0</td>\n",
       "      <td>0</td>\n",
       "      <td>0</td>\n",
       "      <td>0</td>\n",
       "      <td>0</td>\n",
       "      <td>...</td>\n",
       "      <td>0</td>\n",
       "      <td>0</td>\n",
       "      <td>0</td>\n",
       "      <td>0</td>\n",
       "      <td>0</td>\n",
       "      <td>0</td>\n",
       "      <td>0</td>\n",
       "      <td>0</td>\n",
       "      <td>0</td>\n",
       "      <td>0</td>\n",
       "    </tr>\n",
       "    <tr>\n",
       "      <th>2</th>\n",
       "      <td>0</td>\n",
       "      <td>0</td>\n",
       "      <td>0</td>\n",
       "      <td>0</td>\n",
       "      <td>0</td>\n",
       "      <td>0</td>\n",
       "      <td>0</td>\n",
       "      <td>0</td>\n",
       "      <td>0</td>\n",
       "      <td>0</td>\n",
       "      <td>...</td>\n",
       "      <td>0</td>\n",
       "      <td>0</td>\n",
       "      <td>0</td>\n",
       "      <td>0</td>\n",
       "      <td>0</td>\n",
       "      <td>0</td>\n",
       "      <td>0</td>\n",
       "      <td>0</td>\n",
       "      <td>0</td>\n",
       "      <td>0</td>\n",
       "    </tr>\n",
       "    <tr>\n",
       "      <th>3</th>\n",
       "      <td>0</td>\n",
       "      <td>0</td>\n",
       "      <td>0</td>\n",
       "      <td>0</td>\n",
       "      <td>0</td>\n",
       "      <td>0</td>\n",
       "      <td>0</td>\n",
       "      <td>0</td>\n",
       "      <td>0</td>\n",
       "      <td>0</td>\n",
       "      <td>...</td>\n",
       "      <td>0</td>\n",
       "      <td>0</td>\n",
       "      <td>0</td>\n",
       "      <td>0</td>\n",
       "      <td>0</td>\n",
       "      <td>0</td>\n",
       "      <td>0</td>\n",
       "      <td>0</td>\n",
       "      <td>0</td>\n",
       "      <td>0</td>\n",
       "    </tr>\n",
       "    <tr>\n",
       "      <th>4</th>\n",
       "      <td>0</td>\n",
       "      <td>0</td>\n",
       "      <td>0</td>\n",
       "      <td>0</td>\n",
       "      <td>0</td>\n",
       "      <td>0</td>\n",
       "      <td>0</td>\n",
       "      <td>0</td>\n",
       "      <td>0</td>\n",
       "      <td>0</td>\n",
       "      <td>...</td>\n",
       "      <td>0</td>\n",
       "      <td>0</td>\n",
       "      <td>0</td>\n",
       "      <td>0</td>\n",
       "      <td>0</td>\n",
       "      <td>0</td>\n",
       "      <td>0</td>\n",
       "      <td>0</td>\n",
       "      <td>0</td>\n",
       "      <td>0</td>\n",
       "    </tr>\n",
       "    <tr>\n",
       "      <th>5</th>\n",
       "      <td>0</td>\n",
       "      <td>0</td>\n",
       "      <td>0</td>\n",
       "      <td>0</td>\n",
       "      <td>0</td>\n",
       "      <td>0</td>\n",
       "      <td>0</td>\n",
       "      <td>0</td>\n",
       "      <td>0</td>\n",
       "      <td>0</td>\n",
       "      <td>...</td>\n",
       "      <td>0</td>\n",
       "      <td>0</td>\n",
       "      <td>0</td>\n",
       "      <td>0</td>\n",
       "      <td>0</td>\n",
       "      <td>0</td>\n",
       "      <td>0</td>\n",
       "      <td>0</td>\n",
       "      <td>0</td>\n",
       "      <td>0</td>\n",
       "    </tr>\n",
       "  </tbody>\n",
       "</table>\n",
       "<p>5 rows × 386 columns</p>\n",
       "</div>"
      ],
      "text/plain": [
       "    log_report_type_1  log_report_type_10  log_report_type_100  \\\n",
       "id                                                               \n",
       "1                   0                   0                    0   \n",
       "2                   0                   0                    0   \n",
       "3                   0                   0                    0   \n",
       "4                   0                   0                    0   \n",
       "5                   0                   0                    0   \n",
       "\n",
       "    log_report_type_101  log_report_type_102  log_report_type_103  \\\n",
       "id                                                                  \n",
       "1                     0                    0                    0   \n",
       "2                     0                    0                    0   \n",
       "3                     0                    0                    0   \n",
       "4                     0                    0                    0   \n",
       "5                     0                    0                    0   \n",
       "\n",
       "    log_report_type_104  log_report_type_105  log_report_type_106  \\\n",
       "id                                                                  \n",
       "1                     0                    0                    0   \n",
       "2                     0                    0                    0   \n",
       "3                     0                    0                    0   \n",
       "4                     0                    0                    0   \n",
       "5                     0                    0                    0   \n",
       "\n",
       "    log_report_type_107  ...  log_report_type_90  log_report_type_91  \\\n",
       "id                       ...                                           \n",
       "1                     0  ...                   0                   0   \n",
       "2                     0  ...                   0                   0   \n",
       "3                     0  ...                   0                   0   \n",
       "4                     0  ...                   0                   0   \n",
       "5                     0  ...                   0                   0   \n",
       "\n",
       "    log_report_type_92  log_report_type_93  log_report_type_94  \\\n",
       "id                                                               \n",
       "1                    0                   0                   0   \n",
       "2                    0                   0                   0   \n",
       "3                    0                   0                   0   \n",
       "4                    0                   0                   0   \n",
       "5                    0                   0                   0   \n",
       "\n",
       "    log_report_type_95  log_report_type_96  log_report_type_97  \\\n",
       "id                                                               \n",
       "1                    0                   0                   0   \n",
       "2                    0                   0                   0   \n",
       "3                    0                   0                   0   \n",
       "4                    0                   0                   0   \n",
       "5                    0                   0                   0   \n",
       "\n",
       "    log_report_type_98  log_report_type_99  \n",
       "id                                          \n",
       "1                    0                   0  \n",
       "2                    0                   0  \n",
       "3                    0                   0  \n",
       "4                    0                   0  \n",
       "5                    0                   0  \n",
       "\n",
       "[5 rows x 386 columns]"
      ]
     },
     "execution_count": 40,
     "metadata": {},
     "output_type": "execute_result"
    }
   ],
   "source": [
    "report_df.columns = report_df.columns.categories\n",
    "report_df.head()"
   ]
  },
  {
   "cell_type": "code",
   "execution_count": 41,
   "metadata": {},
   "outputs": [
    {
     "data": {
      "text/html": [
       "<div>\n",
       "<style scoped>\n",
       "    .dataframe tbody tr th:only-of-type {\n",
       "        vertical-align: middle;\n",
       "    }\n",
       "\n",
       "    .dataframe tbody tr th {\n",
       "        vertical-align: top;\n",
       "    }\n",
       "\n",
       "    .dataframe thead th {\n",
       "        text-align: right;\n",
       "    }\n",
       "</style>\n",
       "<table border=\"1\" class=\"dataframe\">\n",
       "  <thead>\n",
       "    <tr style=\"text-align: right;\">\n",
       "      <th></th>\n",
       "      <th>id</th>\n",
       "      <th>log_report_type_1</th>\n",
       "      <th>log_report_type_10</th>\n",
       "      <th>log_report_type_100</th>\n",
       "      <th>log_report_type_101</th>\n",
       "      <th>log_report_type_102</th>\n",
       "      <th>log_report_type_103</th>\n",
       "      <th>log_report_type_104</th>\n",
       "      <th>log_report_type_105</th>\n",
       "      <th>log_report_type_106</th>\n",
       "      <th>...</th>\n",
       "      <th>log_report_type_90</th>\n",
       "      <th>log_report_type_91</th>\n",
       "      <th>log_report_type_92</th>\n",
       "      <th>log_report_type_93</th>\n",
       "      <th>log_report_type_94</th>\n",
       "      <th>log_report_type_95</th>\n",
       "      <th>log_report_type_96</th>\n",
       "      <th>log_report_type_97</th>\n",
       "      <th>log_report_type_98</th>\n",
       "      <th>log_report_type_99</th>\n",
       "    </tr>\n",
       "  </thead>\n",
       "  <tbody>\n",
       "    <tr>\n",
       "      <th>0</th>\n",
       "      <td>1</td>\n",
       "      <td>0</td>\n",
       "      <td>0</td>\n",
       "      <td>0</td>\n",
       "      <td>0</td>\n",
       "      <td>0</td>\n",
       "      <td>0</td>\n",
       "      <td>0</td>\n",
       "      <td>0</td>\n",
       "      <td>0</td>\n",
       "      <td>...</td>\n",
       "      <td>0</td>\n",
       "      <td>0</td>\n",
       "      <td>0</td>\n",
       "      <td>0</td>\n",
       "      <td>0</td>\n",
       "      <td>0</td>\n",
       "      <td>0</td>\n",
       "      <td>0</td>\n",
       "      <td>0</td>\n",
       "      <td>0</td>\n",
       "    </tr>\n",
       "    <tr>\n",
       "      <th>1</th>\n",
       "      <td>2</td>\n",
       "      <td>0</td>\n",
       "      <td>0</td>\n",
       "      <td>0</td>\n",
       "      <td>0</td>\n",
       "      <td>0</td>\n",
       "      <td>0</td>\n",
       "      <td>0</td>\n",
       "      <td>0</td>\n",
       "      <td>0</td>\n",
       "      <td>...</td>\n",
       "      <td>0</td>\n",
       "      <td>0</td>\n",
       "      <td>0</td>\n",
       "      <td>0</td>\n",
       "      <td>0</td>\n",
       "      <td>0</td>\n",
       "      <td>0</td>\n",
       "      <td>0</td>\n",
       "      <td>0</td>\n",
       "      <td>0</td>\n",
       "    </tr>\n",
       "    <tr>\n",
       "      <th>2</th>\n",
       "      <td>3</td>\n",
       "      <td>0</td>\n",
       "      <td>0</td>\n",
       "      <td>0</td>\n",
       "      <td>0</td>\n",
       "      <td>0</td>\n",
       "      <td>0</td>\n",
       "      <td>0</td>\n",
       "      <td>0</td>\n",
       "      <td>0</td>\n",
       "      <td>...</td>\n",
       "      <td>0</td>\n",
       "      <td>0</td>\n",
       "      <td>0</td>\n",
       "      <td>0</td>\n",
       "      <td>0</td>\n",
       "      <td>0</td>\n",
       "      <td>0</td>\n",
       "      <td>0</td>\n",
       "      <td>0</td>\n",
       "      <td>0</td>\n",
       "    </tr>\n",
       "    <tr>\n",
       "      <th>3</th>\n",
       "      <td>4</td>\n",
       "      <td>0</td>\n",
       "      <td>0</td>\n",
       "      <td>0</td>\n",
       "      <td>0</td>\n",
       "      <td>0</td>\n",
       "      <td>0</td>\n",
       "      <td>0</td>\n",
       "      <td>0</td>\n",
       "      <td>0</td>\n",
       "      <td>...</td>\n",
       "      <td>0</td>\n",
       "      <td>0</td>\n",
       "      <td>0</td>\n",
       "      <td>0</td>\n",
       "      <td>0</td>\n",
       "      <td>0</td>\n",
       "      <td>0</td>\n",
       "      <td>0</td>\n",
       "      <td>0</td>\n",
       "      <td>0</td>\n",
       "    </tr>\n",
       "    <tr>\n",
       "      <th>4</th>\n",
       "      <td>5</td>\n",
       "      <td>0</td>\n",
       "      <td>0</td>\n",
       "      <td>0</td>\n",
       "      <td>0</td>\n",
       "      <td>0</td>\n",
       "      <td>0</td>\n",
       "      <td>0</td>\n",
       "      <td>0</td>\n",
       "      <td>0</td>\n",
       "      <td>...</td>\n",
       "      <td>0</td>\n",
       "      <td>0</td>\n",
       "      <td>0</td>\n",
       "      <td>0</td>\n",
       "      <td>0</td>\n",
       "      <td>0</td>\n",
       "      <td>0</td>\n",
       "      <td>0</td>\n",
       "      <td>0</td>\n",
       "      <td>0</td>\n",
       "    </tr>\n",
       "  </tbody>\n",
       "</table>\n",
       "<p>5 rows × 387 columns</p>\n",
       "</div>"
      ],
      "text/plain": [
       "  id  log_report_type_1  log_report_type_10  log_report_type_100  \\\n",
       "0  1                  0                   0                    0   \n",
       "1  2                  0                   0                    0   \n",
       "2  3                  0                   0                    0   \n",
       "3  4                  0                   0                    0   \n",
       "4  5                  0                   0                    0   \n",
       "\n",
       "   log_report_type_101  log_report_type_102  log_report_type_103  \\\n",
       "0                    0                    0                    0   \n",
       "1                    0                    0                    0   \n",
       "2                    0                    0                    0   \n",
       "3                    0                    0                    0   \n",
       "4                    0                    0                    0   \n",
       "\n",
       "   log_report_type_104  log_report_type_105  log_report_type_106  ...  \\\n",
       "0                    0                    0                    0  ...   \n",
       "1                    0                    0                    0  ...   \n",
       "2                    0                    0                    0  ...   \n",
       "3                    0                    0                    0  ...   \n",
       "4                    0                    0                    0  ...   \n",
       "\n",
       "   log_report_type_90  log_report_type_91  log_report_type_92  \\\n",
       "0                   0                   0                   0   \n",
       "1                   0                   0                   0   \n",
       "2                   0                   0                   0   \n",
       "3                   0                   0                   0   \n",
       "4                   0                   0                   0   \n",
       "\n",
       "   log_report_type_93  log_report_type_94  log_report_type_95  \\\n",
       "0                   0                   0                   0   \n",
       "1                   0                   0                   0   \n",
       "2                   0                   0                   0   \n",
       "3                   0                   0                   0   \n",
       "4                   0                   0                   0   \n",
       "\n",
       "   log_report_type_96  log_report_type_97  log_report_type_98  \\\n",
       "0                   0                   0                   0   \n",
       "1                   0                   0                   0   \n",
       "2                   0                   0                   0   \n",
       "3                   0                   0                   0   \n",
       "4                   0                   0                   0   \n",
       "\n",
       "   log_report_type_99  \n",
       "0                   0  \n",
       "1                   0  \n",
       "2                   0  \n",
       "3                   0  \n",
       "4                   0  \n",
       "\n",
       "[5 rows x 387 columns]"
      ]
     },
     "execution_count": 41,
     "metadata": {},
     "output_type": "execute_result"
    }
   ],
   "source": [
    "report_df.reset_index(inplace=True)\n",
    "report_df.head()"
   ]
  },
  {
   "cell_type": "code",
   "execution_count": 42,
   "metadata": {},
   "outputs": [
    {
     "data": {
      "text/plain": [
       "False"
      ]
     },
     "execution_count": 42,
     "metadata": {},
     "output_type": "execute_result"
    }
   ],
   "source": [
    "# Checking if there are any nulls\n",
    "report_df.isnull().values.any()"
   ]
  },
  {
   "cell_type": "code",
   "execution_count": 43,
   "metadata": {},
   "outputs": [
    {
     "data": {
      "text/plain": [
       "(18552, 387)"
      ]
     },
     "execution_count": 43,
     "metadata": {},
     "output_type": "execute_result"
    }
   ],
   "source": [
    "# Shape of the processed dataset\n",
    "report_df.shape"
   ]
  },
  {
   "cell_type": "markdown",
   "metadata": {},
   "source": [
    "#### 3.4 Server Data"
   ]
  },
  {
   "cell_type": "code",
   "execution_count": 44,
   "metadata": {},
   "outputs": [
    {
     "data": {
      "text/html": [
       "<div>\n",
       "<style scoped>\n",
       "    .dataframe tbody tr th:only-of-type {\n",
       "        vertical-align: middle;\n",
       "    }\n",
       "\n",
       "    .dataframe tbody tr th {\n",
       "        vertical-align: top;\n",
       "    }\n",
       "\n",
       "    .dataframe thead th {\n",
       "        text-align: right;\n",
       "    }\n",
       "</style>\n",
       "<table border=\"1\" class=\"dataframe\">\n",
       "  <thead>\n",
       "    <tr style=\"text-align: right;\">\n",
       "      <th></th>\n",
       "      <th>id</th>\n",
       "      <th>transit_server_type</th>\n",
       "    </tr>\n",
       "  </thead>\n",
       "  <tbody>\n",
       "    <tr>\n",
       "      <th>0</th>\n",
       "      <td>6597</td>\n",
       "      <td>transit_server_type_11</td>\n",
       "    </tr>\n",
       "    <tr>\n",
       "      <th>1</th>\n",
       "      <td>8011</td>\n",
       "      <td>transit_server_type_15</td>\n",
       "    </tr>\n",
       "    <tr>\n",
       "      <th>2</th>\n",
       "      <td>2597</td>\n",
       "      <td>transit_server_type_15</td>\n",
       "    </tr>\n",
       "    <tr>\n",
       "      <th>3</th>\n",
       "      <td>5022</td>\n",
       "      <td>transit_server_type_15</td>\n",
       "    </tr>\n",
       "    <tr>\n",
       "      <th>4</th>\n",
       "      <td>5022</td>\n",
       "      <td>transit_server_type_11</td>\n",
       "    </tr>\n",
       "  </tbody>\n",
       "</table>\n",
       "</div>"
      ],
      "text/plain": [
       "     id     transit_server_type\n",
       "0  6597  transit_server_type_11\n",
       "1  8011  transit_server_type_15\n",
       "2  2597  transit_server_type_15\n",
       "3  5022  transit_server_type_15\n",
       "4  5022  transit_server_type_11"
      ]
     },
     "execution_count": 44,
     "metadata": {},
     "output_type": "execute_result"
    }
   ],
   "source": [
    "server_df.head()"
   ]
  },
  {
   "cell_type": "code",
   "execution_count": 45,
   "metadata": {},
   "outputs": [
    {
     "data": {
      "text/plain": [
       "(31170, 2)"
      ]
     },
     "execution_count": 45,
     "metadata": {},
     "output_type": "execute_result"
    }
   ],
   "source": [
    "# Shape of the data prior the processing\n",
    "server_df.shape"
   ]
  },
  {
   "cell_type": "code",
   "execution_count": 46,
   "metadata": {},
   "outputs": [
    {
     "name": "stdout",
     "output_type": "stream",
     "text": [
      "<class 'pandas.core.frame.DataFrame'>\n",
      "RangeIndex: 31170 entries, 0 to 31169\n",
      "Data columns (total 2 columns):\n",
      " #   Column               Non-Null Count  Dtype \n",
      "---  ------               --------------  ----- \n",
      " 0   id                   31170 non-null  int64 \n",
      " 1   transit_server_type  31170 non-null  object\n",
      "dtypes: int64(1), object(1)\n",
      "memory usage: 487.2+ KB\n"
     ]
    }
   ],
   "source": [
    "# Summary of the data\n",
    "server_df.info()"
   ]
  },
  {
   "cell_type": "code",
   "execution_count": 47,
   "metadata": {},
   "outputs": [],
   "source": [
    "# Changing the data to category type\n",
    "server_df = server_df.astype('category')"
   ]
  },
  {
   "cell_type": "code",
   "execution_count": 48,
   "metadata": {},
   "outputs": [
    {
     "name": "stdout",
     "output_type": "stream",
     "text": [
      "<class 'pandas.core.frame.DataFrame'>\n",
      "RangeIndex: 31170 entries, 0 to 31169\n",
      "Data columns (total 2 columns):\n",
      " #   Column               Non-Null Count  Dtype   \n",
      "---  ------               --------------  -----   \n",
      " 0   id                   31170 non-null  category\n",
      " 1   transit_server_type  31170 non-null  category\n",
      "dtypes: category(2)\n",
      "memory usage: 879.3 KB\n"
     ]
    }
   ],
   "source": [
    "# Summary post data conversion\n",
    "server_df.info()"
   ]
  },
  {
   "cell_type": "code",
   "execution_count": 49,
   "metadata": {},
   "outputs": [
    {
     "data": {
      "text/html": [
       "<div>\n",
       "<style scoped>\n",
       "    .dataframe tbody tr th:only-of-type {\n",
       "        vertical-align: middle;\n",
       "    }\n",
       "\n",
       "    .dataframe tbody tr th {\n",
       "        vertical-align: top;\n",
       "    }\n",
       "\n",
       "    .dataframe thead th {\n",
       "        text-align: right;\n",
       "    }\n",
       "</style>\n",
       "<table border=\"1\" class=\"dataframe\">\n",
       "  <thead>\n",
       "    <tr style=\"text-align: right;\">\n",
       "      <th></th>\n",
       "      <th>id</th>\n",
       "      <th>transit_server_type</th>\n",
       "    </tr>\n",
       "  </thead>\n",
       "  <tbody>\n",
       "    <tr>\n",
       "      <th>count</th>\n",
       "      <td>31170</td>\n",
       "      <td>31170</td>\n",
       "    </tr>\n",
       "    <tr>\n",
       "      <th>unique</th>\n",
       "      <td>18552</td>\n",
       "      <td>53</td>\n",
       "    </tr>\n",
       "    <tr>\n",
       "      <th>top</th>\n",
       "      <td>10354</td>\n",
       "      <td>transit_server_type_11</td>\n",
       "    </tr>\n",
       "    <tr>\n",
       "      <th>freq</th>\n",
       "      <td>11</td>\n",
       "      <td>7888</td>\n",
       "    </tr>\n",
       "  </tbody>\n",
       "</table>\n",
       "</div>"
      ],
      "text/plain": [
       "           id     transit_server_type\n",
       "count   31170                   31170\n",
       "unique  18552                      53\n",
       "top     10354  transit_server_type_11\n",
       "freq       11                    7888"
      ]
     },
     "execution_count": 49,
     "metadata": {},
     "output_type": "execute_result"
    }
   ],
   "source": [
    "# Data description\n",
    "server_df.describe(include='all')"
   ]
  },
  {
   "cell_type": "markdown",
   "metadata": {},
   "source": [
    "From the description we can infer the following\n",
    "1. There 18552 unique `id`s\n",
    "2. Most frequently occuring `id` is `10354` which is occuring 11 times\n",
    "3. There are 53 unique `transit_server_type`s\n",
    "4. Most frequent transit server type is `transit_server_type_11` which is occuring `7888` times"
   ]
  },
  {
   "cell_type": "markdown",
   "metadata": {},
   "source": [
    "**Let's visualize the 20 most frequent transit_server_type and their frequencies**"
   ]
  },
  {
   "cell_type": "code",
   "execution_count": 50,
   "metadata": {},
   "outputs": [
    {
     "data": {
      "image/png": "[encoded data removed]",
      "text/plain": [
       "<Figure size 864x288 with 1 Axes>"
      ]
     },
     "metadata": {},
     "output_type": "display_data"
    }
   ],
   "source": [
    "plt.figure(figsize=(12,4))\n",
    "server_df.transit_server_type.value_counts().nlargest(20).plot(kind='bar')\n",
    "plt.show()"
   ]
  },
  {
   "cell_type": "markdown",
   "metadata": {},
   "source": [
    "`Wrangling data for model building`"
   ]
  },
  {
   "cell_type": "code",
   "execution_count": 51,
   "metadata": {},
   "outputs": [
    {
     "data": {
      "text/html": [
       "<div>\n",
       "<style scoped>\n",
       "    .dataframe tbody tr th:only-of-type {\n",
       "        vertical-align: middle;\n",
       "    }\n",
       "\n",
       "    .dataframe tbody tr th {\n",
       "        vertical-align: top;\n",
       "    }\n",
       "\n",
       "    .dataframe thead th {\n",
       "        text-align: right;\n",
       "    }\n",
       "</style>\n",
       "<table border=\"1\" class=\"dataframe\">\n",
       "  <thead>\n",
       "    <tr style=\"text-align: right;\">\n",
       "      <th>transit_server_type</th>\n",
       "      <th>transit_server_type_1</th>\n",
       "      <th>transit_server_type_10</th>\n",
       "      <th>transit_server_type_11</th>\n",
       "      <th>transit_server_type_12</th>\n",
       "      <th>transit_server_type_13</th>\n",
       "      <th>transit_server_type_14</th>\n",
       "      <th>transit_server_type_15</th>\n",
       "      <th>transit_server_type_17</th>\n",
       "      <th>transit_server_type_18</th>\n",
       "      <th>transit_server_type_19</th>\n",
       "      <th>...</th>\n",
       "      <th>transit_server_type_5</th>\n",
       "      <th>transit_server_type_50</th>\n",
       "      <th>transit_server_type_51</th>\n",
       "      <th>transit_server_type_52</th>\n",
       "      <th>transit_server_type_53</th>\n",
       "      <th>transit_server_type_54</th>\n",
       "      <th>transit_server_type_6</th>\n",
       "      <th>transit_server_type_7</th>\n",
       "      <th>transit_server_type_8</th>\n",
       "      <th>transit_server_type_9</th>\n",
       "    </tr>\n",
       "    <tr>\n",
       "      <th>id</th>\n",
       "      <th></th>\n",
       "      <th></th>\n",
       "      <th></th>\n",
       "      <th></th>\n",
       "      <th></th>\n",
       "      <th></th>\n",
       "      <th></th>\n",
       "      <th></th>\n",
       "      <th></th>\n",
       "      <th></th>\n",
       "      <th></th>\n",
       "      <th></th>\n",
       "      <th></th>\n",
       "      <th></th>\n",
       "      <th></th>\n",
       "      <th></th>\n",
       "      <th></th>\n",
       "      <th></th>\n",
       "      <th></th>\n",
       "      <th></th>\n",
       "      <th></th>\n",
       "    </tr>\n",
       "  </thead>\n",
       "  <tbody>\n",
       "    <tr>\n",
       "      <th>1</th>\n",
       "      <td>0</td>\n",
       "      <td>0</td>\n",
       "      <td>1</td>\n",
       "      <td>0</td>\n",
       "      <td>1</td>\n",
       "      <td>0</td>\n",
       "      <td>0</td>\n",
       "      <td>0</td>\n",
       "      <td>0</td>\n",
       "      <td>0</td>\n",
       "      <td>...</td>\n",
       "      <td>0</td>\n",
       "      <td>0</td>\n",
       "      <td>0</td>\n",
       "      <td>0</td>\n",
       "      <td>0</td>\n",
       "      <td>0</td>\n",
       "      <td>0</td>\n",
       "      <td>0</td>\n",
       "      <td>0</td>\n",
       "      <td>0</td>\n",
       "    </tr>\n",
       "    <tr>\n",
       "      <th>2</th>\n",
       "      <td>0</td>\n",
       "      <td>0</td>\n",
       "      <td>0</td>\n",
       "      <td>0</td>\n",
       "      <td>0</td>\n",
       "      <td>0</td>\n",
       "      <td>0</td>\n",
       "      <td>0</td>\n",
       "      <td>0</td>\n",
       "      <td>0</td>\n",
       "      <td>...</td>\n",
       "      <td>0</td>\n",
       "      <td>0</td>\n",
       "      <td>0</td>\n",
       "      <td>0</td>\n",
       "      <td>0</td>\n",
       "      <td>0</td>\n",
       "      <td>0</td>\n",
       "      <td>0</td>\n",
       "      <td>0</td>\n",
       "      <td>0</td>\n",
       "    </tr>\n",
       "    <tr>\n",
       "      <th>3</th>\n",
       "      <td>0</td>\n",
       "      <td>0</td>\n",
       "      <td>1</td>\n",
       "      <td>0</td>\n",
       "      <td>0</td>\n",
       "      <td>0</td>\n",
       "      <td>0</td>\n",
       "      <td>0</td>\n",
       "      <td>0</td>\n",
       "      <td>0</td>\n",
       "      <td>...</td>\n",
       "      <td>0</td>\n",
       "      <td>0</td>\n",
       "      <td>0</td>\n",
       "      <td>0</td>\n",
       "      <td>0</td>\n",
       "      <td>0</td>\n",
       "      <td>0</td>\n",
       "      <td>0</td>\n",
       "      <td>0</td>\n",
       "      <td>0</td>\n",
       "    </tr>\n",
       "    <tr>\n",
       "      <th>4</th>\n",
       "      <td>0</td>\n",
       "      <td>0</td>\n",
       "      <td>0</td>\n",
       "      <td>0</td>\n",
       "      <td>0</td>\n",
       "      <td>0</td>\n",
       "      <td>0</td>\n",
       "      <td>0</td>\n",
       "      <td>0</td>\n",
       "      <td>0</td>\n",
       "      <td>...</td>\n",
       "      <td>0</td>\n",
       "      <td>0</td>\n",
       "      <td>0</td>\n",
       "      <td>0</td>\n",
       "      <td>0</td>\n",
       "      <td>0</td>\n",
       "      <td>0</td>\n",
       "      <td>0</td>\n",
       "      <td>0</td>\n",
       "      <td>0</td>\n",
       "    </tr>\n",
       "    <tr>\n",
       "      <th>5</th>\n",
       "      <td>0</td>\n",
       "      <td>0</td>\n",
       "      <td>0</td>\n",
       "      <td>0</td>\n",
       "      <td>0</td>\n",
       "      <td>0</td>\n",
       "      <td>0</td>\n",
       "      <td>0</td>\n",
       "      <td>0</td>\n",
       "      <td>0</td>\n",
       "      <td>...</td>\n",
       "      <td>0</td>\n",
       "      <td>0</td>\n",
       "      <td>0</td>\n",
       "      <td>0</td>\n",
       "      <td>0</td>\n",
       "      <td>0</td>\n",
       "      <td>0</td>\n",
       "      <td>0</td>\n",
       "      <td>0</td>\n",
       "      <td>0</td>\n",
       "    </tr>\n",
       "  </tbody>\n",
       "</table>\n",
       "<p>5 rows × 53 columns</p>\n",
       "</div>"
      ],
      "text/plain": [
       "transit_server_type  transit_server_type_1  transit_server_type_10  \\\n",
       "id                                                                   \n",
       "1                                        0                       0   \n",
       "2                                        0                       0   \n",
       "3                                        0                       0   \n",
       "4                                        0                       0   \n",
       "5                                        0                       0   \n",
       "\n",
       "transit_server_type  transit_server_type_11  transit_server_type_12  \\\n",
       "id                                                                    \n",
       "1                                         1                       0   \n",
       "2                                         0                       0   \n",
       "3                                         1                       0   \n",
       "4                                         0                       0   \n",
       "5                                         0                       0   \n",
       "\n",
       "transit_server_type  transit_server_type_13  transit_server_type_14  \\\n",
       "id                                                                    \n",
       "1                                         1                       0   \n",
       "2                                         0                       0   \n",
       "3                                         0                       0   \n",
       "4                                         0                       0   \n",
       "5                                         0                       0   \n",
       "\n",
       "transit_server_type  transit_server_type_15  transit_server_type_17  \\\n",
       "id                                                                    \n",
       "1                                         0                       0   \n",
       "2                                         0                       0   \n",
       "3                                         0                       0   \n",
       "4                                         0                       0   \n",
       "5                                         0                       0   \n",
       "\n",
       "transit_server_type  transit_server_type_18  transit_server_type_19  ...  \\\n",
       "id                                                                   ...   \n",
       "1                                         0                       0  ...   \n",
       "2                                         0                       0  ...   \n",
       "3                                         0                       0  ...   \n",
       "4                                         0                       0  ...   \n",
       "5                                         0                       0  ...   \n",
       "\n",
       "transit_server_type  transit_server_type_5  transit_server_type_50  \\\n",
       "id                                                                   \n",
       "1                                        0                       0   \n",
       "2                                        0                       0   \n",
       "3                                        0                       0   \n",
       "4                                        0                       0   \n",
       "5                                        0                       0   \n",
       "\n",
       "transit_server_type  transit_server_type_51  transit_server_type_52  \\\n",
       "id                                                                    \n",
       "1                                         0                       0   \n",
       "2                                         0                       0   \n",
       "3                                         0                       0   \n",
       "4                                         0                       0   \n",
       "5                                         0                       0   \n",
       "\n",
       "transit_server_type  transit_server_type_53  transit_server_type_54  \\\n",
       "id                                                                    \n",
       "1                                         0                       0   \n",
       "2                                         0                       0   \n",
       "3                                         0                       0   \n",
       "4                                         0                       0   \n",
       "5                                         0                       0   \n",
       "\n",
       "transit_server_type  transit_server_type_6  transit_server_type_7  \\\n",
       "id                                                                  \n",
       "1                                        0                      0   \n",
       "2                                        0                      0   \n",
       "3                                        0                      0   \n",
       "4                                        0                      0   \n",
       "5                                        0                      0   \n",
       "\n",
       "transit_server_type  transit_server_type_8  transit_server_type_9  \n",
       "id                                                                 \n",
       "1                                        0                      0  \n",
       "2                                        0                      0  \n",
       "3                                        0                      0  \n",
       "4                                        0                      0  \n",
       "5                                        0                      0  \n",
       "\n",
       "[5 rows x 53 columns]"
      ]
     },
     "execution_count": 51,
     "metadata": {},
     "output_type": "execute_result"
    }
   ],
   "source": [
    "server_df = server_df.pivot_table(values='transit_server_type',index='id',columns='transit_server_type',fill_value=0,aggfunc=len)\n",
    "server_df.head()"
   ]
  },
  {
   "cell_type": "code",
   "execution_count": 52,
   "metadata": {},
   "outputs": [
    {
     "data": {
      "text/html": [
       "<div>\n",
       "<style scoped>\n",
       "    .dataframe tbody tr th:only-of-type {\n",
       "        vertical-align: middle;\n",
       "    }\n",
       "\n",
       "    .dataframe tbody tr th {\n",
       "        vertical-align: top;\n",
       "    }\n",
       "\n",
       "    .dataframe thead th {\n",
       "        text-align: right;\n",
       "    }\n",
       "</style>\n",
       "<table border=\"1\" class=\"dataframe\">\n",
       "  <thead>\n",
       "    <tr style=\"text-align: right;\">\n",
       "      <th></th>\n",
       "      <th>transit_server_type_1</th>\n",
       "      <th>transit_server_type_10</th>\n",
       "      <th>transit_server_type_11</th>\n",
       "      <th>transit_server_type_12</th>\n",
       "      <th>transit_server_type_13</th>\n",
       "      <th>transit_server_type_14</th>\n",
       "      <th>transit_server_type_15</th>\n",
       "      <th>transit_server_type_17</th>\n",
       "      <th>transit_server_type_18</th>\n",
       "      <th>transit_server_type_19</th>\n",
       "      <th>...</th>\n",
       "      <th>transit_server_type_5</th>\n",
       "      <th>transit_server_type_50</th>\n",
       "      <th>transit_server_type_51</th>\n",
       "      <th>transit_server_type_52</th>\n",
       "      <th>transit_server_type_53</th>\n",
       "      <th>transit_server_type_54</th>\n",
       "      <th>transit_server_type_6</th>\n",
       "      <th>transit_server_type_7</th>\n",
       "      <th>transit_server_type_8</th>\n",
       "      <th>transit_server_type_9</th>\n",
       "    </tr>\n",
       "    <tr>\n",
       "      <th>id</th>\n",
       "      <th></th>\n",
       "      <th></th>\n",
       "      <th></th>\n",
       "      <th></th>\n",
       "      <th></th>\n",
       "      <th></th>\n",
       "      <th></th>\n",
       "      <th></th>\n",
       "      <th></th>\n",
       "      <th></th>\n",
       "      <th></th>\n",
       "      <th></th>\n",
       "      <th></th>\n",
       "      <th></th>\n",
       "      <th></th>\n",
       "      <th></th>\n",
       "      <th></th>\n",
       "      <th></th>\n",
       "      <th></th>\n",
       "      <th></th>\n",
       "      <th></th>\n",
       "    </tr>\n",
       "  </thead>\n",
       "  <tbody>\n",
       "    <tr>\n",
       "      <th>1</th>\n",
       "      <td>0</td>\n",
       "      <td>0</td>\n",
       "      <td>1</td>\n",
       "      <td>0</td>\n",
       "      <td>1</td>\n",
       "      <td>0</td>\n",
       "      <td>0</td>\n",
       "      <td>0</td>\n",
       "      <td>0</td>\n",
       "      <td>0</td>\n",
       "      <td>...</td>\n",
       "      <td>0</td>\n",
       "      <td>0</td>\n",
       "      <td>0</td>\n",
       "      <td>0</td>\n",
       "      <td>0</td>\n",
       "      <td>0</td>\n",
       "      <td>0</td>\n",
       "      <td>0</td>\n",
       "      <td>0</td>\n",
       "      <td>0</td>\n",
       "    </tr>\n",
       "    <tr>\n",
       "      <th>2</th>\n",
       "      <td>0</td>\n",
       "      <td>0</td>\n",
       "      <td>0</td>\n",
       "      <td>0</td>\n",
       "      <td>0</td>\n",
       "      <td>0</td>\n",
       "      <td>0</td>\n",
       "      <td>0</td>\n",
       "      <td>0</td>\n",
       "      <td>0</td>\n",
       "      <td>...</td>\n",
       "      <td>0</td>\n",
       "      <td>0</td>\n",
       "      <td>0</td>\n",
       "      <td>0</td>\n",
       "      <td>0</td>\n",
       "      <td>0</td>\n",
       "      <td>0</td>\n",
       "      <td>0</td>\n",
       "      <td>0</td>\n",
       "      <td>0</td>\n",
       "    </tr>\n",
       "    <tr>\n",
       "      <th>3</th>\n",
       "      <td>0</td>\n",
       "      <td>0</td>\n",
       "      <td>1</td>\n",
       "      <td>0</td>\n",
       "      <td>0</td>\n",
       "      <td>0</td>\n",
       "      <td>0</td>\n",
       "      <td>0</td>\n",
       "      <td>0</td>\n",
       "      <td>0</td>\n",
       "      <td>...</td>\n",
       "      <td>0</td>\n",
       "      <td>0</td>\n",
       "      <td>0</td>\n",
       "      <td>0</td>\n",
       "      <td>0</td>\n",
       "      <td>0</td>\n",
       "      <td>0</td>\n",
       "      <td>0</td>\n",
       "      <td>0</td>\n",
       "      <td>0</td>\n",
       "    </tr>\n",
       "    <tr>\n",
       "      <th>4</th>\n",
       "      <td>0</td>\n",
       "      <td>0</td>\n",
       "      <td>0</td>\n",
       "      <td>0</td>\n",
       "      <td>0</td>\n",
       "      <td>0</td>\n",
       "      <td>0</td>\n",
       "      <td>0</td>\n",
       "      <td>0</td>\n",
       "      <td>0</td>\n",
       "      <td>...</td>\n",
       "      <td>0</td>\n",
       "      <td>0</td>\n",
       "      <td>0</td>\n",
       "      <td>0</td>\n",
       "      <td>0</td>\n",
       "      <td>0</td>\n",
       "      <td>0</td>\n",
       "      <td>0</td>\n",
       "      <td>0</td>\n",
       "      <td>0</td>\n",
       "    </tr>\n",
       "    <tr>\n",
       "      <th>5</th>\n",
       "      <td>0</td>\n",
       "      <td>0</td>\n",
       "      <td>0</td>\n",
       "      <td>0</td>\n",
       "      <td>0</td>\n",
       "      <td>0</td>\n",
       "      <td>0</td>\n",
       "      <td>0</td>\n",
       "      <td>0</td>\n",
       "      <td>0</td>\n",
       "      <td>...</td>\n",
       "      <td>0</td>\n",
       "      <td>0</td>\n",
       "      <td>0</td>\n",
       "      <td>0</td>\n",
       "      <td>0</td>\n",
       "      <td>0</td>\n",
       "      <td>0</td>\n",
       "      <td>0</td>\n",
       "      <td>0</td>\n",
       "      <td>0</td>\n",
       "    </tr>\n",
       "  </tbody>\n",
       "</table>\n",
       "<p>5 rows × 53 columns</p>\n",
       "</div>"
      ],
      "text/plain": [
       "    transit_server_type_1  transit_server_type_10  transit_server_type_11  \\\n",
       "id                                                                          \n",
       "1                       0                       0                       1   \n",
       "2                       0                       0                       0   \n",
       "3                       0                       0                       1   \n",
       "4                       0                       0                       0   \n",
       "5                       0                       0                       0   \n",
       "\n",
       "    transit_server_type_12  transit_server_type_13  transit_server_type_14  \\\n",
       "id                                                                           \n",
       "1                        0                       1                       0   \n",
       "2                        0                       0                       0   \n",
       "3                        0                       0                       0   \n",
       "4                        0                       0                       0   \n",
       "5                        0                       0                       0   \n",
       "\n",
       "    transit_server_type_15  transit_server_type_17  transit_server_type_18  \\\n",
       "id                                                                           \n",
       "1                        0                       0                       0   \n",
       "2                        0                       0                       0   \n",
       "3                        0                       0                       0   \n",
       "4                        0                       0                       0   \n",
       "5                        0                       0                       0   \n",
       "\n",
       "    transit_server_type_19  ...  transit_server_type_5  \\\n",
       "id                          ...                          \n",
       "1                        0  ...                      0   \n",
       "2                        0  ...                      0   \n",
       "3                        0  ...                      0   \n",
       "4                        0  ...                      0   \n",
       "5                        0  ...                      0   \n",
       "\n",
       "    transit_server_type_50  transit_server_type_51  transit_server_type_52  \\\n",
       "id                                                                           \n",
       "1                        0                       0                       0   \n",
       "2                        0                       0                       0   \n",
       "3                        0                       0                       0   \n",
       "4                        0                       0                       0   \n",
       "5                        0                       0                       0   \n",
       "\n",
       "    transit_server_type_53  transit_server_type_54  transit_server_type_6  \\\n",
       "id                                                                          \n",
       "1                        0                       0                      0   \n",
       "2                        0                       0                      0   \n",
       "3                        0                       0                      0   \n",
       "4                        0                       0                      0   \n",
       "5                        0                       0                      0   \n",
       "\n",
       "    transit_server_type_7  transit_server_type_8  transit_server_type_9  \n",
       "id                                                                       \n",
       "1                       0                      0                      0  \n",
       "2                       0                      0                      0  \n",
       "3                       0                      0                      0  \n",
       "4                       0                      0                      0  \n",
       "5                       0                      0                      0  \n",
       "\n",
       "[5 rows x 53 columns]"
      ]
     },
     "execution_count": 52,
     "metadata": {},
     "output_type": "execute_result"
    }
   ],
   "source": [
    "server_df.columns = server_df.columns.categories\n",
    "server_df.head()"
   ]
  },
  {
   "cell_type": "code",
   "execution_count": 53,
   "metadata": {},
   "outputs": [
    {
     "data": {
      "text/html": [
       "<div>\n",
       "<style scoped>\n",
       "    .dataframe tbody tr th:only-of-type {\n",
       "        vertical-align: middle;\n",
       "    }\n",
       "\n",
       "    .dataframe tbody tr th {\n",
       "        vertical-align: top;\n",
       "    }\n",
       "\n",
       "    .dataframe thead th {\n",
       "        text-align: right;\n",
       "    }\n",
       "</style>\n",
       "<table border=\"1\" class=\"dataframe\">\n",
       "  <thead>\n",
       "    <tr style=\"text-align: right;\">\n",
       "      <th></th>\n",
       "      <th>id</th>\n",
       "      <th>transit_server_type_1</th>\n",
       "      <th>transit_server_type_10</th>\n",
       "      <th>transit_server_type_11</th>\n",
       "      <th>transit_server_type_12</th>\n",
       "      <th>transit_server_type_13</th>\n",
       "      <th>transit_server_type_14</th>\n",
       "      <th>transit_server_type_15</th>\n",
       "      <th>transit_server_type_17</th>\n",
       "      <th>transit_server_type_18</th>\n",
       "      <th>...</th>\n",
       "      <th>transit_server_type_5</th>\n",
       "      <th>transit_server_type_50</th>\n",
       "      <th>transit_server_type_51</th>\n",
       "      <th>transit_server_type_52</th>\n",
       "      <th>transit_server_type_53</th>\n",
       "      <th>transit_server_type_54</th>\n",
       "      <th>transit_server_type_6</th>\n",
       "      <th>transit_server_type_7</th>\n",
       "      <th>transit_server_type_8</th>\n",
       "      <th>transit_server_type_9</th>\n",
       "    </tr>\n",
       "  </thead>\n",
       "  <tbody>\n",
       "    <tr>\n",
       "      <th>0</th>\n",
       "      <td>1</td>\n",
       "      <td>0</td>\n",
       "      <td>0</td>\n",
       "      <td>1</td>\n",
       "      <td>0</td>\n",
       "      <td>1</td>\n",
       "      <td>0</td>\n",
       "      <td>0</td>\n",
       "      <td>0</td>\n",
       "      <td>0</td>\n",
       "      <td>...</td>\n",
       "      <td>0</td>\n",
       "      <td>0</td>\n",
       "      <td>0</td>\n",
       "      <td>0</td>\n",
       "      <td>0</td>\n",
       "      <td>0</td>\n",
       "      <td>0</td>\n",
       "      <td>0</td>\n",
       "      <td>0</td>\n",
       "      <td>0</td>\n",
       "    </tr>\n",
       "    <tr>\n",
       "      <th>1</th>\n",
       "      <td>2</td>\n",
       "      <td>0</td>\n",
       "      <td>0</td>\n",
       "      <td>0</td>\n",
       "      <td>0</td>\n",
       "      <td>0</td>\n",
       "      <td>0</td>\n",
       "      <td>0</td>\n",
       "      <td>0</td>\n",
       "      <td>0</td>\n",
       "      <td>...</td>\n",
       "      <td>0</td>\n",
       "      <td>0</td>\n",
       "      <td>0</td>\n",
       "      <td>0</td>\n",
       "      <td>0</td>\n",
       "      <td>0</td>\n",
       "      <td>0</td>\n",
       "      <td>0</td>\n",
       "      <td>0</td>\n",
       "      <td>0</td>\n",
       "    </tr>\n",
       "    <tr>\n",
       "      <th>2</th>\n",
       "      <td>3</td>\n",
       "      <td>0</td>\n",
       "      <td>0</td>\n",
       "      <td>1</td>\n",
       "      <td>0</td>\n",
       "      <td>0</td>\n",
       "      <td>0</td>\n",
       "      <td>0</td>\n",
       "      <td>0</td>\n",
       "      <td>0</td>\n",
       "      <td>...</td>\n",
       "      <td>0</td>\n",
       "      <td>0</td>\n",
       "      <td>0</td>\n",
       "      <td>0</td>\n",
       "      <td>0</td>\n",
       "      <td>0</td>\n",
       "      <td>0</td>\n",
       "      <td>0</td>\n",
       "      <td>0</td>\n",
       "      <td>0</td>\n",
       "    </tr>\n",
       "    <tr>\n",
       "      <th>3</th>\n",
       "      <td>4</td>\n",
       "      <td>0</td>\n",
       "      <td>0</td>\n",
       "      <td>0</td>\n",
       "      <td>0</td>\n",
       "      <td>0</td>\n",
       "      <td>0</td>\n",
       "      <td>0</td>\n",
       "      <td>0</td>\n",
       "      <td>0</td>\n",
       "      <td>...</td>\n",
       "      <td>0</td>\n",
       "      <td>0</td>\n",
       "      <td>0</td>\n",
       "      <td>0</td>\n",
       "      <td>0</td>\n",
       "      <td>0</td>\n",
       "      <td>0</td>\n",
       "      <td>0</td>\n",
       "      <td>0</td>\n",
       "      <td>0</td>\n",
       "    </tr>\n",
       "    <tr>\n",
       "      <th>4</th>\n",
       "      <td>5</td>\n",
       "      <td>0</td>\n",
       "      <td>0</td>\n",
       "      <td>0</td>\n",
       "      <td>0</td>\n",
       "      <td>0</td>\n",
       "      <td>0</td>\n",
       "      <td>0</td>\n",
       "      <td>0</td>\n",
       "      <td>0</td>\n",
       "      <td>...</td>\n",
       "      <td>0</td>\n",
       "      <td>0</td>\n",
       "      <td>0</td>\n",
       "      <td>0</td>\n",
       "      <td>0</td>\n",
       "      <td>0</td>\n",
       "      <td>0</td>\n",
       "      <td>0</td>\n",
       "      <td>0</td>\n",
       "      <td>0</td>\n",
       "    </tr>\n",
       "  </tbody>\n",
       "</table>\n",
       "<p>5 rows × 54 columns</p>\n",
       "</div>"
      ],
      "text/plain": [
       "  id  transit_server_type_1  transit_server_type_10  transit_server_type_11  \\\n",
       "0  1                      0                       0                       1   \n",
       "1  2                      0                       0                       0   \n",
       "2  3                      0                       0                       1   \n",
       "3  4                      0                       0                       0   \n",
       "4  5                      0                       0                       0   \n",
       "\n",
       "   transit_server_type_12  transit_server_type_13  transit_server_type_14  \\\n",
       "0                       0                       1                       0   \n",
       "1                       0                       0                       0   \n",
       "2                       0                       0                       0   \n",
       "3                       0                       0                       0   \n",
       "4                       0                       0                       0   \n",
       "\n",
       "   transit_server_type_15  transit_server_type_17  transit_server_type_18  \\\n",
       "0                       0                       0                       0   \n",
       "1                       0                       0                       0   \n",
       "2                       0                       0                       0   \n",
       "3                       0                       0                       0   \n",
       "4                       0                       0                       0   \n",
       "\n",
       "   ...  transit_server_type_5  transit_server_type_50  transit_server_type_51  \\\n",
       "0  ...                      0                       0                       0   \n",
       "1  ...                      0                       0                       0   \n",
       "2  ...                      0                       0                       0   \n",
       "3  ...                      0                       0                       0   \n",
       "4  ...                      0                       0                       0   \n",
       "\n",
       "   transit_server_type_52  transit_server_type_53  transit_server_type_54  \\\n",
       "0                       0                       0                       0   \n",
       "1                       0                       0                       0   \n",
       "2                       0                       0                       0   \n",
       "3                       0                       0                       0   \n",
       "4                       0                       0                       0   \n",
       "\n",
       "   transit_server_type_6  transit_server_type_7  transit_server_type_8  \\\n",
       "0                      0                      0                      0   \n",
       "1                      0                      0                      0   \n",
       "2                      0                      0                      0   \n",
       "3                      0                      0                      0   \n",
       "4                      0                      0                      0   \n",
       "\n",
       "   transit_server_type_9  \n",
       "0                      0  \n",
       "1                      0  \n",
       "2                      0  \n",
       "3                      0  \n",
       "4                      0  \n",
       "\n",
       "[5 rows x 54 columns]"
      ]
     },
     "execution_count": 53,
     "metadata": {},
     "output_type": "execute_result"
    }
   ],
   "source": [
    "server_df= server_df.reset_index()\n",
    "server_df.head()"
   ]
  },
  {
   "cell_type": "code",
   "execution_count": 54,
   "metadata": {},
   "outputs": [
    {
     "data": {
      "text/plain": [
       "False"
      ]
     },
     "execution_count": 54,
     "metadata": {},
     "output_type": "execute_result"
    }
   ],
   "source": [
    "# checking for any nulls\n",
    "server_df.isnull().values.any()"
   ]
  },
  {
   "cell_type": "code",
   "execution_count": 55,
   "metadata": {},
   "outputs": [
    {
     "data": {
      "text/plain": [
       "(18552, 54)"
      ]
     },
     "execution_count": 55,
     "metadata": {},
     "output_type": "execute_result"
    }
   ],
   "source": [
    "# shape of the dataset post processing\n",
    "server_df.shape"
   ]
  },
  {
   "cell_type": "markdown",
   "metadata": {},
   "source": [
    "#### 3.5 Train Data"
   ]
  },
  {
   "cell_type": "code",
   "execution_count": 56,
   "metadata": {},
   "outputs": [
    {
     "data": {
      "text/html": [
       "<div>\n",
       "<style scoped>\n",
       "    .dataframe tbody tr th:only-of-type {\n",
       "        vertical-align: middle;\n",
       "    }\n",
       "\n",
       "    .dataframe tbody tr th {\n",
       "        vertical-align: top;\n",
       "    }\n",
       "\n",
       "    .dataframe thead th {\n",
       "        text-align: right;\n",
       "    }\n",
       "</style>\n",
       "<table border=\"1\" class=\"dataframe\">\n",
       "  <thead>\n",
       "    <tr style=\"text-align: right;\">\n",
       "      <th></th>\n",
       "      <th>id</th>\n",
       "      <th>area_code</th>\n",
       "      <th>outage_duration</th>\n",
       "    </tr>\n",
       "  </thead>\n",
       "  <tbody>\n",
       "    <tr>\n",
       "      <th>0</th>\n",
       "      <td>13366</td>\n",
       "      <td>area_415</td>\n",
       "      <td>1</td>\n",
       "    </tr>\n",
       "    <tr>\n",
       "      <th>1</th>\n",
       "      <td>6783</td>\n",
       "      <td>area_474</td>\n",
       "      <td>0</td>\n",
       "    </tr>\n",
       "    <tr>\n",
       "      <th>2</th>\n",
       "      <td>9519</td>\n",
       "      <td>area_931</td>\n",
       "      <td>1</td>\n",
       "    </tr>\n",
       "    <tr>\n",
       "      <th>3</th>\n",
       "      <td>10202</td>\n",
       "      <td>area_700</td>\n",
       "      <td>1</td>\n",
       "    </tr>\n",
       "    <tr>\n",
       "      <th>4</th>\n",
       "      <td>4555</td>\n",
       "      <td>area_600</td>\n",
       "      <td>2</td>\n",
       "    </tr>\n",
       "  </tbody>\n",
       "</table>\n",
       "</div>"
      ],
      "text/plain": [
       "      id area_code  outage_duration\n",
       "0  13366  area_415                1\n",
       "1   6783  area_474                0\n",
       "2   9519  area_931                1\n",
       "3  10202  area_700                1\n",
       "4   4555  area_600                2"
      ]
     },
     "execution_count": 56,
     "metadata": {},
     "output_type": "execute_result"
    }
   ],
   "source": [
    "train_df.head()"
   ]
  },
  {
   "cell_type": "code",
   "execution_count": 57,
   "metadata": {},
   "outputs": [
    {
     "data": {
      "text/plain": [
       "(5904, 3)"
      ]
     },
     "execution_count": 57,
     "metadata": {},
     "output_type": "execute_result"
    }
   ],
   "source": [
    "# Shape of the train data before processing\n",
    "train_df.shape"
   ]
  },
  {
   "cell_type": "code",
   "execution_count": 58,
   "metadata": {},
   "outputs": [
    {
     "name": "stdout",
     "output_type": "stream",
     "text": [
      "<class 'pandas.core.frame.DataFrame'>\n",
      "RangeIndex: 5904 entries, 0 to 5903\n",
      "Data columns (total 3 columns):\n",
      " #   Column           Non-Null Count  Dtype \n",
      "---  ------           --------------  ----- \n",
      " 0   id               5904 non-null   int64 \n",
      " 1   area_code        5904 non-null   object\n",
      " 2   outage_duration  5904 non-null   int64 \n",
      "dtypes: int64(2), object(1)\n",
      "memory usage: 138.5+ KB\n"
     ]
    }
   ],
   "source": [
    "# Summary of the dataset\n",
    "train_df.info()"
   ]
  },
  {
   "cell_type": "code",
   "execution_count": 59,
   "metadata": {},
   "outputs": [],
   "source": [
    "# Changing the type of the data\n",
    "train_df = train_df.astype('category')"
   ]
  },
  {
   "cell_type": "code",
   "execution_count": 60,
   "metadata": {},
   "outputs": [
    {
     "name": "stdout",
     "output_type": "stream",
     "text": [
      "<class 'pandas.core.frame.DataFrame'>\n",
      "RangeIndex: 5904 entries, 0 to 5903\n",
      "Data columns (total 3 columns):\n",
      " #   Column           Non-Null Count  Dtype   \n",
      "---  ------           --------------  -----   \n",
      " 0   id               5904 non-null   category\n",
      " 1   area_code        5904 non-null   category\n",
      " 2   outage_duration  5904 non-null   category\n",
      "dtypes: category(3)\n",
      "memory usage: 282.0 KB\n"
     ]
    }
   ],
   "source": [
    "# Summary post change of the type\n",
    "train_df.info()"
   ]
  },
  {
   "cell_type": "code",
   "execution_count": 61,
   "metadata": {
    "scrolled": true
   },
   "outputs": [
    {
     "data": {
      "text/html": [
       "<div>\n",
       "<style scoped>\n",
       "    .dataframe tbody tr th:only-of-type {\n",
       "        vertical-align: middle;\n",
       "    }\n",
       "\n",
       "    .dataframe tbody tr th {\n",
       "        vertical-align: top;\n",
       "    }\n",
       "\n",
       "    .dataframe thead th {\n",
       "        text-align: right;\n",
       "    }\n",
       "</style>\n",
       "<table border=\"1\" class=\"dataframe\">\n",
       "  <thead>\n",
       "    <tr style=\"text-align: right;\">\n",
       "      <th></th>\n",
       "      <th>id</th>\n",
       "      <th>area_code</th>\n",
       "      <th>outage_duration</th>\n",
       "    </tr>\n",
       "  </thead>\n",
       "  <tbody>\n",
       "    <tr>\n",
       "      <th>count</th>\n",
       "      <td>5904</td>\n",
       "      <td>5904</td>\n",
       "      <td>5904</td>\n",
       "    </tr>\n",
       "    <tr>\n",
       "      <th>unique</th>\n",
       "      <td>5904</td>\n",
       "      <td>876</td>\n",
       "      <td>3</td>\n",
       "    </tr>\n",
       "    <tr>\n",
       "      <th>top</th>\n",
       "      <td>18550</td>\n",
       "      <td>area_821</td>\n",
       "      <td>0</td>\n",
       "    </tr>\n",
       "    <tr>\n",
       "      <th>freq</th>\n",
       "      <td>1</td>\n",
       "      <td>67</td>\n",
       "      <td>3827</td>\n",
       "    </tr>\n",
       "  </tbody>\n",
       "</table>\n",
       "</div>"
      ],
      "text/plain": [
       "           id area_code  outage_duration\n",
       "count    5904      5904             5904\n",
       "unique   5904       876                3\n",
       "top     18550  area_821                0\n",
       "freq        1        67             3827"
      ]
     },
     "execution_count": 61,
     "metadata": {},
     "output_type": "execute_result"
    }
   ],
   "source": [
    "# data description\n",
    "train_df.describe()"
   ]
  },
  {
   "cell_type": "markdown",
   "metadata": {},
   "source": [
    "From the description above we can infer that,\n",
    "1. Each row has a unique `id` and there are a total of `5904` ids\n",
    "2. There are a total `876` `aread_codes`\n",
    "3. `area_821` is the most frequently occuring with the frequency of `67`"
   ]
  },
  {
   "cell_type": "markdown",
   "metadata": {},
   "source": [
    "**Lets understand the distribution of the outage_duration with help of a pie-chart**"
   ]
  },
  {
   "cell_type": "code",
   "execution_count": 62,
   "metadata": {},
   "outputs": [
    {
     "data": {
      "image/png": "[encoded data removed]",
      "text/plain": [
       "<Figure size 432x288 with 1 Axes>"
      ]
     },
     "metadata": {},
     "output_type": "display_data"
    }
   ],
   "source": [
    "train_df.outage_duration.value_counts().plot(kind='pie',autopct='%1.1f%%')\n",
    "plt.show()"
   ]
  },
  {
   "cell_type": "markdown",
   "metadata": {},
   "source": [
    "There is clear class imbalance in the train data"
   ]
  },
  {
   "cell_type": "markdown",
   "metadata": {},
   "source": [
    "## 4. Answers to the operations team"
   ]
  },
  {
   "cell_type": "markdown",
   "metadata": {},
   "source": [
    "#### 4.1 Which areas are most prone to long outage durations?"
   ]
  },
  {
   "cell_type": "code",
   "execution_count": 63,
   "metadata": {},
   "outputs": [],
   "source": [
    "# Filtering the area with outage duration is long, and getting the count of occurence\n",
    "long_outage_area_count = train_df.loc[train_df.outage_duration==2].area_code.value_counts()"
   ]
  },
  {
   "cell_type": "code",
   "execution_count": 64,
   "metadata": {
    "scrolled": true
   },
   "outputs": [
    {
     "data": {
      "image/png": "[encoded data removed]",
      "text/plain": [
       "<Figure size 432x288 with 1 Axes>"
      ]
     },
     "metadata": {},
     "output_type": "display_data"
    }
   ],
   "source": [
    "# Plotting top 20 areas most prone to long outage duration\n",
    "long_outage_area_count.nlargest(20).plot(kind='bar')\n",
    "plt.show()"
   ]
  },
  {
   "cell_type": "code",
   "execution_count": 65,
   "metadata": {},
   "outputs": [],
   "source": [
    "# Getting the names of all the areas with outage_duration long in a list in decreasing order\n",
    "long_outage_areas = list(long_outage_area_count[long_outage_area_count>0].index)"
   ]
  },
  {
   "cell_type": "code",
   "execution_count": 66,
   "metadata": {},
   "outputs": [
    {
     "name": "stdout",
     "output_type": "stream",
     "text": [
      "['area_1100', 'area_1107', 'area_600', 'area_821', 'area_734', 'area_704', 'area_1019', 'area_810', 'area_834', 'area_684', 'area_798', 'area_995', 'area_962', 'area_1086', 'area_653', 'area_1008', 'area_846', 'area_763', 'area_613', 'area_845', 'area_638', 'area_1042', 'area_1052', 'area_895', 'area_1075', 'area_976', 'area_1061', 'area_921', 'area_599', 'area_892', 'area_745', 'area_984', 'area_931', 'area_866', 'area_830', 'area_779', 'area_641', 'area_644', 'area_906', 'area_885', 'area_909', 'area_884', 'area_1051', 'area_897', 'area_769', 'area_1089', 'area_864', 'area_844', 'area_13', 'area_744', 'area_726', 'area_705', 'area_7', 'area_619', 'area_674', 'area_667', 'area_646', 'area_648', 'area_1050', 'area_1', 'area_1020', 'area_925', 'area_926', 'area_1046', 'area_991', 'area_1024', 'area_839', 'area_724', 'area_1016', 'area_73', 'area_924', 'area_655', 'area_840', 'area_1109', 'area_1111', 'area_826', 'area_1103', 'area_601', 'area_1026', 'area_972', 'area_1017', 'area_774', 'area_603', 'area_853', 'area_856', 'area_1090', 'area_974', 'area_867', 'area_1112', 'area_738', 'area_33', 'area_957', 'area_551', 'area_778', 'area_1021', 'area_559', 'area_767', 'area_541', 'area_560', 'area_540', 'area_794', 'area_535', 'area_1119', 'area_565', 'area_566', 'area_57', 'area_756', 'area_32', 'area_956', 'area_967', 'area_816', 'area_87', 'area_1014', 'area_1098', 'area_555', 'area_695', 'area_632', 'area_899', 'area_894', 'area_893', 'area_998', 'area_481', 'area_1072', 'area_989', 'area_642', 'area_1034', 'area_645', 'area_643', 'area_937', 'area_1084', 'area_915', 'area_1011', 'area_618', 'area_65', 'area_1049']\n"
     ]
    }
   ],
   "source": [
    "# printing the above list\n",
    "print(long_outage_areas)"
   ]
  },
  {
   "cell_type": "markdown",
   "metadata": {},
   "source": [
    "#### 4.2 Which broadband types are suspect of long outage durations?"
   ]
  },
  {
   "cell_type": "code",
   "execution_count": 67,
   "metadata": {
    "scrolled": true
   },
   "outputs": [
    {
     "name": "stdout",
     "output_type": "stream",
     "text": [
      "ADSL 1              544\n",
      "ADSL 2               82\n",
      "ADSL 2+              26\n",
      "Fiber 1              17\n",
      "Fiber Ultra          10\n",
      "Cable                 9\n",
      "Fiber 2               4\n",
      "BPL                   4\n",
      "Fiber Ultra Max       3\n",
      "Fiber High Speed      1\n",
      "dtype: int64\n"
     ]
    }
   ],
   "source": [
    "# Filtering long outage_duration, merging the train_data with broadband_df, getting the sum along axis=0 , sorting in descending\n",
    "broadband_types_long_outage = train_df.loc[train_df.outage_duration==2][['id']]\\\n",
    "                                .merge(broadband_df,on='id').sum().drop(index='id')\\\n",
    "                                    .sort_values(ascending=False)\n",
    "print(broadband_types_long_outage)"
   ]
  },
  {
   "cell_type": "markdown",
   "metadata": {},
   "source": [
    "As we can see the long outage duration has ADSL 1 as the most common type of broadband followed by other ADSL types. Lets visualize the same in a bar chart"
   ]
  },
  {
   "cell_type": "code",
   "execution_count": 68,
   "metadata": {},
   "outputs": [
    {
     "data": {
      "image/png": "[encoded data removed]",
      "text/plain": [
       "<Figure size 432x288 with 1 Axes>"
      ]
     },
     "metadata": {},
     "output_type": "display_data"
    }
   ],
   "source": [
    "broadband_types_long_outage.plot(kind='barh')\n",
    "plt.show()"
   ]
  },
  {
   "cell_type": "markdown",
   "metadata": {},
   "source": [
    "#### 4.3 Any other recommendations to improve the detection of outage durations.\n",
    "1. As we saw some of the datasets had predictor variables of categorical type which huge number of categories, we can group data and reduce them, to improve our detection of outage durations\n",
    "2. From the pie chart we saw that the training data has some class imbalance, hence using techniques like smoting etc. can improve the detection of the outage duration"
   ]
  },
  {
   "cell_type": "markdown",
   "metadata": {},
   "source": [
    "## 5. Model Building"
   ]
  },
  {
   "cell_type": "markdown",
   "metadata": {},
   "source": [
    "Lets try building the model starting least complex to most complex with validation and comparing the performance of each model"
   ]
  },
  {
   "cell_type": "code",
   "execution_count": 69,
   "metadata": {
    "scrolled": true
   },
   "outputs": [
    {
     "data": {
      "text/html": [
       "<div>\n",
       "<style scoped>\n",
       "    .dataframe tbody tr th:only-of-type {\n",
       "        vertical-align: middle;\n",
       "    }\n",
       "\n",
       "    .dataframe tbody tr th {\n",
       "        vertical-align: top;\n",
       "    }\n",
       "\n",
       "    .dataframe thead th {\n",
       "        text-align: right;\n",
       "    }\n",
       "</style>\n",
       "<table border=\"1\" class=\"dataframe\">\n",
       "  <thead>\n",
       "    <tr style=\"text-align: right;\">\n",
       "      <th></th>\n",
       "      <th>id</th>\n",
       "      <th>area_code</th>\n",
       "    </tr>\n",
       "  </thead>\n",
       "  <tbody>\n",
       "    <tr>\n",
       "      <th>0</th>\n",
       "      <td>3340</td>\n",
       "      <td>area_344</td>\n",
       "    </tr>\n",
       "    <tr>\n",
       "      <th>1</th>\n",
       "      <td>14067</td>\n",
       "      <td>area_933</td>\n",
       "    </tr>\n",
       "    <tr>\n",
       "      <th>2</th>\n",
       "      <td>1134</td>\n",
       "      <td>area_16</td>\n",
       "    </tr>\n",
       "    <tr>\n",
       "      <th>3</th>\n",
       "      <td>27</td>\n",
       "      <td>area_793</td>\n",
       "    </tr>\n",
       "    <tr>\n",
       "      <th>4</th>\n",
       "      <td>9793</td>\n",
       "      <td>area_344</td>\n",
       "    </tr>\n",
       "  </tbody>\n",
       "</table>\n",
       "</div>"
      ],
      "text/plain": [
       "      id area_code\n",
       "0   3340  area_344\n",
       "1  14067  area_933\n",
       "2   1134   area_16\n",
       "3     27  area_793\n",
       "4   9793  area_344"
      ]
     },
     "execution_count": 69,
     "metadata": {},
     "output_type": "execute_result"
    }
   ],
   "source": [
    "# test data set\n",
    "test_df = pd.read_csv('data/test_data-1593798292529.csv')\n",
    "test_df.head()"
   ]
  },
  {
   "cell_type": "code",
   "execution_count": 70,
   "metadata": {},
   "outputs": [],
   "source": [
    "test_df.area_code = test_df.area_code.astype('category')"
   ]
  },
  {
   "cell_type": "markdown",
   "metadata": {},
   "source": [
    "### 5.1 Pre-Processing"
   ]
  },
  {
   "cell_type": "markdown",
   "metadata": {},
   "source": [
    "#### 5.1.1 Merging datasets and splitting data into input and output(X and y)"
   ]
  },
  {
   "cell_type": "code",
   "execution_count": 71,
   "metadata": {},
   "outputs": [],
   "source": [
    "# merging train data with the other dataframes\n",
    "\n",
    "train_dfs = [train_df.drop('area_code',axis=1),broadband_df,outage_df,report_df,server_df]\n",
    "test_dfs = [test_df.drop('area_code',axis=1),broadband_df,outage_df,report_df,server_df]\n",
    "train_final = reduce(lambda left,right: pd.merge(left,right,on='id'), train_dfs)\n",
    "test_final =  reduce(lambda left,right: pd.merge(left,right,on='id'), test_dfs)"
   ]
  },
  {
   "cell_type": "code",
   "execution_count": 72,
   "metadata": {
    "scrolled": false
   },
   "outputs": [
    {
     "data": {
      "text/plain": [
       "((5904, 456), (1477, 455))"
      ]
     },
     "execution_count": 72,
     "metadata": {},
     "output_type": "execute_result"
    }
   ],
   "source": [
    "train_final.shape,test_final.shape"
   ]
  },
  {
   "cell_type": "code",
   "execution_count": 73,
   "metadata": {},
   "outputs": [
    {
     "data": {
      "text/plain": [
       "<matplotlib.axes._subplots.AxesSubplot at 0x26d65462448>"
      ]
     },
     "execution_count": 73,
     "metadata": {},
     "output_type": "execute_result"
    },
    {
     "data": {
      "image/png": "[encoded data removed]",
      "text/plain": [
       "<Figure size 432x288 with 1 Axes>"
      ]
     },
     "metadata": {},
     "output_type": "display_data"
    }
   ],
   "source": [
    "train_final.outage_duration.value_counts(normalize=True).plot(kind='pie',autopct='%1.1f%%')"
   ]
  },
  {
   "cell_type": "code",
   "execution_count": 74,
   "metadata": {},
   "outputs": [],
   "source": [
    "train_final.set_index('id',inplace=True)\n",
    "X_train, X_val, y_train, y_val = train_test_split(train_final.drop('outage_duration',axis=1), train_df.outage_duration, test_size=0.2, random_state=42)\n",
    "\n",
    "X_test = test_final.set_index('id')\n"
   ]
  },
  {
   "cell_type": "code",
   "execution_count": 75,
   "metadata": {},
   "outputs": [],
   "source": [
    "from imblearn.over_sampling import SMOTE\n",
    "smote = SMOTE('not majority')\n",
    "X_smote,y_smote = smote.fit_sample(train_final.drop('outage_duration',axis=1),train_final.outage_duration)\n",
    "X_train_sm, X_val_sm, y_train_sm, y_val_sm = train_test_split(X_smote, y_smote, test_size=0.2, random_state=42)\n"
   ]
  },
  {
   "cell_type": "code",
   "execution_count": 76,
   "metadata": {},
   "outputs": [
    {
     "data": {
      "text/plain": [
       "((4723, 454), (4723,), (1181, 454), (1181,), (1477, 454))"
      ]
     },
     "execution_count": 76,
     "metadata": {},
     "output_type": "execute_result"
    }
   ],
   "source": [
    "X_train.shape,y_train.shape,X_val.shape,y_val.shape,X_test.shape"
   ]
  },
  {
   "cell_type": "code",
   "execution_count": 77,
   "metadata": {},
   "outputs": [
    {
     "data": {
      "text/plain": [
       "((9184, 454), (9184,), (2297, 454), (2297,), (1477, 454))"
      ]
     },
     "execution_count": 77,
     "metadata": {},
     "output_type": "execute_result"
    }
   ],
   "source": [
    "X_train_sm.shape,y_train_sm.shape,X_val_sm.shape,y_val_sm.shape,X_test.shape"
   ]
  },
  {
   "cell_type": "code",
   "execution_count": 78,
   "metadata": {},
   "outputs": [
    {
     "data": {
      "text/plain": [
       "<matplotlib.axes._subplots.AxesSubplot at 0x26d0061c908>"
      ]
     },
     "execution_count": 78,
     "metadata": {},
     "output_type": "execute_result"
    },
    {
     "data": {
      "image/png": "[encoded data removed]",
      "text/plain": [
       "<Figure size 432x288 with 1 Axes>"
      ]
     },
     "metadata": {},
     "output_type": "display_data"
    }
   ],
   "source": [
    "y_smote.value_counts(normalize=True).plot(kind='pie',autopct='%1.1f%%')"
   ]
  },
  {
   "cell_type": "markdown",
   "metadata": {},
   "source": [
    "Hence our final train data has 5904 rows which is what we started with and has 455 predictor variables and test data has 1477 observations"
   ]
  },
  {
   "cell_type": "markdown",
   "metadata": {},
   "source": [
    "#### 5.1.2 Pipeling of pre-processing"
   ]
  },
  {
   "cell_type": "code",
   "execution_count": 79,
   "metadata": {},
   "outputs": [],
   "source": [
    "from sklearn.preprocessing import MinMaxScaler, OneHotEncoder\n",
    "from sklearn.pipeline import Pipeline\n",
    "from sklearn.compose import ColumnTransformer"
   ]
  },
  {
   "cell_type": "code",
   "execution_count": 80,
   "metadata": {},
   "outputs": [],
   "source": [
    "num_attr = list(X_train.select_dtypes('number').columns)\n",
    "cat_attr = list(X_train.select_dtypes('category').columns)"
   ]
  },
  {
   "cell_type": "code",
   "execution_count": 81,
   "metadata": {},
   "outputs": [],
   "source": [
    "numeric_transformer = Pipeline(steps=[('scaler', MinMaxScaler())])\n",
    "\n",
    "categorical_transformer = Pipeline(steps=[('onehot', OneHotEncoder(handle_unknown='ignore',))])\n",
    "\n",
    "preprocessor = ColumnTransformer(\n",
    "    transformers=[\n",
    "        ('num', numeric_transformer, num_attr),\n",
    "        ('cat', categorical_transformer, cat_attr)])"
   ]
  },
  {
   "cell_type": "markdown",
   "metadata": {},
   "source": [
    "### 5.2 Logistic Regression"
   ]
  },
  {
   "cell_type": "code",
   "execution_count": 82,
   "metadata": {},
   "outputs": [],
   "source": [
    "from sklearn.linear_model import LogisticRegression\n",
    "from sklearn.decomposition import PCA\n",
    "from sklearn.model_selection import GridSearchCV"
   ]
  },
  {
   "cell_type": "code",
   "execution_count": 83,
   "metadata": {},
   "outputs": [],
   "source": [
    "clf_logreg = Pipeline(steps=[('preprocessor', preprocessor),\n",
    "                      ('classifier', LogisticRegression(max_iter=10000, tol=0.1))])\n",
    "clf_logreg_sm = Pipeline(steps=[('preprocessor', preprocessor),\n",
    "                      ('classifier', LogisticRegression(max_iter=10000, tol=0.1))])"
   ]
  },
  {
   "cell_type": "code",
   "execution_count": 84,
   "metadata": {},
   "outputs": [
    {
     "ename": "KeyboardInterrupt",
     "evalue": "",
     "output_type": "error",
     "traceback": [
      "\u001b[1;31m---------------------------------------------------------------------------\u001b[0m",
      "\u001b[1;31mKeyboardInterrupt\u001b[0m                         Traceback (most recent call last)",
      "\u001b[1;32m<ipython-input-84-b74e6abcbd09>\u001b[0m in \u001b[0;36m<module>\u001b[1;34m\u001b[0m\n\u001b[1;32m----> 1\u001b[1;33m \u001b[0mclf_logreg\u001b[0m\u001b[1;33m.\u001b[0m\u001b[0mfit\u001b[0m\u001b[1;33m(\u001b[0m\u001b[0mX_train\u001b[0m\u001b[1;33m,\u001b[0m \u001b[0my_train\u001b[0m\u001b[1;33m)\u001b[0m\u001b[1;33m\u001b[0m\u001b[1;33m\u001b[0m\u001b[0m\n\u001b[0m",
      "\u001b[1;32m~\\.conda\\envs\\R and Py\\lib\\site-packages\\sklearn\\pipeline.py\u001b[0m in \u001b[0;36mfit\u001b[1;34m(self, X, y, **fit_params)\u001b[0m\n\u001b[0;32m    352\u001b[0m                                  self._log_message(len(self.steps) - 1)):\n\u001b[0;32m    353\u001b[0m             \u001b[1;32mif\u001b[0m \u001b[0mself\u001b[0m\u001b[1;33m.\u001b[0m\u001b[0m_final_estimator\u001b[0m \u001b[1;33m!=\u001b[0m \u001b[1;34m'passthrough'\u001b[0m\u001b[1;33m:\u001b[0m\u001b[1;33m\u001b[0m\u001b[1;33m\u001b[0m\u001b[0m\n\u001b[1;32m--> 354\u001b[1;33m                 \u001b[0mself\u001b[0m\u001b[1;33m.\u001b[0m\u001b[0m_final_estimator\u001b[0m\u001b[1;33m.\u001b[0m\u001b[0mfit\u001b[0m\u001b[1;33m(\u001b[0m\u001b[0mXt\u001b[0m\u001b[1;33m,\u001b[0m \u001b[0my\u001b[0m\u001b[1;33m,\u001b[0m \u001b[1;33m**\u001b[0m\u001b[0mfit_params\u001b[0m\u001b[1;33m)\u001b[0m\u001b[1;33m\u001b[0m\u001b[1;33m\u001b[0m\u001b[0m\n\u001b[0m\u001b[0;32m    355\u001b[0m         \u001b[1;32mreturn\u001b[0m \u001b[0mself\u001b[0m\u001b[1;33m\u001b[0m\u001b[1;33m\u001b[0m\u001b[0m\n\u001b[0;32m    356\u001b[0m \u001b[1;33m\u001b[0m\u001b[0m\n",
      "\u001b[1;32m~\\.conda\\envs\\R and Py\\lib\\site-packages\\sklearn\\linear_model\\_logistic.py\u001b[0m in \u001b[0;36mfit\u001b[1;34m(self, X, y, sample_weight)\u001b[0m\n\u001b[0;32m   1599\u001b[0m                       \u001b[0mpenalty\u001b[0m\u001b[1;33m=\u001b[0m\u001b[0mpenalty\u001b[0m\u001b[1;33m,\u001b[0m \u001b[0mmax_squared_sum\u001b[0m\u001b[1;33m=\u001b[0m\u001b[0mmax_squared_sum\u001b[0m\u001b[1;33m,\u001b[0m\u001b[1;33m\u001b[0m\u001b[1;33m\u001b[0m\u001b[0m\n\u001b[0;32m   1600\u001b[0m                       sample_weight=sample_weight)\n\u001b[1;32m-> 1601\u001b[1;33m             for class_, warm_start_coef_ in zip(classes_, warm_start_coef))\n\u001b[0m\u001b[0;32m   1602\u001b[0m \u001b[1;33m\u001b[0m\u001b[0m\n\u001b[0;32m   1603\u001b[0m         \u001b[0mfold_coefs_\u001b[0m\u001b[1;33m,\u001b[0m \u001b[0m_\u001b[0m\u001b[1;33m,\u001b[0m \u001b[0mn_iter_\u001b[0m \u001b[1;33m=\u001b[0m \u001b[0mzip\u001b[0m\u001b[1;33m(\u001b[0m\u001b[1;33m*\u001b[0m\u001b[0mfold_coefs_\u001b[0m\u001b[1;33m)\u001b[0m\u001b[1;33m\u001b[0m\u001b[1;33m\u001b[0m\u001b[0m\n",
      "\u001b[1;32m~\\.conda\\envs\\R and Py\\lib\\site-packages\\joblib\\parallel.py\u001b[0m in \u001b[0;36m__call__\u001b[1;34m(self, iterable)\u001b[0m\n\u001b[0;32m   1002\u001b[0m             \u001b[1;31m# remaining jobs.\u001b[0m\u001b[1;33m\u001b[0m\u001b[1;33m\u001b[0m\u001b[1;33m\u001b[0m\u001b[0m\n\u001b[0;32m   1003\u001b[0m             \u001b[0mself\u001b[0m\u001b[1;33m.\u001b[0m\u001b[0m_iterating\u001b[0m \u001b[1;33m=\u001b[0m \u001b[1;32mFalse\u001b[0m\u001b[1;33m\u001b[0m\u001b[1;33m\u001b[0m\u001b[0m\n\u001b[1;32m-> 1004\u001b[1;33m             \u001b[1;32mif\u001b[0m \u001b[0mself\u001b[0m\u001b[1;33m.\u001b[0m\u001b[0mdispatch_one_batch\u001b[0m\u001b[1;33m(\u001b[0m\u001b[0miterator\u001b[0m\u001b[1;33m)\u001b[0m\u001b[1;33m:\u001b[0m\u001b[1;33m\u001b[0m\u001b[1;33m\u001b[0m\u001b[0m\n\u001b[0m\u001b[0;32m   1005\u001b[0m                 \u001b[0mself\u001b[0m\u001b[1;33m.\u001b[0m\u001b[0m_iterating\u001b[0m \u001b[1;33m=\u001b[0m \u001b[0mself\u001b[0m\u001b[1;33m.\u001b[0m\u001b[0m_original_iterator\u001b[0m \u001b[1;32mis\u001b[0m \u001b[1;32mnot\u001b[0m \u001b[1;32mNone\u001b[0m\u001b[1;33m\u001b[0m\u001b[1;33m\u001b[0m\u001b[0m\n\u001b[0;32m   1006\u001b[0m \u001b[1;33m\u001b[0m\u001b[0m\n",
      "\u001b[1;32m~\\.conda\\envs\\R and Py\\lib\\site-packages\\joblib\\parallel.py\u001b[0m in \u001b[0;36mdispatch_one_batch\u001b[1;34m(self, iterator)\u001b[0m\n\u001b[0;32m    833\u001b[0m                 \u001b[1;32mreturn\u001b[0m \u001b[1;32mFalse\u001b[0m\u001b[1;33m\u001b[0m\u001b[1;33m\u001b[0m\u001b[0m\n\u001b[0;32m    834\u001b[0m             \u001b[1;32melse\u001b[0m\u001b[1;33m:\u001b[0m\u001b[1;33m\u001b[0m\u001b[1;33m\u001b[0m\u001b[0m\n\u001b[1;32m--> 835\u001b[1;33m                 \u001b[0mself\u001b[0m\u001b[1;33m.\u001b[0m\u001b[0m_dispatch\u001b[0m\u001b[1;33m(\u001b[0m\u001b[0mtasks\u001b[0m\u001b[1;33m)\u001b[0m\u001b[1;33m\u001b[0m\u001b[1;33m\u001b[0m\u001b[0m\n\u001b[0m\u001b[0;32m    836\u001b[0m                 \u001b[1;32mreturn\u001b[0m \u001b[1;32mTrue\u001b[0m\u001b[1;33m\u001b[0m\u001b[1;33m\u001b[0m\u001b[0m\n\u001b[0;32m    837\u001b[0m \u001b[1;33m\u001b[0m\u001b[0m\n",
      "\u001b[1;32m~\\.conda\\envs\\R and Py\\lib\\site-packages\\joblib\\parallel.py\u001b[0m in \u001b[0;36m_dispatch\u001b[1;34m(self, batch)\u001b[0m\n\u001b[0;32m    752\u001b[0m         \u001b[1;32mwith\u001b[0m \u001b[0mself\u001b[0m\u001b[1;33m.\u001b[0m\u001b[0m_lock\u001b[0m\u001b[1;33m:\u001b[0m\u001b[1;33m\u001b[0m\u001b[1;33m\u001b[0m\u001b[0m\n\u001b[0;32m    753\u001b[0m             \u001b[0mjob_idx\u001b[0m \u001b[1;33m=\u001b[0m \u001b[0mlen\u001b[0m\u001b[1;33m(\u001b[0m\u001b[0mself\u001b[0m\u001b[1;33m.\u001b[0m\u001b[0m_jobs\u001b[0m\u001b[1;33m)\u001b[0m\u001b[1;33m\u001b[0m\u001b[1;33m\u001b[0m\u001b[0m\n\u001b[1;32m--> 754\u001b[1;33m             \u001b[0mjob\u001b[0m \u001b[1;33m=\u001b[0m \u001b[0mself\u001b[0m\u001b[1;33m.\u001b[0m\u001b[0m_backend\u001b[0m\u001b[1;33m.\u001b[0m\u001b[0mapply_async\u001b[0m\u001b[1;33m(\u001b[0m\u001b[0mbatch\u001b[0m\u001b[1;33m,\u001b[0m \u001b[0mcallback\u001b[0m\u001b[1;33m=\u001b[0m\u001b[0mcb\u001b[0m\u001b[1;33m)\u001b[0m\u001b[1;33m\u001b[0m\u001b[1;33m\u001b[0m\u001b[0m\n\u001b[0m\u001b[0;32m    755\u001b[0m             \u001b[1;31m# A job can complete so quickly than its callback is\u001b[0m\u001b[1;33m\u001b[0m\u001b[1;33m\u001b[0m\u001b[1;33m\u001b[0m\u001b[0m\n\u001b[0;32m    756\u001b[0m             \u001b[1;31m# called before we get here, causing self._jobs to\u001b[0m\u001b[1;33m\u001b[0m\u001b[1;33m\u001b[0m\u001b[1;33m\u001b[0m\u001b[0m\n",
      "\u001b[1;32m~\\.conda\\envs\\R and Py\\lib\\site-packages\\joblib\\_parallel_backends.py\u001b[0m in \u001b[0;36mapply_async\u001b[1;34m(self, func, callback)\u001b[0m\n\u001b[0;32m    207\u001b[0m     \u001b[1;32mdef\u001b[0m \u001b[0mapply_async\u001b[0m\u001b[1;33m(\u001b[0m\u001b[0mself\u001b[0m\u001b[1;33m,\u001b[0m \u001b[0mfunc\u001b[0m\u001b[1;33m,\u001b[0m \u001b[0mcallback\u001b[0m\u001b[1;33m=\u001b[0m\u001b[1;32mNone\u001b[0m\u001b[1;33m)\u001b[0m\u001b[1;33m:\u001b[0m\u001b[1;33m\u001b[0m\u001b[1;33m\u001b[0m\u001b[0m\n\u001b[0;32m    208\u001b[0m         \u001b[1;34m\"\"\"Schedule a func to be run\"\"\"\u001b[0m\u001b[1;33m\u001b[0m\u001b[1;33m\u001b[0m\u001b[0m\n\u001b[1;32m--> 209\u001b[1;33m         \u001b[0mresult\u001b[0m \u001b[1;33m=\u001b[0m \u001b[0mImmediateResult\u001b[0m\u001b[1;33m(\u001b[0m\u001b[0mfunc\u001b[0m\u001b[1;33m)\u001b[0m\u001b[1;33m\u001b[0m\u001b[1;33m\u001b[0m\u001b[0m\n\u001b[0m\u001b[0;32m    210\u001b[0m         \u001b[1;32mif\u001b[0m \u001b[0mcallback\u001b[0m\u001b[1;33m:\u001b[0m\u001b[1;33m\u001b[0m\u001b[1;33m\u001b[0m\u001b[0m\n\u001b[0;32m    211\u001b[0m             \u001b[0mcallback\u001b[0m\u001b[1;33m(\u001b[0m\u001b[0mresult\u001b[0m\u001b[1;33m)\u001b[0m\u001b[1;33m\u001b[0m\u001b[1;33m\u001b[0m\u001b[0m\n",
      "\u001b[1;32m~\\.conda\\envs\\R and Py\\lib\\site-packages\\joblib\\_parallel_backends.py\u001b[0m in \u001b[0;36m__init__\u001b[1;34m(self, batch)\u001b[0m\n\u001b[0;32m    588\u001b[0m         \u001b[1;31m# Don't delay the application, to avoid keeping the input\u001b[0m\u001b[1;33m\u001b[0m\u001b[1;33m\u001b[0m\u001b[1;33m\u001b[0m\u001b[0m\n\u001b[0;32m    589\u001b[0m         \u001b[1;31m# arguments in memory\u001b[0m\u001b[1;33m\u001b[0m\u001b[1;33m\u001b[0m\u001b[1;33m\u001b[0m\u001b[0m\n\u001b[1;32m--> 590\u001b[1;33m         \u001b[0mself\u001b[0m\u001b[1;33m.\u001b[0m\u001b[0mresults\u001b[0m \u001b[1;33m=\u001b[0m \u001b[0mbatch\u001b[0m\u001b[1;33m(\u001b[0m\u001b[1;33m)\u001b[0m\u001b[1;33m\u001b[0m\u001b[1;33m\u001b[0m\u001b[0m\n\u001b[0m\u001b[0;32m    591\u001b[0m \u001b[1;33m\u001b[0m\u001b[0m\n\u001b[0;32m    592\u001b[0m     \u001b[1;32mdef\u001b[0m \u001b[0mget\u001b[0m\u001b[1;33m(\u001b[0m\u001b[0mself\u001b[0m\u001b[1;33m)\u001b[0m\u001b[1;33m:\u001b[0m\u001b[1;33m\u001b[0m\u001b[1;33m\u001b[0m\u001b[0m\n",
      "\u001b[1;32m~\\.conda\\envs\\R and Py\\lib\\site-packages\\joblib\\parallel.py\u001b[0m in \u001b[0;36m__call__\u001b[1;34m(self)\u001b[0m\n\u001b[0;32m    254\u001b[0m         \u001b[1;32mwith\u001b[0m \u001b[0mparallel_backend\u001b[0m\u001b[1;33m(\u001b[0m\u001b[0mself\u001b[0m\u001b[1;33m.\u001b[0m\u001b[0m_backend\u001b[0m\u001b[1;33m,\u001b[0m \u001b[0mn_jobs\u001b[0m\u001b[1;33m=\u001b[0m\u001b[0mself\u001b[0m\u001b[1;33m.\u001b[0m\u001b[0m_n_jobs\u001b[0m\u001b[1;33m)\u001b[0m\u001b[1;33m:\u001b[0m\u001b[1;33m\u001b[0m\u001b[1;33m\u001b[0m\u001b[0m\n\u001b[0;32m    255\u001b[0m             return [func(*args, **kwargs)\n\u001b[1;32m--> 256\u001b[1;33m                     for func, args, kwargs in self.items]\n\u001b[0m\u001b[0;32m    257\u001b[0m \u001b[1;33m\u001b[0m\u001b[0m\n\u001b[0;32m    258\u001b[0m     \u001b[1;32mdef\u001b[0m \u001b[0m__len__\u001b[0m\u001b[1;33m(\u001b[0m\u001b[0mself\u001b[0m\u001b[1;33m)\u001b[0m\u001b[1;33m:\u001b[0m\u001b[1;33m\u001b[0m\u001b[1;33m\u001b[0m\u001b[0m\n",
      "\u001b[1;32m~\\.conda\\envs\\R and Py\\lib\\site-packages\\joblib\\parallel.py\u001b[0m in \u001b[0;36m<listcomp>\u001b[1;34m(.0)\u001b[0m\n\u001b[0;32m    254\u001b[0m         \u001b[1;32mwith\u001b[0m \u001b[0mparallel_backend\u001b[0m\u001b[1;33m(\u001b[0m\u001b[0mself\u001b[0m\u001b[1;33m.\u001b[0m\u001b[0m_backend\u001b[0m\u001b[1;33m,\u001b[0m \u001b[0mn_jobs\u001b[0m\u001b[1;33m=\u001b[0m\u001b[0mself\u001b[0m\u001b[1;33m.\u001b[0m\u001b[0m_n_jobs\u001b[0m\u001b[1;33m)\u001b[0m\u001b[1;33m:\u001b[0m\u001b[1;33m\u001b[0m\u001b[1;33m\u001b[0m\u001b[0m\n\u001b[0;32m    255\u001b[0m             return [func(*args, **kwargs)\n\u001b[1;32m--> 256\u001b[1;33m                     for func, args, kwargs in self.items]\n\u001b[0m\u001b[0;32m    257\u001b[0m \u001b[1;33m\u001b[0m\u001b[0m\n\u001b[0;32m    258\u001b[0m     \u001b[1;32mdef\u001b[0m \u001b[0m__len__\u001b[0m\u001b[1;33m(\u001b[0m\u001b[0mself\u001b[0m\u001b[1;33m)\u001b[0m\u001b[1;33m:\u001b[0m\u001b[1;33m\u001b[0m\u001b[1;33m\u001b[0m\u001b[0m\n",
      "\u001b[1;32m~\\.conda\\envs\\R and Py\\lib\\site-packages\\sklearn\\linear_model\\_logistic.py\u001b[0m in \u001b[0;36m_logistic_regression_path\u001b[1;34m(X, y, pos_class, Cs, fit_intercept, max_iter, tol, verbose, solver, coef, class_weight, dual, penalty, intercept_scaling, multi_class, random_state, check_input, max_squared_sum, sample_weight, l1_ratio)\u001b[0m\n\u001b[0;32m    934\u001b[0m                 \u001b[0mfunc\u001b[0m\u001b[1;33m,\u001b[0m \u001b[0mw0\u001b[0m\u001b[1;33m,\u001b[0m \u001b[0mmethod\u001b[0m\u001b[1;33m=\u001b[0m\u001b[1;34m\"L-BFGS-B\"\u001b[0m\u001b[1;33m,\u001b[0m \u001b[0mjac\u001b[0m\u001b[1;33m=\u001b[0m\u001b[1;32mTrue\u001b[0m\u001b[1;33m,\u001b[0m\u001b[1;33m\u001b[0m\u001b[1;33m\u001b[0m\u001b[0m\n\u001b[0;32m    935\u001b[0m                 \u001b[0margs\u001b[0m\u001b[1;33m=\u001b[0m\u001b[1;33m(\u001b[0m\u001b[0mX\u001b[0m\u001b[1;33m,\u001b[0m \u001b[0mtarget\u001b[0m\u001b[1;33m,\u001b[0m \u001b[1;36m1.\u001b[0m \u001b[1;33m/\u001b[0m \u001b[0mC\u001b[0m\u001b[1;33m,\u001b[0m \u001b[0msample_weight\u001b[0m\u001b[1;33m)\u001b[0m\u001b[1;33m,\u001b[0m\u001b[1;33m\u001b[0m\u001b[1;33m\u001b[0m\u001b[0m\n\u001b[1;32m--> 936\u001b[1;33m                 \u001b[0moptions\u001b[0m\u001b[1;33m=\u001b[0m\u001b[1;33m{\u001b[0m\u001b[1;34m\"iprint\"\u001b[0m\u001b[1;33m:\u001b[0m \u001b[0miprint\u001b[0m\u001b[1;33m,\u001b[0m \u001b[1;34m\"gtol\"\u001b[0m\u001b[1;33m:\u001b[0m \u001b[0mtol\u001b[0m\u001b[1;33m,\u001b[0m \u001b[1;34m\"maxiter\"\u001b[0m\u001b[1;33m:\u001b[0m \u001b[0mmax_iter\u001b[0m\u001b[1;33m}\u001b[0m\u001b[1;33m\u001b[0m\u001b[1;33m\u001b[0m\u001b[0m\n\u001b[0m\u001b[0;32m    937\u001b[0m             )\n\u001b[0;32m    938\u001b[0m             n_iter_i = _check_optimize_result(\n",
      "\u001b[1;32m~\\.conda\\envs\\R and Py\\lib\\site-packages\\scipy\\optimize\\_minimize.py\u001b[0m in \u001b[0;36mminimize\u001b[1;34m(fun, x0, args, method, jac, hess, hessp, bounds, constraints, tol, callback, options)\u001b[0m\n\u001b[0;32m    608\u001b[0m     \u001b[1;32melif\u001b[0m \u001b[0mmeth\u001b[0m \u001b[1;33m==\u001b[0m \u001b[1;34m'l-bfgs-b'\u001b[0m\u001b[1;33m:\u001b[0m\u001b[1;33m\u001b[0m\u001b[1;33m\u001b[0m\u001b[0m\n\u001b[0;32m    609\u001b[0m         return _minimize_lbfgsb(fun, x0, args, jac, bounds,\n\u001b[1;32m--> 610\u001b[1;33m                                 callback=callback, **options)\n\u001b[0m\u001b[0;32m    611\u001b[0m     \u001b[1;32melif\u001b[0m \u001b[0mmeth\u001b[0m \u001b[1;33m==\u001b[0m \u001b[1;34m'tnc'\u001b[0m\u001b[1;33m:\u001b[0m\u001b[1;33m\u001b[0m\u001b[1;33m\u001b[0m\u001b[0m\n\u001b[0;32m    612\u001b[0m         return _minimize_tnc(fun, x0, args, jac, bounds, callback=callback,\n",
      "\u001b[1;32m~\\.conda\\envs\\R and Py\\lib\\site-packages\\scipy\\optimize\\lbfgsb.py\u001b[0m in \u001b[0;36m_minimize_lbfgsb\u001b[1;34m(fun, x0, args, jac, bounds, disp, maxcor, ftol, gtol, eps, maxfun, maxiter, iprint, callback, maxls, **unknown_options)\u001b[0m\n\u001b[0;32m    343\u001b[0m             \u001b[1;31m# until the completion of the current minimization iteration.\u001b[0m\u001b[1;33m\u001b[0m\u001b[1;33m\u001b[0m\u001b[1;33m\u001b[0m\u001b[0m\n\u001b[0;32m    344\u001b[0m             \u001b[1;31m# Overwrite f and g:\u001b[0m\u001b[1;33m\u001b[0m\u001b[1;33m\u001b[0m\u001b[1;33m\u001b[0m\u001b[0m\n\u001b[1;32m--> 345\u001b[1;33m             \u001b[0mf\u001b[0m\u001b[1;33m,\u001b[0m \u001b[0mg\u001b[0m \u001b[1;33m=\u001b[0m \u001b[0mfunc_and_grad\u001b[0m\u001b[1;33m(\u001b[0m\u001b[0mx\u001b[0m\u001b[1;33m)\u001b[0m\u001b[1;33m\u001b[0m\u001b[1;33m\u001b[0m\u001b[0m\n\u001b[0m\u001b[0;32m    346\u001b[0m         \u001b[1;32melif\u001b[0m \u001b[0mtask_str\u001b[0m\u001b[1;33m.\u001b[0m\u001b[0mstartswith\u001b[0m\u001b[1;33m(\u001b[0m\u001b[1;34mb'NEW_X'\u001b[0m\u001b[1;33m)\u001b[0m\u001b[1;33m:\u001b[0m\u001b[1;33m\u001b[0m\u001b[1;33m\u001b[0m\u001b[0m\n\u001b[0;32m    347\u001b[0m             \u001b[1;31m# new iteration\u001b[0m\u001b[1;33m\u001b[0m\u001b[1;33m\u001b[0m\u001b[1;33m\u001b[0m\u001b[0m\n",
      "\u001b[1;32m~\\.conda\\envs\\R and Py\\lib\\site-packages\\scipy\\optimize\\lbfgsb.py\u001b[0m in \u001b[0;36mfunc_and_grad\u001b[1;34m(x)\u001b[0m\n\u001b[0;32m    293\u001b[0m     \u001b[1;32melse\u001b[0m\u001b[1;33m:\u001b[0m\u001b[1;33m\u001b[0m\u001b[1;33m\u001b[0m\u001b[0m\n\u001b[0;32m    294\u001b[0m         \u001b[1;32mdef\u001b[0m \u001b[0mfunc_and_grad\u001b[0m\u001b[1;33m(\u001b[0m\u001b[0mx\u001b[0m\u001b[1;33m)\u001b[0m\u001b[1;33m:\u001b[0m\u001b[1;33m\u001b[0m\u001b[1;33m\u001b[0m\u001b[0m\n\u001b[1;32m--> 295\u001b[1;33m             \u001b[0mf\u001b[0m \u001b[1;33m=\u001b[0m \u001b[0mfun\u001b[0m\u001b[1;33m(\u001b[0m\u001b[0mx\u001b[0m\u001b[1;33m,\u001b[0m \u001b[1;33m*\u001b[0m\u001b[0margs\u001b[0m\u001b[1;33m)\u001b[0m\u001b[1;33m\u001b[0m\u001b[1;33m\u001b[0m\u001b[0m\n\u001b[0m\u001b[0;32m    296\u001b[0m             \u001b[0mg\u001b[0m \u001b[1;33m=\u001b[0m \u001b[0mjac\u001b[0m\u001b[1;33m(\u001b[0m\u001b[0mx\u001b[0m\u001b[1;33m,\u001b[0m \u001b[1;33m*\u001b[0m\u001b[0margs\u001b[0m\u001b[1;33m)\u001b[0m\u001b[1;33m\u001b[0m\u001b[1;33m\u001b[0m\u001b[0m\n\u001b[0;32m    297\u001b[0m             \u001b[1;32mreturn\u001b[0m \u001b[0mf\u001b[0m\u001b[1;33m,\u001b[0m \u001b[0mg\u001b[0m\u001b[1;33m\u001b[0m\u001b[1;33m\u001b[0m\u001b[0m\n",
      "\u001b[1;32m~\\.conda\\envs\\R and Py\\lib\\site-packages\\scipy\\optimize\\optimize.py\u001b[0m in \u001b[0;36mfunction_wrapper\u001b[1;34m(*wrapper_args)\u001b[0m\n\u001b[0;32m    325\u001b[0m     \u001b[1;32mdef\u001b[0m \u001b[0mfunction_wrapper\u001b[0m\u001b[1;33m(\u001b[0m\u001b[1;33m*\u001b[0m\u001b[0mwrapper_args\u001b[0m\u001b[1;33m)\u001b[0m\u001b[1;33m:\u001b[0m\u001b[1;33m\u001b[0m\u001b[1;33m\u001b[0m\u001b[0m\n\u001b[0;32m    326\u001b[0m         \u001b[0mncalls\u001b[0m\u001b[1;33m[\u001b[0m\u001b[1;36m0\u001b[0m\u001b[1;33m]\u001b[0m \u001b[1;33m+=\u001b[0m \u001b[1;36m1\u001b[0m\u001b[1;33m\u001b[0m\u001b[1;33m\u001b[0m\u001b[0m\n\u001b[1;32m--> 327\u001b[1;33m         \u001b[1;32mreturn\u001b[0m \u001b[0mfunction\u001b[0m\u001b[1;33m(\u001b[0m\u001b[1;33m*\u001b[0m\u001b[1;33m(\u001b[0m\u001b[0mwrapper_args\u001b[0m \u001b[1;33m+\u001b[0m \u001b[0margs\u001b[0m\u001b[1;33m)\u001b[0m\u001b[1;33m)\u001b[0m\u001b[1;33m\u001b[0m\u001b[1;33m\u001b[0m\u001b[0m\n\u001b[0m\u001b[0;32m    328\u001b[0m \u001b[1;33m\u001b[0m\u001b[0m\n\u001b[0;32m    329\u001b[0m     \u001b[1;32mreturn\u001b[0m \u001b[0mncalls\u001b[0m\u001b[1;33m,\u001b[0m \u001b[0mfunction_wrapper\u001b[0m\u001b[1;33m\u001b[0m\u001b[1;33m\u001b[0m\u001b[0m\n",
      "\u001b[1;32m~\\.conda\\envs\\R and Py\\lib\\site-packages\\scipy\\optimize\\optimize.py\u001b[0m in \u001b[0;36m__call__\u001b[1;34m(self, x, *args)\u001b[0m\n\u001b[0;32m     63\u001b[0m     \u001b[1;32mdef\u001b[0m \u001b[0m__call__\u001b[0m\u001b[1;33m(\u001b[0m\u001b[0mself\u001b[0m\u001b[1;33m,\u001b[0m \u001b[0mx\u001b[0m\u001b[1;33m,\u001b[0m \u001b[1;33m*\u001b[0m\u001b[0margs\u001b[0m\u001b[1;33m)\u001b[0m\u001b[1;33m:\u001b[0m\u001b[1;33m\u001b[0m\u001b[1;33m\u001b[0m\u001b[0m\n\u001b[0;32m     64\u001b[0m         \u001b[0mself\u001b[0m\u001b[1;33m.\u001b[0m\u001b[0mx\u001b[0m \u001b[1;33m=\u001b[0m \u001b[0mnumpy\u001b[0m\u001b[1;33m.\u001b[0m\u001b[0masarray\u001b[0m\u001b[1;33m(\u001b[0m\u001b[0mx\u001b[0m\u001b[1;33m)\u001b[0m\u001b[1;33m.\u001b[0m\u001b[0mcopy\u001b[0m\u001b[1;33m(\u001b[0m\u001b[1;33m)\u001b[0m\u001b[1;33m\u001b[0m\u001b[1;33m\u001b[0m\u001b[0m\n\u001b[1;32m---> 65\u001b[1;33m         \u001b[0mfg\u001b[0m \u001b[1;33m=\u001b[0m \u001b[0mself\u001b[0m\u001b[1;33m.\u001b[0m\u001b[0mfun\u001b[0m\u001b[1;33m(\u001b[0m\u001b[0mx\u001b[0m\u001b[1;33m,\u001b[0m \u001b[1;33m*\u001b[0m\u001b[0margs\u001b[0m\u001b[1;33m)\u001b[0m\u001b[1;33m\u001b[0m\u001b[1;33m\u001b[0m\u001b[0m\n\u001b[0m\u001b[0;32m     66\u001b[0m         \u001b[0mself\u001b[0m\u001b[1;33m.\u001b[0m\u001b[0mjac\u001b[0m \u001b[1;33m=\u001b[0m \u001b[0mfg\u001b[0m\u001b[1;33m[\u001b[0m\u001b[1;36m1\u001b[0m\u001b[1;33m]\u001b[0m\u001b[1;33m\u001b[0m\u001b[1;33m\u001b[0m\u001b[0m\n\u001b[0;32m     67\u001b[0m         \u001b[1;32mreturn\u001b[0m \u001b[0mfg\u001b[0m\u001b[1;33m[\u001b[0m\u001b[1;36m0\u001b[0m\u001b[1;33m]\u001b[0m\u001b[1;33m\u001b[0m\u001b[1;33m\u001b[0m\u001b[0m\n",
      "\u001b[1;32m~\\.conda\\envs\\R and Py\\lib\\site-packages\\sklearn\\linear_model\\_logistic.py\u001b[0m in \u001b[0;36m<lambda>\u001b[1;34m(x, *args)\u001b[0m\n\u001b[0;32m    909\u001b[0m         \u001b[0mtarget\u001b[0m \u001b[1;33m=\u001b[0m \u001b[0mY_multi\u001b[0m\u001b[1;33m\u001b[0m\u001b[1;33m\u001b[0m\u001b[0m\n\u001b[0;32m    910\u001b[0m         \u001b[1;32mif\u001b[0m \u001b[0msolver\u001b[0m \u001b[1;33m==\u001b[0m \u001b[1;34m'lbfgs'\u001b[0m\u001b[1;33m:\u001b[0m\u001b[1;33m\u001b[0m\u001b[1;33m\u001b[0m\u001b[0m\n\u001b[1;32m--> 911\u001b[1;33m             \u001b[0mfunc\u001b[0m \u001b[1;33m=\u001b[0m \u001b[1;32mlambda\u001b[0m \u001b[0mx\u001b[0m\u001b[1;33m,\u001b[0m \u001b[1;33m*\u001b[0m\u001b[0margs\u001b[0m\u001b[1;33m:\u001b[0m \u001b[0m_multinomial_loss_grad\u001b[0m\u001b[1;33m(\u001b[0m\u001b[0mx\u001b[0m\u001b[1;33m,\u001b[0m \u001b[1;33m*\u001b[0m\u001b[0margs\u001b[0m\u001b[1;33m)\u001b[0m\u001b[1;33m[\u001b[0m\u001b[1;36m0\u001b[0m\u001b[1;33m:\u001b[0m\u001b[1;36m2\u001b[0m\u001b[1;33m]\u001b[0m\u001b[1;33m\u001b[0m\u001b[1;33m\u001b[0m\u001b[0m\n\u001b[0m\u001b[0;32m    912\u001b[0m         \u001b[1;32melif\u001b[0m \u001b[0msolver\u001b[0m \u001b[1;33m==\u001b[0m \u001b[1;34m'newton-cg'\u001b[0m\u001b[1;33m:\u001b[0m\u001b[1;33m\u001b[0m\u001b[1;33m\u001b[0m\u001b[0m\n\u001b[0;32m    913\u001b[0m             \u001b[0mfunc\u001b[0m \u001b[1;33m=\u001b[0m \u001b[1;32mlambda\u001b[0m \u001b[0mx\u001b[0m\u001b[1;33m,\u001b[0m \u001b[1;33m*\u001b[0m\u001b[0margs\u001b[0m\u001b[1;33m:\u001b[0m \u001b[0m_multinomial_loss\u001b[0m\u001b[1;33m(\u001b[0m\u001b[0mx\u001b[0m\u001b[1;33m,\u001b[0m \u001b[1;33m*\u001b[0m\u001b[0margs\u001b[0m\u001b[1;33m)\u001b[0m\u001b[1;33m[\u001b[0m\u001b[1;36m0\u001b[0m\u001b[1;33m]\u001b[0m\u001b[1;33m\u001b[0m\u001b[1;33m\u001b[0m\u001b[0m\n",
      "\u001b[1;32m~\\.conda\\envs\\R and Py\\lib\\site-packages\\sklearn\\linear_model\\_logistic.py\u001b[0m in \u001b[0;36m_multinomial_loss_grad\u001b[1;34m(w, X, Y, alpha, sample_weight)\u001b[0m\n\u001b[0;32m    350\u001b[0m     \u001b[0msample_weight\u001b[0m \u001b[1;33m=\u001b[0m \u001b[0msample_weight\u001b[0m\u001b[1;33m[\u001b[0m\u001b[1;33m:\u001b[0m\u001b[1;33m,\u001b[0m \u001b[0mnp\u001b[0m\u001b[1;33m.\u001b[0m\u001b[0mnewaxis\u001b[0m\u001b[1;33m]\u001b[0m\u001b[1;33m\u001b[0m\u001b[1;33m\u001b[0m\u001b[0m\n\u001b[0;32m    351\u001b[0m     \u001b[0mdiff\u001b[0m \u001b[1;33m=\u001b[0m \u001b[0msample_weight\u001b[0m \u001b[1;33m*\u001b[0m \u001b[1;33m(\u001b[0m\u001b[0mp\u001b[0m \u001b[1;33m-\u001b[0m \u001b[0mY\u001b[0m\u001b[1;33m)\u001b[0m\u001b[1;33m\u001b[0m\u001b[1;33m\u001b[0m\u001b[0m\n\u001b[1;32m--> 352\u001b[1;33m     \u001b[0mgrad\u001b[0m\u001b[1;33m[\u001b[0m\u001b[1;33m:\u001b[0m\u001b[1;33m,\u001b[0m \u001b[1;33m:\u001b[0m\u001b[0mn_features\u001b[0m\u001b[1;33m]\u001b[0m \u001b[1;33m=\u001b[0m \u001b[0msafe_sparse_dot\u001b[0m\u001b[1;33m(\u001b[0m\u001b[0mdiff\u001b[0m\u001b[1;33m.\u001b[0m\u001b[0mT\u001b[0m\u001b[1;33m,\u001b[0m \u001b[0mX\u001b[0m\u001b[1;33m)\u001b[0m\u001b[1;33m\u001b[0m\u001b[1;33m\u001b[0m\u001b[0m\n\u001b[0m\u001b[0;32m    353\u001b[0m     \u001b[0mgrad\u001b[0m\u001b[1;33m[\u001b[0m\u001b[1;33m:\u001b[0m\u001b[1;33m,\u001b[0m \u001b[1;33m:\u001b[0m\u001b[0mn_features\u001b[0m\u001b[1;33m]\u001b[0m \u001b[1;33m+=\u001b[0m \u001b[0malpha\u001b[0m \u001b[1;33m*\u001b[0m \u001b[0mw\u001b[0m\u001b[1;33m\u001b[0m\u001b[1;33m\u001b[0m\u001b[0m\n\u001b[0;32m    354\u001b[0m     \u001b[1;32mif\u001b[0m \u001b[0mfit_intercept\u001b[0m\u001b[1;33m:\u001b[0m\u001b[1;33m\u001b[0m\u001b[1;33m\u001b[0m\u001b[0m\n",
      "\u001b[1;32m~\\.conda\\envs\\R and Py\\lib\\site-packages\\sklearn\\utils\\extmath.py\u001b[0m in \u001b[0;36msafe_sparse_dot\u001b[1;34m(a, b, dense_output)\u001b[0m\n\u001b[0;32m    149\u001b[0m             \u001b[0mret\u001b[0m \u001b[1;33m=\u001b[0m \u001b[0mnp\u001b[0m\u001b[1;33m.\u001b[0m\u001b[0mdot\u001b[0m\u001b[1;33m(\u001b[0m\u001b[0ma\u001b[0m\u001b[1;33m,\u001b[0m \u001b[0mb\u001b[0m\u001b[1;33m)\u001b[0m\u001b[1;33m\u001b[0m\u001b[1;33m\u001b[0m\u001b[0m\n\u001b[0;32m    150\u001b[0m     \u001b[1;32melse\u001b[0m\u001b[1;33m:\u001b[0m\u001b[1;33m\u001b[0m\u001b[1;33m\u001b[0m\u001b[0m\n\u001b[1;32m--> 151\u001b[1;33m         \u001b[0mret\u001b[0m \u001b[1;33m=\u001b[0m \u001b[0ma\u001b[0m \u001b[1;33m@\u001b[0m \u001b[0mb\u001b[0m\u001b[1;33m\u001b[0m\u001b[1;33m\u001b[0m\u001b[0m\n\u001b[0m\u001b[0;32m    152\u001b[0m \u001b[1;33m\u001b[0m\u001b[0m\n\u001b[0;32m    153\u001b[0m     if (sparse.issparse(a) and sparse.issparse(b)\n",
      "\u001b[1;31mKeyboardInterrupt\u001b[0m: "
     ]
    }
   ],
   "source": [
    "clf_logreg.fit(X_train, y_train)"
   ]
  },
  {
   "cell_type": "code",
   "execution_count": null,
   "metadata": {
    "scrolled": true
   },
   "outputs": [],
   "source": [
    "print(clf_logreg.score(X_train, y_train),clf_logreg.score(X_val,y_val))"
   ]
  },
  {
   "cell_type": "code",
   "execution_count": 86,
   "metadata": {},
   "outputs": [
    {
     "data": {
      "text/plain": [
       "Pipeline(memory=None,\n",
       "         steps=[('preprocessor',\n",
       "                 ColumnTransformer(n_jobs=None, remainder='drop',\n",
       "                                   sparse_threshold=0.3,\n",
       "                                   transformer_weights=None,\n",
       "                                   transformers=[('num',\n",
       "                                                  Pipeline(memory=None,\n",
       "                                                           steps=[('scaler',\n",
       "                                                                   MinMaxScaler(copy=True,\n",
       "                                                                                feature_range=(0,\n",
       "                                                                                               1)))],\n",
       "                                                           verbose=False),\n",
       "                                                  ['ADSL 1', 'ADSL 2',\n",
       "                                                   'ADSL 2+', 'BPL', 'Cable',\n",
       "                                                   'Fiber 1', 'Fiber 2',\n",
       "                                                   'Fiber High Speed',\n",
       "                                                   'Fiber Ultra',\n",
       "                                                   'Fibe...\n",
       "                                                                                 dtype=<class 'numpy.float64'>,\n",
       "                                                                                 handle_unknown='ignore',\n",
       "                                                                                 sparse=True))],\n",
       "                                                           verbose=False),\n",
       "                                                  [])],\n",
       "                                   verbose=False)),\n",
       "                ('classifier',\n",
       "                 LogisticRegression(C=1.0, class_weight=None, dual=False,\n",
       "                                    fit_intercept=True, intercept_scaling=1,\n",
       "                                    l1_ratio=None, max_iter=10000,\n",
       "                                    multi_class='auto', n_jobs=None,\n",
       "                                    penalty='l2', random_state=None,\n",
       "                                    solver='lbfgs', tol=0.1, verbose=0,\n",
       "                                    warm_start=False))],\n",
       "         verbose=False)"
      ]
     },
     "execution_count": 86,
     "metadata": {},
     "output_type": "execute_result"
    }
   ],
   "source": [
    "clf_logreg_sm.fit(X_train_sm, y_train_sm)"
   ]
  },
  {
   "cell_type": "code",
   "execution_count": 87,
   "metadata": {},
   "outputs": [
    {
     "name": "stdout",
     "output_type": "stream",
     "text": [
      "0.6859756097560976 0.6721811057901611\n"
     ]
    }
   ],
   "source": [
    "print(clf_logreg_sm.score(X_train_sm, y_train_sm),clf_logreg_sm.score(X_val_sm,y_val_sm))"
   ]
  },
  {
   "cell_type": "code",
   "execution_count": 88,
   "metadata": {},
   "outputs": [],
   "source": [
    "y_test_log_reg = clf_logreg.predict(X_test)"
   ]
  },
  {
   "cell_type": "code",
   "execution_count": 89,
   "metadata": {},
   "outputs": [],
   "source": [
    "output = pd.DataFrame({'id':test_df.id,'outage_duration':y_test_log_reg})\n",
    "output.to_csv('logistic/output1.csv',index=False)"
   ]
  },
  {
   "cell_type": "markdown",
   "metadata": {},
   "source": [
    "The above classification resulted in 57% accuracy in the case of test data"
   ]
  },
  {
   "cell_type": "markdown",
   "metadata": {},
   "source": [
    "**Class imbalance as a problem suspected, hence going for smote**"
   ]
  },
  {
   "cell_type": "code",
   "execution_count": 90,
   "metadata": {},
   "outputs": [],
   "source": [
    "from imblearn.over_sampling import SMOTE\n",
    "from imblearn.pipeline import Pipeline"
   ]
  },
  {
   "cell_type": "code",
   "execution_count": 91,
   "metadata": {},
   "outputs": [],
   "source": [
    "# smote in pipeline\n",
    "sm = SMOTE(sampling_strategy='minority', random_state=7)\n",
    "smote_logreg = Pipeline(steps=[('preprocessor', preprocessor),('sampling',sm),\n",
    "                      ('classifier', LogisticRegression(max_iter=10000, tol=0.1))])"
   ]
  },
  {
   "cell_type": "code",
   "execution_count": 92,
   "metadata": {},
   "outputs": [
    {
     "data": {
      "text/plain": [
       "Pipeline(memory=None,\n",
       "         steps=[('preprocessor',\n",
       "                 ColumnTransformer(n_jobs=None, remainder='drop',\n",
       "                                   sparse_threshold=0.3,\n",
       "                                   transformer_weights=None,\n",
       "                                   transformers=[('num',\n",
       "                                                  Pipeline(memory=None,\n",
       "                                                           steps=[('scaler',\n",
       "                                                                   MinMaxScaler(copy=True,\n",
       "                                                                                feature_range=(0,\n",
       "                                                                                               1)))],\n",
       "                                                           verbose=False),\n",
       "                                                  ['ADSL 1', 'ADSL 2',\n",
       "                                                   'ADSL 2+', 'BPL', 'Cable',\n",
       "                                                   'Fiber 1', 'Fiber 2',\n",
       "                                                   'Fiber High Speed',\n",
       "                                                   'Fiber Ultra',\n",
       "                                                   'Fibe...\n",
       "                ('sampling',\n",
       "                 SMOTE(k_neighbors=5, n_jobs=None, random_state=7,\n",
       "                       sampling_strategy='minority')),\n",
       "                ('classifier',\n",
       "                 LogisticRegression(C=1.0, class_weight=None, dual=False,\n",
       "                                    fit_intercept=True, intercept_scaling=1,\n",
       "                                    l1_ratio=None, max_iter=10000,\n",
       "                                    multi_class='auto', n_jobs=None,\n",
       "                                    penalty='l2', random_state=None,\n",
       "                                    solver='lbfgs', tol=0.1, verbose=0,\n",
       "                                    warm_start=False))],\n",
       "         verbose=False)"
      ]
     },
     "execution_count": 92,
     "metadata": {},
     "output_type": "execute_result"
    }
   ],
   "source": [
    "smote_logreg.fit(X_train, y_train)"
   ]
  },
  {
   "cell_type": "code",
   "execution_count": 93,
   "metadata": {},
   "outputs": [
    {
     "name": "stdout",
     "output_type": "stream",
     "text": [
      "0.6133813254287529 0.6121930567315834\n"
     ]
    }
   ],
   "source": [
    "print(smote_logreg.score(X_train, y_train),smote_logreg.score(X_val,y_val))"
   ]
  },
  {
   "cell_type": "code",
   "execution_count": 94,
   "metadata": {},
   "outputs": [],
   "source": [
    "y_test_logistic_smote = smote_logreg.predict(X_test)"
   ]
  },
  {
   "cell_type": "code",
   "execution_count": 95,
   "metadata": {},
   "outputs": [],
   "source": [
    "output = pd.DataFrame({'id':test_df.id,'outage_duration':y_test_logistic_smote})\n",
    "output.to_csv('logistic/output2.csv',index=False)"
   ]
  },
  {
   "cell_type": "markdown",
   "metadata": {},
   "source": [
    "Smote resulted in performance decrease, and the test result was 53%, hence smote was a bad idea. let's try PCA"
   ]
  },
  {
   "cell_type": "markdown",
   "metadata": {},
   "source": [
    "**PCA**"
   ]
  },
  {
   "cell_type": "code",
   "execution_count": 96,
   "metadata": {},
   "outputs": [
    {
     "name": "stdout",
     "output_type": "stream",
     "text": [
      "Fitting 5 folds for each of 5 candidates, totalling 25 fits\n"
     ]
    },
    {
     "name": "stderr",
     "output_type": "stream",
     "text": [
      "[Parallel(n_jobs=-1)]: Using backend LokyBackend with 4 concurrent workers.\n",
      "[Parallel(n_jobs=-1)]: Done   5 tasks      | elapsed:    9.4s\n",
      "[Parallel(n_jobs=-1)]: Done  10 tasks      | elapsed:    9.9s\n",
      "[Parallel(n_jobs=-1)]: Done  17 tasks      | elapsed:   10.2s\n",
      "[Parallel(n_jobs=-1)]: Done  21 out of  25 | elapsed:   10.4s remaining:    1.9s\n",
      "[Parallel(n_jobs=-1)]: Done  25 out of  25 | elapsed:   10.6s finished\n"
     ]
    },
    {
     "data": {
      "text/plain": [
       "GridSearchCV(cv=None, error_score=nan,\n",
       "             estimator=Pipeline(memory=None,\n",
       "                                steps=[('preprocessor',\n",
       "                                        ColumnTransformer(n_jobs=None,\n",
       "                                                          remainder='drop',\n",
       "                                                          sparse_threshold=0.3,\n",
       "                                                          transformer_weights=None,\n",
       "                                                          transformers=[('num',\n",
       "                                                                         Pipeline(memory=None,\n",
       "                                                                                  steps=[('scaler',\n",
       "                                                                                          MinMaxScaler(copy=True,\n",
       "                                                                                                       feature_range=(0,\n",
       "                                                                                                                      1)))],\n",
       "                                                                                  verbose=False),\n",
       "                                                                         ['ADSL '\n",
       "                                                                          '1',\n",
       "                                                                          'ADSL '\n",
       "                                                                          '2',\n",
       "                                                                          'ADSL '\n",
       "                                                                          '2+',\n",
       "                                                                          'BPL',\n",
       "                                                                          'Cable',...\n",
       "                                                           fit_intercept=True,\n",
       "                                                           intercept_scaling=1,\n",
       "                                                           l1_ratio=None,\n",
       "                                                           max_iter=10000,\n",
       "                                                           multi_class='auto',\n",
       "                                                           n_jobs=None,\n",
       "                                                           penalty='l2',\n",
       "                                                           random_state=None,\n",
       "                                                           solver='lbfgs',\n",
       "                                                           tol=0.1, verbose=0,\n",
       "                                                           warm_start=False))],\n",
       "                                verbose=False),\n",
       "             iid='deprecated', n_jobs=-1,\n",
       "             param_grid={'pca__n_components': [10, 50, 100, 200, 500]},\n",
       "             pre_dispatch='2*n_jobs', refit=True, return_train_score=False,\n",
       "             scoring=None, verbose=10)"
      ]
     },
     "execution_count": 96,
     "metadata": {},
     "output_type": "execute_result"
    }
   ],
   "source": [
    "pca = PCA()\n",
    "pca_log_pipe = Pipeline(steps=[('preprocessor', preprocessor),('pca', pca),\n",
    "                      ('classifier', LogisticRegression(max_iter=10000, tol=0.1))])\n",
    "param_grid = {\n",
    "    'pca__n_components': [10, 50, 100, 200, 500]\n",
    "}\n",
    "\n",
    "pca_logistic_grid = GridSearchCV(pca_log_pipe, param_grid, n_jobs=-1,verbose=10)\n",
    "pca_logistic_grid.fit(X_train, y_train)"
   ]
  },
  {
   "cell_type": "code",
   "execution_count": 97,
   "metadata": {
    "scrolled": true
   },
   "outputs": [
    {
     "name": "stdout",
     "output_type": "stream",
     "text": [
      "0.6735125979250476 0.6486028789161727\n"
     ]
    }
   ],
   "source": [
    "print(pca_logistic_grid.score(X_train, y_train),pca_logistic_grid.score(X_val,y_val))"
   ]
  },
  {
   "cell_type": "code",
   "execution_count": 98,
   "metadata": {},
   "outputs": [],
   "source": [
    "y_test_logistic_pca = pca_logistic_grid.predict(X_test)"
   ]
  },
  {
   "cell_type": "code",
   "execution_count": 99,
   "metadata": {},
   "outputs": [],
   "source": [
    "output = pd.DataFrame({'id':test_df.id,'outage_duration':y_test_logistic_pca})\n",
    "output.to_csv('logistic/output3.csv',index=False)"
   ]
  },
  {
   "cell_type": "markdown",
   "metadata": {},
   "source": [
    "PCA with 500 parameters resulted in a higher test accuracy of 58%, trying with further small principal components as 100"
   ]
  },
  {
   "cell_type": "code",
   "execution_count": 100,
   "metadata": {},
   "outputs": [],
   "source": [
    "#with PCA 100\n",
    "logistic_pca = Pipeline(steps=[('preprocessor', preprocessor),('pca',PCA(n_components=100)),\n",
    "                      ('classifier', LogisticRegression(max_iter=10000, tol=0.1))])"
   ]
  },
  {
   "cell_type": "code",
   "execution_count": 101,
   "metadata": {
    "scrolled": true
   },
   "outputs": [
    {
     "ename": "ValueError",
     "evalue": "n_components=100 must be between 0 and min(n_samples, n_features)=69 with svd_solver='full'",
     "output_type": "error",
     "traceback": [
      "\u001b[1;31m---------------------------------------------------------------------------\u001b[0m",
      "\u001b[1;31mValueError\u001b[0m                                Traceback (most recent call last)",
      "\u001b[1;32m<ipython-input-101-14da952dac89>\u001b[0m in \u001b[0;36m<module>\u001b[1;34m\u001b[0m\n\u001b[1;32m----> 1\u001b[1;33m \u001b[0mlogistic_pca\u001b[0m\u001b[1;33m.\u001b[0m\u001b[0mfit\u001b[0m\u001b[1;33m(\u001b[0m\u001b[0mX_train\u001b[0m\u001b[1;33m,\u001b[0m\u001b[0my_train\u001b[0m\u001b[1;33m)\u001b[0m\u001b[1;33m\u001b[0m\u001b[1;33m\u001b[0m\u001b[0m\n\u001b[0m",
      "\u001b[1;32m~\\.conda\\envs\\R and Py\\lib\\site-packages\\imblearn\\pipeline.py\u001b[0m in \u001b[0;36mfit\u001b[1;34m(self, X, y, **fit_params)\u001b[0m\n\u001b[0;32m    285\u001b[0m \u001b[1;33m\u001b[0m\u001b[0m\n\u001b[0;32m    286\u001b[0m         \"\"\"\n\u001b[1;32m--> 287\u001b[1;33m         \u001b[0mXt\u001b[0m\u001b[1;33m,\u001b[0m \u001b[0myt\u001b[0m\u001b[1;33m,\u001b[0m \u001b[0mfit_params\u001b[0m \u001b[1;33m=\u001b[0m \u001b[0mself\u001b[0m\u001b[1;33m.\u001b[0m\u001b[0m_fit\u001b[0m\u001b[1;33m(\u001b[0m\u001b[0mX\u001b[0m\u001b[1;33m,\u001b[0m \u001b[0my\u001b[0m\u001b[1;33m,\u001b[0m \u001b[1;33m**\u001b[0m\u001b[0mfit_params\u001b[0m\u001b[1;33m)\u001b[0m\u001b[1;33m\u001b[0m\u001b[1;33m\u001b[0m\u001b[0m\n\u001b[0m\u001b[0;32m    288\u001b[0m         with _print_elapsed_time('Pipeline',\n\u001b[0;32m    289\u001b[0m                                  self._log_message(len(self.steps) - 1)):\n",
      "\u001b[1;32m~\\.conda\\envs\\R and Py\\lib\\site-packages\\imblearn\\pipeline.py\u001b[0m in \u001b[0;36m_fit\u001b[1;34m(self, X, y, **fit_params)\u001b[0m\n\u001b[0;32m    240\u001b[0m                     \u001b[0mmessage_clsname\u001b[0m\u001b[1;33m=\u001b[0m\u001b[1;34m'Pipeline'\u001b[0m\u001b[1;33m,\u001b[0m\u001b[1;33m\u001b[0m\u001b[1;33m\u001b[0m\u001b[0m\n\u001b[0;32m    241\u001b[0m                     \u001b[0mmessage\u001b[0m\u001b[1;33m=\u001b[0m\u001b[0mself\u001b[0m\u001b[1;33m.\u001b[0m\u001b[0m_log_message\u001b[0m\u001b[1;33m(\u001b[0m\u001b[0mstep_idx\u001b[0m\u001b[1;33m)\u001b[0m\u001b[1;33m,\u001b[0m\u001b[1;33m\u001b[0m\u001b[1;33m\u001b[0m\u001b[0m\n\u001b[1;32m--> 242\u001b[1;33m                     \u001b[1;33m**\u001b[0m\u001b[0mfit_params_steps\u001b[0m\u001b[1;33m[\u001b[0m\u001b[0mname\u001b[0m\u001b[1;33m]\u001b[0m\u001b[1;33m\u001b[0m\u001b[1;33m\u001b[0m\u001b[0m\n\u001b[0m\u001b[0;32m    243\u001b[0m                 )\n\u001b[0;32m    244\u001b[0m             \u001b[1;32melif\u001b[0m \u001b[0mhasattr\u001b[0m\u001b[1;33m(\u001b[0m\u001b[0mcloned_transformer\u001b[0m\u001b[1;33m,\u001b[0m \u001b[1;34m\"fit_resample\"\u001b[0m\u001b[1;33m)\u001b[0m\u001b[1;33m:\u001b[0m\u001b[1;33m\u001b[0m\u001b[1;33m\u001b[0m\u001b[0m\n",
      "\u001b[1;32m~\\.conda\\envs\\R and Py\\lib\\site-packages\\joblib\\memory.py\u001b[0m in \u001b[0;36m__call__\u001b[1;34m(self, *args, **kwargs)\u001b[0m\n\u001b[0;32m    353\u001b[0m \u001b[1;33m\u001b[0m\u001b[0m\n\u001b[0;32m    354\u001b[0m     \u001b[1;32mdef\u001b[0m \u001b[0m__call__\u001b[0m\u001b[1;33m(\u001b[0m\u001b[0mself\u001b[0m\u001b[1;33m,\u001b[0m \u001b[1;33m*\u001b[0m\u001b[0margs\u001b[0m\u001b[1;33m,\u001b[0m \u001b[1;33m**\u001b[0m\u001b[0mkwargs\u001b[0m\u001b[1;33m)\u001b[0m\u001b[1;33m:\u001b[0m\u001b[1;33m\u001b[0m\u001b[1;33m\u001b[0m\u001b[0m\n\u001b[1;32m--> 355\u001b[1;33m         \u001b[1;32mreturn\u001b[0m \u001b[0mself\u001b[0m\u001b[1;33m.\u001b[0m\u001b[0mfunc\u001b[0m\u001b[1;33m(\u001b[0m\u001b[1;33m*\u001b[0m\u001b[0margs\u001b[0m\u001b[1;33m,\u001b[0m \u001b[1;33m**\u001b[0m\u001b[0mkwargs\u001b[0m\u001b[1;33m)\u001b[0m\u001b[1;33m\u001b[0m\u001b[1;33m\u001b[0m\u001b[0m\n\u001b[0m\u001b[0;32m    356\u001b[0m \u001b[1;33m\u001b[0m\u001b[0m\n\u001b[0;32m    357\u001b[0m     \u001b[1;32mdef\u001b[0m \u001b[0mcall_and_shelve\u001b[0m\u001b[1;33m(\u001b[0m\u001b[0mself\u001b[0m\u001b[1;33m,\u001b[0m \u001b[1;33m*\u001b[0m\u001b[0margs\u001b[0m\u001b[1;33m,\u001b[0m \u001b[1;33m**\u001b[0m\u001b[0mkwargs\u001b[0m\u001b[1;33m)\u001b[0m\u001b[1;33m:\u001b[0m\u001b[1;33m\u001b[0m\u001b[1;33m\u001b[0m\u001b[0m\n",
      "\u001b[1;32m~\\.conda\\envs\\R and Py\\lib\\site-packages\\sklearn\\pipeline.py\u001b[0m in \u001b[0;36m_fit_transform_one\u001b[1;34m(transformer, X, y, weight, message_clsname, message, **fit_params)\u001b[0m\n\u001b[0;32m    726\u001b[0m     \u001b[1;32mwith\u001b[0m \u001b[0m_print_elapsed_time\u001b[0m\u001b[1;33m(\u001b[0m\u001b[0mmessage_clsname\u001b[0m\u001b[1;33m,\u001b[0m \u001b[0mmessage\u001b[0m\u001b[1;33m)\u001b[0m\u001b[1;33m:\u001b[0m\u001b[1;33m\u001b[0m\u001b[1;33m\u001b[0m\u001b[0m\n\u001b[0;32m    727\u001b[0m         \u001b[1;32mif\u001b[0m \u001b[0mhasattr\u001b[0m\u001b[1;33m(\u001b[0m\u001b[0mtransformer\u001b[0m\u001b[1;33m,\u001b[0m \u001b[1;34m'fit_transform'\u001b[0m\u001b[1;33m)\u001b[0m\u001b[1;33m:\u001b[0m\u001b[1;33m\u001b[0m\u001b[1;33m\u001b[0m\u001b[0m\n\u001b[1;32m--> 728\u001b[1;33m             \u001b[0mres\u001b[0m \u001b[1;33m=\u001b[0m \u001b[0mtransformer\u001b[0m\u001b[1;33m.\u001b[0m\u001b[0mfit_transform\u001b[0m\u001b[1;33m(\u001b[0m\u001b[0mX\u001b[0m\u001b[1;33m,\u001b[0m \u001b[0my\u001b[0m\u001b[1;33m,\u001b[0m \u001b[1;33m**\u001b[0m\u001b[0mfit_params\u001b[0m\u001b[1;33m)\u001b[0m\u001b[1;33m\u001b[0m\u001b[1;33m\u001b[0m\u001b[0m\n\u001b[0m\u001b[0;32m    729\u001b[0m         \u001b[1;32melse\u001b[0m\u001b[1;33m:\u001b[0m\u001b[1;33m\u001b[0m\u001b[1;33m\u001b[0m\u001b[0m\n\u001b[0;32m    730\u001b[0m             \u001b[0mres\u001b[0m \u001b[1;33m=\u001b[0m \u001b[0mtransformer\u001b[0m\u001b[1;33m.\u001b[0m\u001b[0mfit\u001b[0m\u001b[1;33m(\u001b[0m\u001b[0mX\u001b[0m\u001b[1;33m,\u001b[0m \u001b[0my\u001b[0m\u001b[1;33m,\u001b[0m \u001b[1;33m**\u001b[0m\u001b[0mfit_params\u001b[0m\u001b[1;33m)\u001b[0m\u001b[1;33m.\u001b[0m\u001b[0mtransform\u001b[0m\u001b[1;33m(\u001b[0m\u001b[0mX\u001b[0m\u001b[1;33m)\u001b[0m\u001b[1;33m\u001b[0m\u001b[1;33m\u001b[0m\u001b[0m\n",
      "\u001b[1;32m~\\.conda\\envs\\R and Py\\lib\\site-packages\\sklearn\\decomposition\\_pca.py\u001b[0m in \u001b[0;36mfit_transform\u001b[1;34m(self, X, y)\u001b[0m\n\u001b[0;32m    367\u001b[0m         \u001b[0mC\u001b[0m\u001b[1;33m-\u001b[0m\u001b[0mordered\u001b[0m \u001b[0marray\u001b[0m\u001b[1;33m,\u001b[0m \u001b[0muse\u001b[0m \u001b[1;34m'np.ascontiguousarray'\u001b[0m\u001b[1;33m.\u001b[0m\u001b[1;33m\u001b[0m\u001b[1;33m\u001b[0m\u001b[0m\n\u001b[0;32m    368\u001b[0m         \"\"\"\n\u001b[1;32m--> 369\u001b[1;33m         \u001b[0mU\u001b[0m\u001b[1;33m,\u001b[0m \u001b[0mS\u001b[0m\u001b[1;33m,\u001b[0m \u001b[0mV\u001b[0m \u001b[1;33m=\u001b[0m \u001b[0mself\u001b[0m\u001b[1;33m.\u001b[0m\u001b[0m_fit\u001b[0m\u001b[1;33m(\u001b[0m\u001b[0mX\u001b[0m\u001b[1;33m)\u001b[0m\u001b[1;33m\u001b[0m\u001b[1;33m\u001b[0m\u001b[0m\n\u001b[0m\u001b[0;32m    370\u001b[0m         \u001b[0mU\u001b[0m \u001b[1;33m=\u001b[0m \u001b[0mU\u001b[0m\u001b[1;33m[\u001b[0m\u001b[1;33m:\u001b[0m\u001b[1;33m,\u001b[0m \u001b[1;33m:\u001b[0m\u001b[0mself\u001b[0m\u001b[1;33m.\u001b[0m\u001b[0mn_components_\u001b[0m\u001b[1;33m]\u001b[0m\u001b[1;33m\u001b[0m\u001b[1;33m\u001b[0m\u001b[0m\n\u001b[0;32m    371\u001b[0m \u001b[1;33m\u001b[0m\u001b[0m\n",
      "\u001b[1;32m~\\.conda\\envs\\R and Py\\lib\\site-packages\\sklearn\\decomposition\\_pca.py\u001b[0m in \u001b[0;36m_fit\u001b[1;34m(self, X)\u001b[0m\n\u001b[0;32m    414\u001b[0m         \u001b[1;31m# Call different fits for either full or truncated SVD\u001b[0m\u001b[1;33m\u001b[0m\u001b[1;33m\u001b[0m\u001b[1;33m\u001b[0m\u001b[0m\n\u001b[0;32m    415\u001b[0m         \u001b[1;32mif\u001b[0m \u001b[0mself\u001b[0m\u001b[1;33m.\u001b[0m\u001b[0m_fit_svd_solver\u001b[0m \u001b[1;33m==\u001b[0m \u001b[1;34m'full'\u001b[0m\u001b[1;33m:\u001b[0m\u001b[1;33m\u001b[0m\u001b[1;33m\u001b[0m\u001b[0m\n\u001b[1;32m--> 416\u001b[1;33m             \u001b[1;32mreturn\u001b[0m \u001b[0mself\u001b[0m\u001b[1;33m.\u001b[0m\u001b[0m_fit_full\u001b[0m\u001b[1;33m(\u001b[0m\u001b[0mX\u001b[0m\u001b[1;33m,\u001b[0m \u001b[0mn_components\u001b[0m\u001b[1;33m)\u001b[0m\u001b[1;33m\u001b[0m\u001b[1;33m\u001b[0m\u001b[0m\n\u001b[0m\u001b[0;32m    417\u001b[0m         \u001b[1;32melif\u001b[0m \u001b[0mself\u001b[0m\u001b[1;33m.\u001b[0m\u001b[0m_fit_svd_solver\u001b[0m \u001b[1;32min\u001b[0m \u001b[1;33m[\u001b[0m\u001b[1;34m'arpack'\u001b[0m\u001b[1;33m,\u001b[0m \u001b[1;34m'randomized'\u001b[0m\u001b[1;33m]\u001b[0m\u001b[1;33m:\u001b[0m\u001b[1;33m\u001b[0m\u001b[1;33m\u001b[0m\u001b[0m\n\u001b[0;32m    418\u001b[0m             \u001b[1;32mreturn\u001b[0m \u001b[0mself\u001b[0m\u001b[1;33m.\u001b[0m\u001b[0m_fit_truncated\u001b[0m\u001b[1;33m(\u001b[0m\u001b[0mX\u001b[0m\u001b[1;33m,\u001b[0m \u001b[0mn_components\u001b[0m\u001b[1;33m,\u001b[0m \u001b[0mself\u001b[0m\u001b[1;33m.\u001b[0m\u001b[0m_fit_svd_solver\u001b[0m\u001b[1;33m)\u001b[0m\u001b[1;33m\u001b[0m\u001b[1;33m\u001b[0m\u001b[0m\n",
      "\u001b[1;32m~\\.conda\\envs\\R and Py\\lib\\site-packages\\sklearn\\decomposition\\_pca.py\u001b[0m in \u001b[0;36m_fit_full\u001b[1;34m(self, X, n_components)\u001b[0m\n\u001b[0;32m    433\u001b[0m                              \u001b[1;34m\"min(n_samples, n_features)=%r with \"\u001b[0m\u001b[1;33m\u001b[0m\u001b[1;33m\u001b[0m\u001b[0m\n\u001b[0;32m    434\u001b[0m                              \u001b[1;34m\"svd_solver='full'\"\u001b[0m\u001b[1;33m\u001b[0m\u001b[1;33m\u001b[0m\u001b[0m\n\u001b[1;32m--> 435\u001b[1;33m                              % (n_components, min(n_samples, n_features)))\n\u001b[0m\u001b[0;32m    436\u001b[0m         \u001b[1;32melif\u001b[0m \u001b[0mn_components\u001b[0m \u001b[1;33m>=\u001b[0m \u001b[1;36m1\u001b[0m\u001b[1;33m:\u001b[0m\u001b[1;33m\u001b[0m\u001b[1;33m\u001b[0m\u001b[0m\n\u001b[0;32m    437\u001b[0m             \u001b[1;32mif\u001b[0m \u001b[1;32mnot\u001b[0m \u001b[0misinstance\u001b[0m\u001b[1;33m(\u001b[0m\u001b[0mn_components\u001b[0m\u001b[1;33m,\u001b[0m \u001b[0mnumbers\u001b[0m\u001b[1;33m.\u001b[0m\u001b[0mIntegral\u001b[0m\u001b[1;33m)\u001b[0m\u001b[1;33m:\u001b[0m\u001b[1;33m\u001b[0m\u001b[1;33m\u001b[0m\u001b[0m\n",
      "\u001b[1;31mValueError\u001b[0m: n_components=100 must be between 0 and min(n_samples, n_features)=69 with svd_solver='full'"
     ]
    }
   ],
   "source": [
    "logistic_pca.fit(X_train,y_train)"
   ]
  },
  {
   "cell_type": "code",
   "execution_count": null,
   "metadata": {},
   "outputs": [],
   "source": [
    "print(logistic_pca.score(X_train, y_train),logistic_pca.score(X_val,y_val))"
   ]
  },
  {
   "cell_type": "code",
   "execution_count": null,
   "metadata": {},
   "outputs": [],
   "source": [
    "y_test_logistic_pca2 = logistic_pca.predict(X_test)"
   ]
  },
  {
   "cell_type": "code",
   "execution_count": null,
   "metadata": {},
   "outputs": [],
   "source": [
    "output = pd.DataFrame({'id':test_df.id,'outage_duration':y_test_logistic_pca2})\n",
    "output.to_csv('logistic/output4.csv',index=False)"
   ]
  },
  {
   "cell_type": "code",
   "execution_count": null,
   "metadata": {},
   "outputs": [],
   "source": []
  },
  {
   "cell_type": "code",
   "execution_count": null,
   "metadata": {},
   "outputs": [],
   "source": [
    "#with PCA 800\n",
    "logistic_pca1 = Pipeline(steps=[('preprocessor', preprocessor),('pca',PCA(n_components=800)),\n",
    "                      ('classifier', LogisticRegression(max_iter=10000, tol=0.1))])"
   ]
  },
  {
   "cell_type": "code",
   "execution_count": null,
   "metadata": {
    "scrolled": true
   },
   "outputs": [],
   "source": [
    "logistic_pca1.fit(X_train,y_train)"
   ]
  },
  {
   "cell_type": "code",
   "execution_count": null,
   "metadata": {},
   "outputs": [],
   "source": [
    "print(logistic_pca1.score(X_train, y_train),logistic_pca1.score(X_val,y_val))"
   ]
  },
  {
   "cell_type": "code",
   "execution_count": null,
   "metadata": {},
   "outputs": [],
   "source": [
    "y_test_logistic_pca3 = logistic_pca.predict(X_test)\n",
    "output = pd.DataFrame({'id':test_df.id,'outage_duration':y_test_logistic_pca3})\n",
    "output.to_csv('logistic/output5.csv',index=False)"
   ]
  },
  {
   "cell_type": "code",
   "execution_count": null,
   "metadata": {},
   "outputs": [],
   "source": [
    "train_vol_dfs = [train_df,broadband_df,outage_df,report_volume_df]\n",
    "test_vol_dfs = [test_df,broadband_df,outage_df,report_volume_df]\n",
    "train_vol_final = reduce(lambda left,right: pd.merge(left,right,on='id'), train_vol_dfs)\n",
    "test_vol_final =  reduce(lambda left,right: pd.merge(left,right,on='id'), test_vol_dfs)"
   ]
  },
  {
   "cell_type": "code",
   "execution_count": null,
   "metadata": {},
   "outputs": [],
   "source": [
    "train_vol_final = train_vol_final.set_index('id')\n",
    "X_train_vol, X_val_vol, y_train_vol, y_val_vol = train_test_split(train_vol_final.drop('outage_duration',axis=1), train_vol_final.outage_duration, test_size=0.2,stratify=train_df.outage_duration, random_state=42)\n",
    "\n",
    "X_test_vol = test_vol_final.set_index('id')"
   ]
  },
  {
   "cell_type": "code",
   "execution_count": null,
   "metadata": {},
   "outputs": [],
   "source": [
    "X_train_vol.shape, X_val_vol.shape, y_train_vol.shape, y_val_vol.shape, X_test_vol.shape"
   ]
  },
  {
   "cell_type": "code",
   "execution_count": null,
   "metadata": {},
   "outputs": [],
   "source": [
    "X_train_vol.columns"
   ]
  },
  {
   "cell_type": "code",
   "execution_count": null,
   "metadata": {},
   "outputs": [],
   "source": [
    "X_train_vol.columns"
   ]
  },
  {
   "cell_type": "code",
   "execution_count": null,
   "metadata": {},
   "outputs": [],
   "source": [
    "clf_logreg.fit(X_train_vol,y_train_vol)"
   ]
  },
  {
   "cell_type": "code",
   "execution_count": null,
   "metadata": {},
   "outputs": [],
   "source": [
    "print(clf_logreg.score(X_train_vol,y_train_vol),clf_logreg.score(X_val_vol,y_val_vol))"
   ]
  },
  {
   "cell_type": "code",
   "execution_count": null,
   "metadata": {},
   "outputs": [],
   "source": [
    "y_test_logistic_vol = clf_logreg.predict(X_test_vol)\n",
    "output = pd.DataFrame({'id':test_df.id,'outage_duration':y_test_logistic_vol})\n",
    "output.to_csv('logistic/output5.csv',index=False)"
   ]
  },
  {
   "cell_type": "markdown",
   "metadata": {},
   "source": [
    "### 5.3 KNN Classifier"
   ]
  },
  {
   "cell_type": "code",
   "execution_count": 94,
   "metadata": {},
   "outputs": [],
   "source": [
    "from sklearn.neighbors import KNeighborsClassifier"
   ]
  },
  {
   "cell_type": "code",
   "execution_count": 95,
   "metadata": {},
   "outputs": [],
   "source": [
    "knn_pipe = Pipeline(steps=[('preprocessor', preprocessor),\n",
    "                      ('classifier', KNeighborsClassifier())])"
   ]
  },
  {
   "cell_type": "code",
   "execution_count": 90,
   "metadata": {},
   "outputs": [
    {
     "data": {
      "text/plain": [
       "Pipeline(memory=None,\n",
       "         steps=[('preprocessor',\n",
       "                 ColumnTransformer(n_jobs=None, remainder='drop',\n",
       "                                   sparse_threshold=0.3,\n",
       "                                   transformer_weights=None,\n",
       "                                   transformers=[('num',\n",
       "                                                  Pipeline(memory=None,\n",
       "                                                           steps=[('scaler',\n",
       "                                                                   MinMaxScaler(copy=True,\n",
       "                                                                                feature_range=(0,\n",
       "                                                                                               1)))],\n",
       "                                                           verbose=False),\n",
       "                                                  ['ADSL 1', 'ADSL 2',\n",
       "                                                   'ADSL 2+', 'BPL', 'Cable',\n",
       "                                                   'Fiber 1', 'Fiber 2',\n",
       "                                                   'Fiber High Speed',\n",
       "                                                   'Fiber Ultra',\n",
       "                                                   'Fibe...\n",
       "                                                  Pipeline(memory=None,\n",
       "                                                           steps=[('onehot',\n",
       "                                                                   OneHotEncoder(categories='auto',\n",
       "                                                                                 drop=None,\n",
       "                                                                                 dtype=<class 'numpy.float64'>,\n",
       "                                                                                 handle_unknown='ignore',\n",
       "                                                                                 sparse=True))],\n",
       "                                                           verbose=False),\n",
       "                                                  [])],\n",
       "                                   verbose=False)),\n",
       "                ('classifier',\n",
       "                 KNeighborsClassifier(algorithm='auto', leaf_size=30,\n",
       "                                      metric='minkowski', metric_params=None,\n",
       "                                      n_jobs=None, n_neighbors=5, p=2,\n",
       "                                      weights='uniform'))],\n",
       "         verbose=False)"
      ]
     },
     "execution_count": 90,
     "metadata": {},
     "output_type": "execute_result"
    }
   ],
   "source": [
    "knn_pipe.fit(X_train,y_train)"
   ]
  },
  {
   "cell_type": "code",
   "execution_count": 91,
   "metadata": {},
   "outputs": [
    {
     "name": "stdout",
     "output_type": "stream",
     "text": [
      "0.797162820241372 0.7298899237933955\n"
     ]
    }
   ],
   "source": [
    "print(knn_pipe.score(X_train,y_train),knn_pipe.score(X_val,y_val))"
   ]
  },
  {
   "cell_type": "code",
   "execution_count": 106,
   "metadata": {},
   "outputs": [],
   "source": [
    "y_test_knn = knn_pipe.predict(X_test)\n",
    "output = pd.DataFrame({'id':test_df.id,'outage_duration':y_test_knn})\n",
    "output.to_csv('knn/output1.csv',index=False)"
   ]
  },
  {
   "cell_type": "markdown",
   "metadata": {},
   "source": [
    "Even the above case resulted in a 58% accuracy, but knn suffers from curse of dimensionality"
   ]
  },
  {
   "cell_type": "code",
   "execution_count": 96,
   "metadata": {},
   "outputs": [
    {
     "data": {
      "text/plain": [
       "Pipeline(memory=None,\n",
       "         steps=[('preprocessor',\n",
       "                 ColumnTransformer(n_jobs=None, remainder='drop',\n",
       "                                   sparse_threshold=0.3,\n",
       "                                   transformer_weights=None,\n",
       "                                   transformers=[('num',\n",
       "                                                  Pipeline(memory=None,\n",
       "                                                           steps=[('scaler',\n",
       "                                                                   MinMaxScaler(copy=True,\n",
       "                                                                                feature_range=(0,\n",
       "                                                                                               1)))],\n",
       "                                                           verbose=False),\n",
       "                                                  ['ADSL 1', 'ADSL 2',\n",
       "                                                   'ADSL 2+', 'BPL', 'Cable',\n",
       "                                                   'Fiber 1', 'Fiber 2',\n",
       "                                                   'Fiber High Speed',\n",
       "                                                   'Fiber Ultra',\n",
       "                                                   'Fibe...\n",
       "                                                  Pipeline(memory=None,\n",
       "                                                           steps=[('onehot',\n",
       "                                                                   OneHotEncoder(categories='auto',\n",
       "                                                                                 drop=None,\n",
       "                                                                                 dtype=<class 'numpy.float64'>,\n",
       "                                                                                 handle_unknown='ignore',\n",
       "                                                                                 sparse=True))],\n",
       "                                                           verbose=False),\n",
       "                                                  [])],\n",
       "                                   verbose=False)),\n",
       "                ('classifier',\n",
       "                 KNeighborsClassifier(algorithm='auto', leaf_size=30,\n",
       "                                      metric='minkowski', metric_params=None,\n",
       "                                      n_jobs=None, n_neighbors=5, p=2,\n",
       "                                      weights='uniform'))],\n",
       "         verbose=False)"
      ]
     },
     "execution_count": 96,
     "metadata": {},
     "output_type": "execute_result"
    }
   ],
   "source": [
    "knn_pipe.fit(X_train_sm,y_train_sm)"
   ]
  },
  {
   "cell_type": "code",
   "execution_count": 97,
   "metadata": {},
   "outputs": [
    {
     "name": "stdout",
     "output_type": "stream",
     "text": [
      "0.8332970383275261 0.7771005659555943\n"
     ]
    }
   ],
   "source": [
    "print(knn_pipe.score(X_train_sm,y_train_sm),knn_pipe.score(X_val_sm,y_val_sm))"
   ]
  },
  {
   "cell_type": "markdown",
   "metadata": {},
   "source": [
    "### 5.3 SVM classifier"
   ]
  },
  {
   "cell_type": "code",
   "execution_count": 87,
   "metadata": {},
   "outputs": [],
   "source": [
    "from sklearn.svm import SVC "
   ]
  },
  {
   "cell_type": "code",
   "execution_count": 102,
   "metadata": {},
   "outputs": [],
   "source": [
    "svm_basic = Pipeline(steps=[('preprocessor', preprocessor),\n",
    "                      ('classifier', SVC(C= 100, gamma= 1, kernel='poly'))])"
   ]
  },
  {
   "cell_type": "code",
   "execution_count": 103,
   "metadata": {},
   "outputs": [
    {
     "data": {
      "text/plain": [
       "Pipeline(memory=None,\n",
       "         steps=[('preprocessor',\n",
       "                 ColumnTransformer(n_jobs=None, remainder='drop',\n",
       "                                   sparse_threshold=0.3,\n",
       "                                   transformer_weights=None,\n",
       "                                   transformers=[('num',\n",
       "                                                  Pipeline(memory=None,\n",
       "                                                           steps=[('scaler',\n",
       "                                                                   MinMaxScaler(copy=True,\n",
       "                                                                                feature_range=(0,\n",
       "                                                                                               1)))],\n",
       "                                                           verbose=False),\n",
       "                                                  ['ADSL 1', 'ADSL 2',\n",
       "                                                   'ADSL 2+', 'BPL', 'Cable',\n",
       "                                                   'Fiber 1', 'Fiber 2',\n",
       "                                                   'Fiber High Speed',\n",
       "                                                   'Fiber Ultra',\n",
       "                                                   'Fibe...\n",
       "                                                                                 dtype=<class 'numpy.float64'>,\n",
       "                                                                                 handle_unknown='ignore',\n",
       "                                                                                 sparse=True))],\n",
       "                                                           verbose=False),\n",
       "                                                  [])],\n",
       "                                   verbose=False)),\n",
       "                ('classifier',\n",
       "                 SVC(C=100, break_ties=False, cache_size=200, class_weight=None,\n",
       "                     coef0=0.0, decision_function_shape='ovr', degree=3,\n",
       "                     gamma=1, kernel='poly', max_iter=-1, probability=False,\n",
       "                     random_state=None, shrinking=True, tol=0.001,\n",
       "                     verbose=False))],\n",
       "         verbose=False)"
      ]
     },
     "execution_count": 103,
     "metadata": {},
     "output_type": "execute_result"
    }
   ],
   "source": [
    "svm_basic.fit(X_train_sm,y_train_sm)"
   ]
  },
  {
   "cell_type": "code",
   "execution_count": 104,
   "metadata": {},
   "outputs": [
    {
     "name": "stdout",
     "output_type": "stream",
     "text": [
      "0.8142421602787456 0.7514148889856335\n"
     ]
    }
   ],
   "source": [
    "print(svm_basic.score(X_train_sm,y_train_sm),svm_basic.score(X_val_sm,y_val_sm))"
   ]
  },
  {
   "cell_type": "markdown",
   "metadata": {},
   "source": [
    "**Trying out grid search with different hyperparameters**"
   ]
  },
  {
   "cell_type": "code",
   "execution_count": 113,
   "metadata": {},
   "outputs": [],
   "source": [
    "param_grid = {'classifier__C': [0.1, 1, 10, 100, ],  \n",
    "              'classifier__gamma': [1, 0.1, 0.01, 0.001], \n",
    "              'classifier__kernel': ['poly', 'rbf', 'sigmoid','linear']}"
   ]
  },
  {
   "cell_type": "code",
   "execution_count": 114,
   "metadata": {},
   "outputs": [],
   "source": [
    "svm_grid = GridSearchCV(svm_basic, param_grid=param_grid, n_jobs=-1, verbose=10)"
   ]
  },
  {
   "cell_type": "code",
   "execution_count": 115,
   "metadata": {
    "scrolled": true
   },
   "outputs": [
    {
     "name": "stdout",
     "output_type": "stream",
     "text": [
      "Fitting 5 folds for each of 64 candidates, totalling 320 fits\n"
     ]
    },
    {
     "name": "stderr",
     "output_type": "stream",
     "text": [
      "[Parallel(n_jobs=-1)]: Using backend LokyBackend with 4 concurrent workers.\n",
      "[Parallel(n_jobs=-1)]: Done   5 tasks      | elapsed:   37.1s\n",
      "[Parallel(n_jobs=-1)]: Done  10 tasks      | elapsed:  1.0min\n",
      "[Parallel(n_jobs=-1)]: Done  17 tasks      | elapsed:  1.7min\n",
      "[Parallel(n_jobs=-1)]: Done  24 tasks      | elapsed:  2.3min\n",
      "[Parallel(n_jobs=-1)]: Done  33 tasks      | elapsed:  3.4min\n",
      "[Parallel(n_jobs=-1)]: Done  42 tasks      | elapsed:  4.3min\n",
      "[Parallel(n_jobs=-1)]: Done  53 tasks      | elapsed:  5.6min\n",
      "[Parallel(n_jobs=-1)]: Done  64 tasks      | elapsed:  6.6min\n",
      "[Parallel(n_jobs=-1)]: Done  77 tasks      | elapsed:  8.4min\n",
      "[Parallel(n_jobs=-1)]: Done  90 tasks      | elapsed:  9.5min\n",
      "[Parallel(n_jobs=-1)]: Done 105 tasks      | elapsed: 10.9min\n",
      "[Parallel(n_jobs=-1)]: Done 120 tasks      | elapsed: 12.3min\n",
      "[Parallel(n_jobs=-1)]: Done 137 tasks      | elapsed: 14.2min\n",
      "[Parallel(n_jobs=-1)]: Done 154 tasks      | elapsed: 16.2min\n",
      "[Parallel(n_jobs=-1)]: Done 173 tasks      | elapsed: 18.0min\n",
      "[Parallel(n_jobs=-1)]: Done 192 tasks      | elapsed: 19.8min\n",
      "[Parallel(n_jobs=-1)]: Done 213 tasks      | elapsed: 22.1min\n",
      "[Parallel(n_jobs=-1)]: Done 234 tasks      | elapsed: 24.4min\n",
      "[Parallel(n_jobs=-1)]: Done 257 tasks      | elapsed: 28.9min\n",
      "[Parallel(n_jobs=-1)]: Done 280 tasks      | elapsed: 34.2min\n",
      "[Parallel(n_jobs=-1)]: Done 305 tasks      | elapsed: 40.2min\n",
      "[Parallel(n_jobs=-1)]: Done 320 out of 320 | elapsed: 45.0min finished\n"
     ]
    },
    {
     "data": {
      "text/plain": [
       "GridSearchCV(cv=None, error_score=nan,\n",
       "             estimator=Pipeline(memory=None,\n",
       "                                steps=[('preprocessor',\n",
       "                                        ColumnTransformer(n_jobs=None,\n",
       "                                                          remainder='drop',\n",
       "                                                          sparse_threshold=0.3,\n",
       "                                                          transformer_weights=None,\n",
       "                                                          transformers=[('num',\n",
       "                                                                         Pipeline(memory=None,\n",
       "                                                                                  steps=[('scaler',\n",
       "                                                                                          MinMaxScaler(copy=True,\n",
       "                                                                                                       feature_range=(0,\n",
       "                                                                                                                      1)))],\n",
       "                                                                                  verbose=False),\n",
       "                                                                         ['ADSL '\n",
       "                                                                          '1',\n",
       "                                                                          'ADSL '\n",
       "                                                                          '2',\n",
       "                                                                          'ADSL '\n",
       "                                                                          '2+',\n",
       "                                                                          'BPL',\n",
       "                                                                          'Cable',...\n",
       "                                            kernel='rbf', max_iter=-1,\n",
       "                                            probability=False,\n",
       "                                            random_state=None, shrinking=True,\n",
       "                                            tol=0.001, verbose=False))],\n",
       "                                verbose=False),\n",
       "             iid='deprecated', n_jobs=-1,\n",
       "             param_grid={'classifier__C': [0.1, 1, 10, 100],\n",
       "                         'classifier__gamma': [1, 0.1, 0.01, 0.001],\n",
       "                         'classifier__kernel': ['poly', 'rbf', 'sigmoid',\n",
       "                                                'linear']},\n",
       "             pre_dispatch='2*n_jobs', refit=True, return_train_score=False,\n",
       "             scoring=None, verbose=10)"
      ]
     },
     "execution_count": 115,
     "metadata": {},
     "output_type": "execute_result"
    }
   ],
   "source": [
    "svm_grid.fit(X_train_sm,y_train_sm)"
   ]
  },
  {
   "cell_type": "code",
   "execution_count": 116,
   "metadata": {},
   "outputs": [
    {
     "data": {
      "text/plain": [
       "{'classifier__C': 100, 'classifier__gamma': 1, 'classifier__kernel': 'poly'}"
      ]
     },
     "execution_count": 116,
     "metadata": {},
     "output_type": "execute_result"
    }
   ],
   "source": [
    "svm_grid.best_params_"
   ]
  },
  {
   "cell_type": "code",
   "execution_count": 117,
   "metadata": {},
   "outputs": [
    {
     "name": "stdout",
     "output_type": "stream",
     "text": [
      "0.6634364111498258 0.6682629516760993\n"
     ]
    }
   ],
   "source": [
    "print(svm_grid.score(X_train_sm,y_train_sm),svm_grid.score(X_val_sm,y_val_sm))"
   ]
  },
  {
   "cell_type": "code",
   "execution_count": 282,
   "metadata": {},
   "outputs": [],
   "source": [
    "y_test_svm = svm_grid.predict(X_test)\n",
    "output = pd.DataFrame({'id':test_df.id,'outage_duration':y_test_svm})\n",
    "output.to_csv('svm/output1.csv',index=False)"
   ]
  },
  {
   "cell_type": "markdown",
   "metadata": {},
   "source": [
    "Above output resulted in a 59% percent accuracy which is improvement"
   ]
  },
  {
   "cell_type": "markdown",
   "metadata": {},
   "source": [
    "**Using bagging classifier over SVM to see if there is any improvement in performance**"
   ]
  },
  {
   "cell_type": "code",
   "execution_count": 85,
   "metadata": {},
   "outputs": [],
   "source": [
    "from sklearn.ensemble import BaggingClassifier"
   ]
  },
  {
   "cell_type": "code",
   "execution_count": 88,
   "metadata": {},
   "outputs": [],
   "source": [
    "svm_pipe = Pipeline(steps=[('preprocessor', preprocessor),\n",
    "                      ('classifier', SVC(kernel='poly',gamma=1,C=1))])"
   ]
  },
  {
   "cell_type": "code",
   "execution_count": 89,
   "metadata": {},
   "outputs": [
    {
     "ename": "NameError",
     "evalue": "name 'svm_basic' is not defined",
     "output_type": "error",
     "traceback": [
      "\u001b[1;31m---------------------------------------------------------------------------\u001b[0m",
      "\u001b[1;31mNameError\u001b[0m                                 Traceback (most recent call last)",
      "\u001b[1;32m<ipython-input-89-b65179e330a4>\u001b[0m in \u001b[0;36m<module>\u001b[1;34m\u001b[0m\n\u001b[1;32m----> 1\u001b[1;33m \u001b[0msvm_bagged\u001b[0m \u001b[1;33m=\u001b[0m \u001b[0mBaggingClassifier\u001b[0m\u001b[1;33m(\u001b[0m\u001b[0msvm_basic\u001b[0m\u001b[1;33m,\u001b[0m \u001b[0mn_estimators\u001b[0m\u001b[1;33m=\u001b[0m\u001b[1;36m80\u001b[0m\u001b[1;33m,\u001b[0m \u001b[0mrandom_state\u001b[0m\u001b[1;33m=\u001b[0m\u001b[1;36m314\u001b[0m\u001b[1;33m,\u001b[0m\u001b[0mn_jobs\u001b[0m\u001b[1;33m=\u001b[0m\u001b[1;33m-\u001b[0m\u001b[1;36m1\u001b[0m\u001b[1;33m)\u001b[0m\u001b[1;33m\u001b[0m\u001b[1;33m\u001b[0m\u001b[0m\n\u001b[0m",
      "\u001b[1;31mNameError\u001b[0m: name 'svm_basic' is not defined"
     ]
    }
   ],
   "source": [
    "svm_bagged = BaggingClassifier(svm_basic, n_estimators=80, random_state=314,n_jobs=-1)"
   ]
  },
  {
   "cell_type": "code",
   "execution_count": 90,
   "metadata": {},
   "outputs": [],
   "source": [
    "X = pd.DataFrame(preprocessor.fit_transform(X_train_sm))\n",
    "Xv =pd.DataFrame(preprocessor.transform(X_val_sm))"
   ]
  },
  {
   "cell_type": "code",
   "execution_count": 91,
   "metadata": {},
   "outputs": [],
   "source": [
    "svm=BaggingClassifier(SVC(kernel='poly',gamma=1,C=100), max_samples=0.7,max_features=0.5, n_estimators=100, n_jobs=-1,random_state=123,verbose=10)"
   ]
  },
  {
   "cell_type": "code",
   "execution_count": 92,
   "metadata": {},
   "outputs": [
    {
     "name": "stderr",
     "output_type": "stream",
     "text": [
      "[Parallel(n_jobs=4)]: Using backend LokyBackend with 4 concurrent workers.\n",
      "[Parallel(n_jobs=4)]: Done   1 tasks      | elapsed:  5.5min\n",
      "[Parallel(n_jobs=4)]: Done   2 out of   4 | elapsed:  5.5min remaining:  5.5min\n",
      "[Parallel(n_jobs=4)]: Done   4 out of   4 | elapsed:  5.7min remaining:    0.0s\n",
      "[Parallel(n_jobs=4)]: Done   4 out of   4 | elapsed:  5.7min finished\n"
     ]
    },
    {
     "data": {
      "text/plain": [
       "BaggingClassifier(base_estimator=SVC(C=100, break_ties=False, cache_size=200,\n",
       "                                     class_weight=None, coef0=0.0,\n",
       "                                     decision_function_shape='ovr', degree=3,\n",
       "                                     gamma=1, kernel='poly', max_iter=-1,\n",
       "                                     probability=False, random_state=None,\n",
       "                                     shrinking=True, tol=0.001, verbose=False),\n",
       "                  bootstrap=True, bootstrap_features=False, max_features=0.5,\n",
       "                  max_samples=0.7, n_estimators=100, n_jobs=-1, oob_score=False,\n",
       "                  random_state=123, verbose=10, warm_start=False)"
      ]
     },
     "execution_count": 92,
     "metadata": {},
     "output_type": "execute_result"
    }
   ],
   "source": [
    "svm.fit(X,y_train_sm)"
   ]
  },
  {
   "cell_type": "code",
   "execution_count": 93,
   "metadata": {},
   "outputs": [
    {
     "name": "stderr",
     "output_type": "stream",
     "text": [
      "[Parallel(n_jobs=4)]: Using backend LokyBackend with 4 concurrent workers.\n",
      "[Parallel(n_jobs=4)]: Done   1 tasks      | elapsed:  4.8min\n",
      "[Parallel(n_jobs=4)]: Done   2 out of   4 | elapsed:  4.9min remaining:  4.9min\n",
      "[Parallel(n_jobs=4)]: Done   4 out of   4 | elapsed:  4.9min remaining:    0.0s\n",
      "[Parallel(n_jobs=4)]: Done   4 out of   4 | elapsed:  4.9min finished\n",
      "[Parallel(n_jobs=4)]: Using backend LokyBackend with 4 concurrent workers.\n",
      "[Parallel(n_jobs=4)]: Done   1 tasks      | elapsed:  1.2min\n",
      "[Parallel(n_jobs=4)]: Done   2 out of   4 | elapsed:  1.2min remaining:  1.2min\n",
      "[Parallel(n_jobs=4)]: Done   4 out of   4 | elapsed:  1.2min remaining:    0.0s\n",
      "[Parallel(n_jobs=4)]: Done   4 out of   4 | elapsed:  1.2min finished\n"
     ]
    },
    {
     "name": "stdout",
     "output_type": "stream",
     "text": [
      "0.7233231707317073 0.7070091423595994\n"
     ]
    }
   ],
   "source": [
    "print(svm.score(X,y_train_sm),svm.score(Xv,y_val_sm))"
   ]
  },
  {
   "cell_type": "code",
   "execution_count": 344,
   "metadata": {},
   "outputs": [
    {
     "name": "stderr",
     "output_type": "stream",
     "text": [
      "[Parallel(n_jobs=4)]: Using backend LokyBackend with 4 concurrent workers.\n",
      "[Parallel(n_jobs=4)]: Done   1 tasks      | elapsed:   36.4s\n",
      "[Parallel(n_jobs=4)]: Done   2 out of   4 | elapsed:   36.7s remaining:   36.7s\n",
      "[Parallel(n_jobs=4)]: Done   4 out of   4 | elapsed:   38.8s remaining:    0.0s\n",
      "[Parallel(n_jobs=4)]: Done   4 out of   4 | elapsed:   38.8s finished\n"
     ]
    }
   ],
   "source": [
    "Xt = pd.DataFrame(preprocessor.transform(X_test))\n",
    "y_test_svm_bag = svm.predict(Xt)\n",
    "output = pd.DataFrame({'id':test_df.id,'outage_duration':y_test_svm_bag})\n",
    "output.to_csv('svm/output2.csv',index=False)"
   ]
  },
  {
   "cell_type": "markdown",
   "metadata": {},
   "source": [
    "50% on test"
   ]
  },
  {
   "cell_type": "markdown",
   "metadata": {},
   "source": [
    "### 5.4 Tree Based Methods"
   ]
  },
  {
   "cell_type": "markdown",
   "metadata": {},
   "source": [
    "* Random Forest Classifier"
   ]
  },
  {
   "cell_type": "code",
   "execution_count": 82,
   "metadata": {},
   "outputs": [],
   "source": [
    "from sklearn.ensemble import RandomForestClassifier"
   ]
  },
  {
   "cell_type": "code",
   "execution_count": 95,
   "metadata": {},
   "outputs": [],
   "source": [
    "rfc = RandomForestClassifier(oob_score=True,n_jobs=-1)\n",
    "rfc_pipe = Pipeline(steps=[('pre',preprocessor),('rf',rfc)])"
   ]
  },
  {
   "cell_type": "code",
   "execution_count": 97,
   "metadata": {},
   "outputs": [],
   "source": [
    "param_grid = {'rf__n_estimators': [200, 400, 1000, 1400],'rf__bootstrap': [True, False],'rf__criterion':['gini','entropy'],'rf__min_samples_leaf': [1, 2, 4,10,20],\n",
    " 'rf__min_samples_split': [2, 5, 10],'rf__max_features':['sqrt','log2']}"
   ]
  },
  {
   "cell_type": "code",
   "execution_count": 98,
   "metadata": {},
   "outputs": [],
   "source": [
    "forest_grid = GridSearchCV(rfc_pipe,param_grid,verbose=10,n_jobs=-1)"
   ]
  },
  {
   "cell_type": "code",
   "execution_count": 99,
   "metadata": {},
   "outputs": [
    {
     "name": "stdout",
     "output_type": "stream",
     "text": [
      "Fitting 5 folds for each of 480 candidates, totalling 2400 fits\n"
     ]
    },
    {
     "name": "stderr",
     "output_type": "stream",
     "text": [
      "[Parallel(n_jobs=-1)]: Using backend LokyBackend with 4 concurrent workers.\n",
      "[Parallel(n_jobs=-1)]: Done   5 tasks      | elapsed:   35.1s\n",
      "[Parallel(n_jobs=-1)]: Done  10 tasks      | elapsed:  1.4min\n",
      "[Parallel(n_jobs=-1)]: Done  17 tasks      | elapsed:  4.1min\n",
      "[Parallel(n_jobs=-1)]: Done  24 tasks      | elapsed:  5.0min\n",
      "[Parallel(n_jobs=-1)]: Done  33 tasks      | elapsed:  7.3min\n",
      "[Parallel(n_jobs=-1)]: Done  42 tasks      | elapsed: 10.0min\n"
     ]
    },
    {
     "ename": "KeyboardInterrupt",
     "evalue": "",
     "output_type": "error",
     "traceback": [
      "\u001b[1;31m---------------------------------------------------------------------------\u001b[0m",
      "\u001b[1;31mKeyboardInterrupt\u001b[0m                         Traceback (most recent call last)",
      "\u001b[1;32m<ipython-input-99-e71f565f3a64>\u001b[0m in \u001b[0;36m<module>\u001b[1;34m\u001b[0m\n\u001b[1;32m----> 1\u001b[1;33m \u001b[0mforest_grid\u001b[0m\u001b[1;33m.\u001b[0m\u001b[0mfit\u001b[0m\u001b[1;33m(\u001b[0m\u001b[0mX_train_sm\u001b[0m\u001b[1;33m,\u001b[0m\u001b[0my_train_sm\u001b[0m\u001b[1;33m)\u001b[0m\u001b[1;33m\u001b[0m\u001b[1;33m\u001b[0m\u001b[0m\n\u001b[0m",
      "\u001b[1;32m~\\.conda\\envs\\R and Py\\lib\\site-packages\\sklearn\\model_selection\\_search.py\u001b[0m in \u001b[0;36mfit\u001b[1;34m(self, X, y, groups, **fit_params)\u001b[0m\n\u001b[0;32m    708\u001b[0m                 \u001b[1;32mreturn\u001b[0m \u001b[0mresults\u001b[0m\u001b[1;33m\u001b[0m\u001b[1;33m\u001b[0m\u001b[0m\n\u001b[0;32m    709\u001b[0m \u001b[1;33m\u001b[0m\u001b[0m\n\u001b[1;32m--> 710\u001b[1;33m             \u001b[0mself\u001b[0m\u001b[1;33m.\u001b[0m\u001b[0m_run_search\u001b[0m\u001b[1;33m(\u001b[0m\u001b[0mevaluate_candidates\u001b[0m\u001b[1;33m)\u001b[0m\u001b[1;33m\u001b[0m\u001b[1;33m\u001b[0m\u001b[0m\n\u001b[0m\u001b[0;32m    711\u001b[0m \u001b[1;33m\u001b[0m\u001b[0m\n\u001b[0;32m    712\u001b[0m         \u001b[1;31m# For multi-metric evaluation, store the best_index_, best_params_ and\u001b[0m\u001b[1;33m\u001b[0m\u001b[1;33m\u001b[0m\u001b[1;33m\u001b[0m\u001b[0m\n",
      "\u001b[1;32m~\\.conda\\envs\\R and Py\\lib\\site-packages\\sklearn\\model_selection\\_search.py\u001b[0m in \u001b[0;36m_run_search\u001b[1;34m(self, evaluate_candidates)\u001b[0m\n\u001b[0;32m   1149\u001b[0m     \u001b[1;32mdef\u001b[0m \u001b[0m_run_search\u001b[0m\u001b[1;33m(\u001b[0m\u001b[0mself\u001b[0m\u001b[1;33m,\u001b[0m \u001b[0mevaluate_candidates\u001b[0m\u001b[1;33m)\u001b[0m\u001b[1;33m:\u001b[0m\u001b[1;33m\u001b[0m\u001b[1;33m\u001b[0m\u001b[0m\n\u001b[0;32m   1150\u001b[0m         \u001b[1;34m\"\"\"Search all candidates in param_grid\"\"\"\u001b[0m\u001b[1;33m\u001b[0m\u001b[1;33m\u001b[0m\u001b[0m\n\u001b[1;32m-> 1151\u001b[1;33m         \u001b[0mevaluate_candidates\u001b[0m\u001b[1;33m(\u001b[0m\u001b[0mParameterGrid\u001b[0m\u001b[1;33m(\u001b[0m\u001b[0mself\u001b[0m\u001b[1;33m.\u001b[0m\u001b[0mparam_grid\u001b[0m\u001b[1;33m)\u001b[0m\u001b[1;33m)\u001b[0m\u001b[1;33m\u001b[0m\u001b[1;33m\u001b[0m\u001b[0m\n\u001b[0m\u001b[0;32m   1152\u001b[0m \u001b[1;33m\u001b[0m\u001b[0m\n\u001b[0;32m   1153\u001b[0m \u001b[1;33m\u001b[0m\u001b[0m\n",
      "\u001b[1;32m~\\.conda\\envs\\R and Py\\lib\\site-packages\\sklearn\\model_selection\\_search.py\u001b[0m in \u001b[0;36mevaluate_candidates\u001b[1;34m(candidate_params)\u001b[0m\n\u001b[0;32m    687\u001b[0m                                \u001b[1;32mfor\u001b[0m \u001b[0mparameters\u001b[0m\u001b[1;33m,\u001b[0m \u001b[1;33m(\u001b[0m\u001b[0mtrain\u001b[0m\u001b[1;33m,\u001b[0m \u001b[0mtest\u001b[0m\u001b[1;33m)\u001b[0m\u001b[1;33m\u001b[0m\u001b[1;33m\u001b[0m\u001b[0m\n\u001b[0;32m    688\u001b[0m                                in product(candidate_params,\n\u001b[1;32m--> 689\u001b[1;33m                                           cv.split(X, y, groups)))\n\u001b[0m\u001b[0;32m    690\u001b[0m \u001b[1;33m\u001b[0m\u001b[0m\n\u001b[0;32m    691\u001b[0m                 \u001b[1;32mif\u001b[0m \u001b[0mlen\u001b[0m\u001b[1;33m(\u001b[0m\u001b[0mout\u001b[0m\u001b[1;33m)\u001b[0m \u001b[1;33m<\u001b[0m \u001b[1;36m1\u001b[0m\u001b[1;33m:\u001b[0m\u001b[1;33m\u001b[0m\u001b[1;33m\u001b[0m\u001b[0m\n",
      "\u001b[1;32m~\\.conda\\envs\\R and Py\\lib\\site-packages\\joblib\\parallel.py\u001b[0m in \u001b[0;36m__call__\u001b[1;34m(self, iterable)\u001b[0m\n\u001b[0;32m   1015\u001b[0m \u001b[1;33m\u001b[0m\u001b[0m\n\u001b[0;32m   1016\u001b[0m             \u001b[1;32mwith\u001b[0m \u001b[0mself\u001b[0m\u001b[1;33m.\u001b[0m\u001b[0m_backend\u001b[0m\u001b[1;33m.\u001b[0m\u001b[0mretrieval_context\u001b[0m\u001b[1;33m(\u001b[0m\u001b[1;33m)\u001b[0m\u001b[1;33m:\u001b[0m\u001b[1;33m\u001b[0m\u001b[1;33m\u001b[0m\u001b[0m\n\u001b[1;32m-> 1017\u001b[1;33m                 \u001b[0mself\u001b[0m\u001b[1;33m.\u001b[0m\u001b[0mretrieve\u001b[0m\u001b[1;33m(\u001b[0m\u001b[1;33m)\u001b[0m\u001b[1;33m\u001b[0m\u001b[1;33m\u001b[0m\u001b[0m\n\u001b[0m\u001b[0;32m   1018\u001b[0m             \u001b[1;31m# Make sure that we get a last message telling us we are done\u001b[0m\u001b[1;33m\u001b[0m\u001b[1;33m\u001b[0m\u001b[1;33m\u001b[0m\u001b[0m\n\u001b[0;32m   1019\u001b[0m             \u001b[0melapsed_time\u001b[0m \u001b[1;33m=\u001b[0m \u001b[0mtime\u001b[0m\u001b[1;33m.\u001b[0m\u001b[0mtime\u001b[0m\u001b[1;33m(\u001b[0m\u001b[1;33m)\u001b[0m \u001b[1;33m-\u001b[0m \u001b[0mself\u001b[0m\u001b[1;33m.\u001b[0m\u001b[0m_start_time\u001b[0m\u001b[1;33m\u001b[0m\u001b[1;33m\u001b[0m\u001b[0m\n",
      "\u001b[1;32m~\\.conda\\envs\\R and Py\\lib\\site-packages\\joblib\\parallel.py\u001b[0m in \u001b[0;36mretrieve\u001b[1;34m(self)\u001b[0m\n\u001b[0;32m    907\u001b[0m             \u001b[1;32mtry\u001b[0m\u001b[1;33m:\u001b[0m\u001b[1;33m\u001b[0m\u001b[1;33m\u001b[0m\u001b[0m\n\u001b[0;32m    908\u001b[0m                 \u001b[1;32mif\u001b[0m \u001b[0mgetattr\u001b[0m\u001b[1;33m(\u001b[0m\u001b[0mself\u001b[0m\u001b[1;33m.\u001b[0m\u001b[0m_backend\u001b[0m\u001b[1;33m,\u001b[0m \u001b[1;34m'supports_timeout'\u001b[0m\u001b[1;33m,\u001b[0m \u001b[1;32mFalse\u001b[0m\u001b[1;33m)\u001b[0m\u001b[1;33m:\u001b[0m\u001b[1;33m\u001b[0m\u001b[1;33m\u001b[0m\u001b[0m\n\u001b[1;32m--> 909\u001b[1;33m                     \u001b[0mself\u001b[0m\u001b[1;33m.\u001b[0m\u001b[0m_output\u001b[0m\u001b[1;33m.\u001b[0m\u001b[0mextend\u001b[0m\u001b[1;33m(\u001b[0m\u001b[0mjob\u001b[0m\u001b[1;33m.\u001b[0m\u001b[0mget\u001b[0m\u001b[1;33m(\u001b[0m\u001b[0mtimeout\u001b[0m\u001b[1;33m=\u001b[0m\u001b[0mself\u001b[0m\u001b[1;33m.\u001b[0m\u001b[0mtimeout\u001b[0m\u001b[1;33m)\u001b[0m\u001b[1;33m)\u001b[0m\u001b[1;33m\u001b[0m\u001b[1;33m\u001b[0m\u001b[0m\n\u001b[0m\u001b[0;32m    910\u001b[0m                 \u001b[1;32melse\u001b[0m\u001b[1;33m:\u001b[0m\u001b[1;33m\u001b[0m\u001b[1;33m\u001b[0m\u001b[0m\n\u001b[0;32m    911\u001b[0m                     \u001b[0mself\u001b[0m\u001b[1;33m.\u001b[0m\u001b[0m_output\u001b[0m\u001b[1;33m.\u001b[0m\u001b[0mextend\u001b[0m\u001b[1;33m(\u001b[0m\u001b[0mjob\u001b[0m\u001b[1;33m.\u001b[0m\u001b[0mget\u001b[0m\u001b[1;33m(\u001b[0m\u001b[1;33m)\u001b[0m\u001b[1;33m)\u001b[0m\u001b[1;33m\u001b[0m\u001b[1;33m\u001b[0m\u001b[0m\n",
      "\u001b[1;32m~\\.conda\\envs\\R and Py\\lib\\site-packages\\joblib\\_parallel_backends.py\u001b[0m in \u001b[0;36mwrap_future_result\u001b[1;34m(future, timeout)\u001b[0m\n\u001b[0;32m    560\u001b[0m         AsyncResults.get from multiprocessing.\"\"\"\n\u001b[0;32m    561\u001b[0m         \u001b[1;32mtry\u001b[0m\u001b[1;33m:\u001b[0m\u001b[1;33m\u001b[0m\u001b[1;33m\u001b[0m\u001b[0m\n\u001b[1;32m--> 562\u001b[1;33m             \u001b[1;32mreturn\u001b[0m \u001b[0mfuture\u001b[0m\u001b[1;33m.\u001b[0m\u001b[0mresult\u001b[0m\u001b[1;33m(\u001b[0m\u001b[0mtimeout\u001b[0m\u001b[1;33m=\u001b[0m\u001b[0mtimeout\u001b[0m\u001b[1;33m)\u001b[0m\u001b[1;33m\u001b[0m\u001b[1;33m\u001b[0m\u001b[0m\n\u001b[0m\u001b[0;32m    563\u001b[0m         \u001b[1;32mexcept\u001b[0m \u001b[0mLokyTimeoutError\u001b[0m\u001b[1;33m:\u001b[0m\u001b[1;33m\u001b[0m\u001b[1;33m\u001b[0m\u001b[0m\n\u001b[0;32m    564\u001b[0m             \u001b[1;32mraise\u001b[0m \u001b[0mTimeoutError\u001b[0m\u001b[1;33m(\u001b[0m\u001b[1;33m)\u001b[0m\u001b[1;33m\u001b[0m\u001b[1;33m\u001b[0m\u001b[0m\n",
      "\u001b[1;32m~\\.conda\\envs\\R and Py\\lib\\concurrent\\futures\\_base.py\u001b[0m in \u001b[0;36mresult\u001b[1;34m(self, timeout)\u001b[0m\n\u001b[0;32m    428\u001b[0m                 \u001b[1;32mreturn\u001b[0m \u001b[0mself\u001b[0m\u001b[1;33m.\u001b[0m\u001b[0m__get_result\u001b[0m\u001b[1;33m(\u001b[0m\u001b[1;33m)\u001b[0m\u001b[1;33m\u001b[0m\u001b[1;33m\u001b[0m\u001b[0m\n\u001b[0;32m    429\u001b[0m \u001b[1;33m\u001b[0m\u001b[0m\n\u001b[1;32m--> 430\u001b[1;33m             \u001b[0mself\u001b[0m\u001b[1;33m.\u001b[0m\u001b[0m_condition\u001b[0m\u001b[1;33m.\u001b[0m\u001b[0mwait\u001b[0m\u001b[1;33m(\u001b[0m\u001b[0mtimeout\u001b[0m\u001b[1;33m)\u001b[0m\u001b[1;33m\u001b[0m\u001b[1;33m\u001b[0m\u001b[0m\n\u001b[0m\u001b[0;32m    431\u001b[0m \u001b[1;33m\u001b[0m\u001b[0m\n\u001b[0;32m    432\u001b[0m             \u001b[1;32mif\u001b[0m \u001b[0mself\u001b[0m\u001b[1;33m.\u001b[0m\u001b[0m_state\u001b[0m \u001b[1;32min\u001b[0m \u001b[1;33m[\u001b[0m\u001b[0mCANCELLED\u001b[0m\u001b[1;33m,\u001b[0m \u001b[0mCANCELLED_AND_NOTIFIED\u001b[0m\u001b[1;33m]\u001b[0m\u001b[1;33m:\u001b[0m\u001b[1;33m\u001b[0m\u001b[1;33m\u001b[0m\u001b[0m\n",
      "\u001b[1;32m~\\.conda\\envs\\R and Py\\lib\\threading.py\u001b[0m in \u001b[0;36mwait\u001b[1;34m(self, timeout)\u001b[0m\n\u001b[0;32m    294\u001b[0m         \u001b[1;32mtry\u001b[0m\u001b[1;33m:\u001b[0m    \u001b[1;31m# restore state no matter what (e.g., KeyboardInterrupt)\u001b[0m\u001b[1;33m\u001b[0m\u001b[1;33m\u001b[0m\u001b[0m\n\u001b[0;32m    295\u001b[0m             \u001b[1;32mif\u001b[0m \u001b[0mtimeout\u001b[0m \u001b[1;32mis\u001b[0m \u001b[1;32mNone\u001b[0m\u001b[1;33m:\u001b[0m\u001b[1;33m\u001b[0m\u001b[1;33m\u001b[0m\u001b[0m\n\u001b[1;32m--> 296\u001b[1;33m                 \u001b[0mwaiter\u001b[0m\u001b[1;33m.\u001b[0m\u001b[0macquire\u001b[0m\u001b[1;33m(\u001b[0m\u001b[1;33m)\u001b[0m\u001b[1;33m\u001b[0m\u001b[1;33m\u001b[0m\u001b[0m\n\u001b[0m\u001b[0;32m    297\u001b[0m                 \u001b[0mgotit\u001b[0m \u001b[1;33m=\u001b[0m \u001b[1;32mTrue\u001b[0m\u001b[1;33m\u001b[0m\u001b[1;33m\u001b[0m\u001b[0m\n\u001b[0;32m    298\u001b[0m             \u001b[1;32melse\u001b[0m\u001b[1;33m:\u001b[0m\u001b[1;33m\u001b[0m\u001b[1;33m\u001b[0m\u001b[0m\n",
      "\u001b[1;31mKeyboardInterrupt\u001b[0m: "
     ]
    }
   ],
   "source": [
    "forest_grid.fit(X_train_sm,y_train_sm)"
   ]
  },
  {
   "cell_type": "code",
   "execution_count": null,
   "metadata": {},
   "outputs": [],
   "source": [
    "forest_grid.best_estimator_"
   ]
  },
  {
   "cell_type": "code",
   "execution_count": null,
   "metadata": {},
   "outputs": [],
   "source": [
    "forest_grid.score(X_train,y_train),forest_grid.score(X_val,y_val)"
   ]
  },
  {
   "cell_type": "code",
   "execution_count": 106,
   "metadata": {},
   "outputs": [],
   "source": [
    "y_test_rf = forest_grid.predict(X_test)\n",
    "output = pd.DataFrame({'id':test_df.id,'outage_duration':y_test_rf})\n",
    "output.to_csv('randomforest/output1.csv',index=False)"
   ]
  },
  {
   "cell_type": "markdown",
   "metadata": {},
   "source": [
    "The random forest resulted in an accuracy of 65%. There seems to be an overfit! Lets tune the parameters by pruning and avoid the overfitting"
   ]
  },
  {
   "cell_type": "markdown",
   "metadata": {},
   "source": [
    "**Tuned Random Forest Classifier**"
   ]
  },
  {
   "cell_type": "code",
   "execution_count": 100,
   "metadata": {},
   "outputs": [],
   "source": [
    "param_grid = {'rf__n_estimators': [800,1200,2000],'rf__bootstrap': [True],'rf__criterion':['entropy'],\n",
    " 'rf__max_depth': [2,4,6,8,10,15,20],'rf__max_features':['sqrt']}"
   ]
  },
  {
   "cell_type": "code",
   "execution_count": 101,
   "metadata": {},
   "outputs": [],
   "source": [
    "forest_grid2 = GridSearchCV(rfc_pipe,param_grid,verbose=10,n_jobs=-1)"
   ]
  },
  {
   "cell_type": "code",
   "execution_count": 102,
   "metadata": {
    "scrolled": true
   },
   "outputs": [
    {
     "name": "stdout",
     "output_type": "stream",
     "text": [
      "Fitting 5 folds for each of 21 candidates, totalling 105 fits\n"
     ]
    },
    {
     "name": "stderr",
     "output_type": "stream",
     "text": [
      "[Parallel(n_jobs=-1)]: Using backend LokyBackend with 4 concurrent workers.\n",
      "[Parallel(n_jobs=-1)]: Done   5 tasks      | elapsed:   47.8s\n",
      "[Parallel(n_jobs=-1)]: Done  10 tasks      | elapsed:  1.6min\n",
      "[Parallel(n_jobs=-1)]: Done  17 tasks      | elapsed:  2.6min\n",
      "[Parallel(n_jobs=-1)]: Done  24 tasks      | elapsed:  3.7min\n",
      "[Parallel(n_jobs=-1)]: Done  33 tasks      | elapsed:  5.3min\n",
      "[Parallel(n_jobs=-1)]: Done  42 tasks      | elapsed:  7.1min\n",
      "[Parallel(n_jobs=-1)]: Done  53 tasks      | elapsed:  9.0min\n",
      "[Parallel(n_jobs=-1)]: Done  64 tasks      | elapsed: 11.5min\n",
      "[Parallel(n_jobs=-1)]: Done  77 tasks      | elapsed: 15.5min\n",
      "[Parallel(n_jobs=-1)]: Done  90 tasks      | elapsed: 19.4min\n",
      "[Parallel(n_jobs=-1)]: Done 105 out of 105 | elapsed: 24.4min finished\n"
     ]
    },
    {
     "data": {
      "text/plain": [
       "GridSearchCV(cv=None, error_score=nan,\n",
       "             estimator=Pipeline(memory=None,\n",
       "                                steps=[('pre',\n",
       "                                        ColumnTransformer(n_jobs=None,\n",
       "                                                          remainder='drop',\n",
       "                                                          sparse_threshold=0.3,\n",
       "                                                          transformer_weights=None,\n",
       "                                                          transformers=[('num',\n",
       "                                                                         Pipeline(memory=None,\n",
       "                                                                                  steps=[('scaler',\n",
       "                                                                                          MinMaxScaler(copy=True,\n",
       "                                                                                                       feature_range=(0,\n",
       "                                                                                                                      1)))],\n",
       "                                                                                  verbose=False),\n",
       "                                                                         ['ADSL '\n",
       "                                                                          '1',\n",
       "                                                                          'ADSL '\n",
       "                                                                          '2',\n",
       "                                                                          'ADSL '\n",
       "                                                                          '2+',\n",
       "                                                                          'BPL',\n",
       "                                                                          'Cable',\n",
       "                                                                          'Fiber '\n",
       "                                                                          '1...\n",
       "                                                               oob_score=True,\n",
       "                                                               random_state=None,\n",
       "                                                               verbose=0,\n",
       "                                                               warm_start=False))],\n",
       "                                verbose=False),\n",
       "             iid='deprecated', n_jobs=-1,\n",
       "             param_grid={'rf__bootstrap': [True], 'rf__criterion': ['entropy'],\n",
       "                         'rf__max_depth': [2, 4, 6, 8, 10, 15, 20],\n",
       "                         'rf__max_features': ['sqrt'],\n",
       "                         'rf__n_estimators': [800, 1200, 2000]},\n",
       "             pre_dispatch='2*n_jobs', refit=True, return_train_score=False,\n",
       "             scoring=None, verbose=10)"
      ]
     },
     "execution_count": 102,
     "metadata": {},
     "output_type": "execute_result"
    }
   ],
   "source": [
    "forest_grid2.fit(X_train_sm,y_train_sm)"
   ]
  },
  {
   "cell_type": "code",
   "execution_count": 103,
   "metadata": {},
   "outputs": [
    {
     "data": {
      "text/plain": [
       "{'rf__bootstrap': True,\n",
       " 'rf__criterion': 'entropy',\n",
       " 'rf__max_depth': 20,\n",
       " 'rf__max_features': 'sqrt',\n",
       " 'rf__n_estimators': 2000}"
      ]
     },
     "execution_count": 103,
     "metadata": {},
     "output_type": "execute_result"
    }
   ],
   "source": [
    "forest_grid2.best_params_"
   ]
  },
  {
   "cell_type": "code",
   "execution_count": 106,
   "metadata": {},
   "outputs": [
    {
     "data": {
      "text/plain": [
       "(0.8164302350201144, 0.825571549534293)"
      ]
     },
     "execution_count": 106,
     "metadata": {},
     "output_type": "execute_result"
    }
   ],
   "source": [
    "forest_grid2.score(X_train,y_train),forest_grid2.score(X_val,y_val)"
   ]
  },
  {
   "cell_type": "code",
   "execution_count": 89,
   "metadata": {},
   "outputs": [],
   "source": [
    "from sklearn.metrics import plot_confusion_matrix"
   ]
  },
  {
   "cell_type": "code",
   "execution_count": 107,
   "metadata": {},
   "outputs": [],
   "source": [
    "y_test_rf2 = forest_grid2.predict(X_test)\n",
    "output = pd.DataFrame({'id':test_df.id,'outage_duration':y_test_rf2})\n",
    "output.to_csv('rf_output.csv',index=False)"
   ]
  },
  {
   "cell_type": "markdown",
   "metadata": {},
   "source": [
    "The above model resulted in a 62%"
   ]
  },
  {
   "cell_type": "code",
   "execution_count": 83,
   "metadata": {},
   "outputs": [],
   "source": [
    "rf_final = RandomForestClassifier(bootstrap=True, ccp_alpha=0,\n",
    "                                        class_weight=None, criterion='entropy',\n",
    "                                        max_depth=None, max_features='sqrt',\n",
    "                                        max_leaf_nodes=None, max_samples=None,\n",
    "                                        min_impurity_decrease=0.0,\n",
    "                                        min_impurity_split=None,\n",
    "                                        min_samples_leaf=1, min_samples_split=5,\n",
    "                                        min_weight_fraction_leaf=0.0,\n",
    "                                        n_estimators=10000, n_jobs=-1,\n",
    "                                        oob_score=True, random_state=None,\n",
    "                                        verbose=0, warm_start=False)"
   ]
  },
  {
   "cell_type": "code",
   "execution_count": 84,
   "metadata": {},
   "outputs": [],
   "source": [
    "rf_final_pipe = Pipeline(steps=[('pre',preprocessor),('rf',rf_final)])"
   ]
  },
  {
   "cell_type": "code",
   "execution_count": 85,
   "metadata": {},
   "outputs": [
    {
     "data": {
      "text/plain": [
       "Pipeline(memory=None,\n",
       "         steps=[('pre',\n",
       "                 ColumnTransformer(n_jobs=None, remainder='drop',\n",
       "                                   sparse_threshold=0.3,\n",
       "                                   transformer_weights=None,\n",
       "                                   transformers=[('num',\n",
       "                                                  Pipeline(memory=None,\n",
       "                                                           steps=[('scaler',\n",
       "                                                                   MinMaxScaler(copy=True,\n",
       "                                                                                feature_range=(0,\n",
       "                                                                                               1)))],\n",
       "                                                           verbose=False),\n",
       "                                                  ['ADSL 1', 'ADSL 2',\n",
       "                                                   'ADSL 2+', 'BPL', 'Cable',\n",
       "                                                   'Fiber 1', 'Fiber 2',\n",
       "                                                   'Fiber High Speed',\n",
       "                                                   'Fiber Ultra',\n",
       "                                                   'Fiber Ultra Max...\n",
       "                 RandomForestClassifier(bootstrap=True, ccp_alpha=0,\n",
       "                                        class_weight=None, criterion='entropy',\n",
       "                                        max_depth=None, max_features='sqrt',\n",
       "                                        max_leaf_nodes=None, max_samples=None,\n",
       "                                        min_impurity_decrease=0.0,\n",
       "                                        min_impurity_split=None,\n",
       "                                        min_samples_leaf=1, min_samples_split=5,\n",
       "                                        min_weight_fraction_leaf=0.0,\n",
       "                                        n_estimators=10000, n_jobs=-1,\n",
       "                                        oob_score=True, random_state=None,\n",
       "                                        verbose=0, warm_start=False))],\n",
       "         verbose=False)"
      ]
     },
     "execution_count": 85,
     "metadata": {},
     "output_type": "execute_result"
    }
   ],
   "source": [
    "rf_final_pipe.fit(X_train_sm,y_train_sm)"
   ]
  },
  {
   "cell_type": "code",
   "execution_count": 88,
   "metadata": {},
   "outputs": [
    {
     "data": {
      "text/plain": [
       "(0.8570823629049333, 0.8210709621245103)"
      ]
     },
     "execution_count": 88,
     "metadata": {},
     "output_type": "execute_result"
    }
   ],
   "source": [
    "rf_final_pipe.score(X_train,y_train),rf_final_pipe.score(X_val_sm,y_val_sm)"
   ]
  },
  {
   "cell_type": "code",
   "execution_count": 90,
   "metadata": {},
   "outputs": [
    {
     "data": {
      "text/plain": [
       "<sklearn.metrics._plot.confusion_matrix.ConfusionMatrixDisplay at 0x26d088f3e48>"
      ]
     },
     "execution_count": 90,
     "metadata": {},
     "output_type": "execute_result"
    },
    {
     "data": {
      "image/png": "[encoded data removed]",
      "text/plain": [
       "<Figure size 432x288 with 2 Axes>"
      ]
     },
     "metadata": {},
     "output_type": "display_data"
    }
   ],
   "source": [
    "plot_confusion_matrix(rf_final_pipe,X_val,y_val,normalize='true')"
   ]
  },
  {
   "cell_type": "code",
   "execution_count": 91,
   "metadata": {},
   "outputs": [],
   "source": [
    "y_test_final = rf_final_pipe.predict(X_test)\n",
    "output = pd.DataFrame({'id':test_df.id,'outage_duration':y_test_final})\n",
    "output.to_csv('final_output.csv',index=False)"
   ]
  },
  {
   "cell_type": "code",
   "execution_count": 133,
   "metadata": {},
   "outputs": [
    {
     "data": {
      "text/plain": [
       "0    793\n",
       "1    460\n",
       "2    224\n",
       "dtype: int64"
      ]
     },
     "execution_count": 133,
     "metadata": {},
     "output_type": "execute_result"
    }
   ],
   "source": [
    "pd.Series(y_test_final).value_counts()"
   ]
  },
  {
   "cell_type": "markdown",
   "metadata": {},
   "source": [
    "Again the result was 65%, hence proceeding with boosting models"
   ]
  },
  {
   "cell_type": "markdown",
   "metadata": {},
   "source": [
    "#### 5.4.2 Boosting"
   ]
  },
  {
   "cell_type": "code",
   "execution_count": 92,
   "metadata": {},
   "outputs": [],
   "source": [
    "import xgboost as xgb\n",
    "from xgboost import XGBClassifier"
   ]
  },
  {
   "cell_type": "code",
   "execution_count": 322,
   "metadata": {},
   "outputs": [],
   "source": [
    "model = XGBClassifier(silent=False, \n",
    "                      scale_pos_weight=1,\n",
    "                      learning_rate=0.2,  \n",
    "                      colsample_bytree = 0.4,\n",
    "                      subsample = 0.5,\n",
    "                      objective='multi:softprob', \n",
    "                      n_estimators=1000, \n",
    "                      reg_alpha = 0.3,\n",
    "                      max_depth=4, \n",
    "                      gamma=0.5,\n",
    "                     num_class = 3)"
   ]
  },
  {
   "cell_type": "code",
   "execution_count": 93,
   "metadata": {},
   "outputs": [],
   "source": [
    "model = XGBClassifier(learning_rate=0.25,colsample_bytree = 0.5,subsample = 0.9,n_estimators=1000,objective='multi:softprob',n_jobs=-1,verbosity=1)"
   ]
  },
  {
   "cell_type": "code",
   "execution_count": 94,
   "metadata": {
    "scrolled": true
   },
   "outputs": [
    {
     "name": "stdout",
     "output_type": "stream",
     "text": [
      "[0]\tvalidation_0-merror:0.38527\n",
      "Will train until validation_0-merror hasn't improved in 200 rounds.\n",
      "[1]\tvalidation_0-merror:0.37934\n",
      "[2]\tvalidation_0-merror:0.35563\n",
      "[3]\tvalidation_0-merror:0.30991\n",
      "[4]\tvalidation_0-merror:0.29551\n",
      "[5]\tvalidation_0-merror:0.29043\n",
      "[6]\tvalidation_0-merror:0.29043\n",
      "[7]\tvalidation_0-merror:0.29043\n",
      "[8]\tvalidation_0-merror:0.28196\n",
      "[9]\tvalidation_0-merror:0.27773\n",
      "[10]\tvalidation_0-merror:0.26503\n",
      "[11]\tvalidation_0-merror:0.25826\n",
      "[12]\tvalidation_0-merror:0.25402\n",
      "[13]\tvalidation_0-merror:0.25317\n",
      "[14]\tvalidation_0-merror:0.25148\n",
      "[15]\tvalidation_0-merror:0.25572\n",
      "[16]\tvalidation_0-merror:0.25148\n",
      "[17]\tvalidation_0-merror:0.24810\n",
      "[18]\tvalidation_0-merror:0.24725\n",
      "[19]\tvalidation_0-merror:0.24301\n",
      "[20]\tvalidation_0-merror:0.24386\n",
      "[21]\tvalidation_0-merror:0.24047\n",
      "[22]\tvalidation_0-merror:0.24047\n",
      "[23]\tvalidation_0-merror:0.24301\n",
      "[24]\tvalidation_0-merror:0.23878\n",
      "[25]\tvalidation_0-merror:0.23709\n",
      "[26]\tvalidation_0-merror:0.23709\n",
      "[27]\tvalidation_0-merror:0.23709\n",
      "[28]\tvalidation_0-merror:0.23539\n",
      "[29]\tvalidation_0-merror:0.23455\n",
      "[30]\tvalidation_0-merror:0.23539\n",
      "[31]\tvalidation_0-merror:0.23285\n",
      "[32]\tvalidation_0-merror:0.23285\n",
      "[33]\tvalidation_0-merror:0.23201\n",
      "[34]\tvalidation_0-merror:0.22777\n",
      "[35]\tvalidation_0-merror:0.22777\n",
      "[36]\tvalidation_0-merror:0.22693\n",
      "[37]\tvalidation_0-merror:0.22693\n",
      "[38]\tvalidation_0-merror:0.22862\n",
      "[39]\tvalidation_0-merror:0.22777\n",
      "[40]\tvalidation_0-merror:0.22100\n",
      "[41]\tvalidation_0-merror:0.22100\n",
      "[42]\tvalidation_0-merror:0.22015\n",
      "[43]\tvalidation_0-merror:0.22100\n",
      "[44]\tvalidation_0-merror:0.22015\n",
      "[45]\tvalidation_0-merror:0.22100\n",
      "[46]\tvalidation_0-merror:0.22100\n",
      "[47]\tvalidation_0-merror:0.22015\n",
      "[48]\tvalidation_0-merror:0.21931\n",
      "[49]\tvalidation_0-merror:0.21846\n",
      "[50]\tvalidation_0-merror:0.21761\n",
      "[51]\tvalidation_0-merror:0.21761\n",
      "[52]\tvalidation_0-merror:0.21677\n",
      "[53]\tvalidation_0-merror:0.21169\n",
      "[54]\tvalidation_0-merror:0.21507\n",
      "[55]\tvalidation_0-merror:0.21507\n",
      "[56]\tvalidation_0-merror:0.21507\n",
      "[57]\tvalidation_0-merror:0.21169\n",
      "[58]\tvalidation_0-merror:0.21084\n",
      "[59]\tvalidation_0-merror:0.20914\n",
      "[60]\tvalidation_0-merror:0.21084\n",
      "[61]\tvalidation_0-merror:0.20999\n",
      "[62]\tvalidation_0-merror:0.20999\n",
      "[63]\tvalidation_0-merror:0.20999\n",
      "[64]\tvalidation_0-merror:0.21338\n",
      "[65]\tvalidation_0-merror:0.21338\n",
      "[66]\tvalidation_0-merror:0.21253\n",
      "[67]\tvalidation_0-merror:0.21169\n",
      "[68]\tvalidation_0-merror:0.21084\n",
      "[69]\tvalidation_0-merror:0.21084\n",
      "[70]\tvalidation_0-merror:0.21084\n",
      "[71]\tvalidation_0-merror:0.21169\n",
      "[72]\tvalidation_0-merror:0.21084\n",
      "[73]\tvalidation_0-merror:0.20745\n",
      "[74]\tvalidation_0-merror:0.20576\n",
      "[75]\tvalidation_0-merror:0.20576\n",
      "[76]\tvalidation_0-merror:0.20576\n",
      "[77]\tvalidation_0-merror:0.20576\n",
      "[78]\tvalidation_0-merror:0.20406\n",
      "[79]\tvalidation_0-merror:0.20322\n",
      "[80]\tvalidation_0-merror:0.19814\n",
      "[81]\tvalidation_0-merror:0.19898\n",
      "[82]\tvalidation_0-merror:0.19983\n",
      "[83]\tvalidation_0-merror:0.20237\n",
      "[84]\tvalidation_0-merror:0.20406\n",
      "[85]\tvalidation_0-merror:0.20152\n",
      "[86]\tvalidation_0-merror:0.20152\n",
      "[87]\tvalidation_0-merror:0.20237\n",
      "[88]\tvalidation_0-merror:0.20152\n",
      "[89]\tvalidation_0-merror:0.19814\n",
      "[90]\tvalidation_0-merror:0.19983\n",
      "[91]\tvalidation_0-merror:0.19983\n",
      "[92]\tvalidation_0-merror:0.19729\n",
      "[93]\tvalidation_0-merror:0.19729\n",
      "[94]\tvalidation_0-merror:0.19898\n",
      "[95]\tvalidation_0-merror:0.19898\n",
      "[96]\tvalidation_0-merror:0.19814\n",
      "[97]\tvalidation_0-merror:0.19814\n",
      "[98]\tvalidation_0-merror:0.19644\n",
      "[99]\tvalidation_0-merror:0.19644\n",
      "[100]\tvalidation_0-merror:0.19560\n",
      "[101]\tvalidation_0-merror:0.19390\n",
      "[102]\tvalidation_0-merror:0.19390\n",
      "[103]\tvalidation_0-merror:0.19390\n",
      "[104]\tvalidation_0-merror:0.19306\n",
      "[105]\tvalidation_0-merror:0.19306\n",
      "[106]\tvalidation_0-merror:0.19390\n",
      "[107]\tvalidation_0-merror:0.19306\n",
      "[108]\tvalidation_0-merror:0.19136\n",
      "[109]\tvalidation_0-merror:0.19136\n",
      "[110]\tvalidation_0-merror:0.19052\n",
      "[111]\tvalidation_0-merror:0.19052\n",
      "[112]\tvalidation_0-merror:0.18967\n",
      "[113]\tvalidation_0-merror:0.19390\n",
      "[114]\tvalidation_0-merror:0.19306\n",
      "[115]\tvalidation_0-merror:0.19136\n",
      "[116]\tvalidation_0-merror:0.19052\n",
      "[117]\tvalidation_0-merror:0.19052\n",
      "[118]\tvalidation_0-merror:0.19052\n",
      "[119]\tvalidation_0-merror:0.19052\n",
      "[120]\tvalidation_0-merror:0.18967\n",
      "[121]\tvalidation_0-merror:0.18967\n",
      "[122]\tvalidation_0-merror:0.18967\n",
      "[123]\tvalidation_0-merror:0.19052\n",
      "[124]\tvalidation_0-merror:0.18967\n",
      "[125]\tvalidation_0-merror:0.18967\n",
      "[126]\tvalidation_0-merror:0.18882\n",
      "[127]\tvalidation_0-merror:0.18967\n",
      "[128]\tvalidation_0-merror:0.18967\n",
      "[129]\tvalidation_0-merror:0.19052\n",
      "[130]\tvalidation_0-merror:0.18967\n",
      "[131]\tvalidation_0-merror:0.18967\n",
      "[132]\tvalidation_0-merror:0.18882\n",
      "[133]\tvalidation_0-merror:0.18798\n",
      "[134]\tvalidation_0-merror:0.18882\n",
      "[135]\tvalidation_0-merror:0.18882\n",
      "[136]\tvalidation_0-merror:0.18798\n",
      "[137]\tvalidation_0-merror:0.18713\n",
      "[138]\tvalidation_0-merror:0.18713\n",
      "[139]\tvalidation_0-merror:0.18798\n",
      "[140]\tvalidation_0-merror:0.18628\n",
      "[141]\tvalidation_0-merror:0.18713\n",
      "[142]\tvalidation_0-merror:0.18713\n",
      "[143]\tvalidation_0-merror:0.18713\n",
      "[144]\tvalidation_0-merror:0.18713\n",
      "[145]\tvalidation_0-merror:0.18798\n",
      "[146]\tvalidation_0-merror:0.18628\n",
      "[147]\tvalidation_0-merror:0.18544\n",
      "[148]\tvalidation_0-merror:0.18628\n",
      "[149]\tvalidation_0-merror:0.18544\n",
      "[150]\tvalidation_0-merror:0.18628\n",
      "[151]\tvalidation_0-merror:0.18544\n",
      "[152]\tvalidation_0-merror:0.18628\n",
      "[153]\tvalidation_0-merror:0.18459\n",
      "[154]\tvalidation_0-merror:0.18374\n",
      "[155]\tvalidation_0-merror:0.18374\n",
      "[156]\tvalidation_0-merror:0.18205\n",
      "[157]\tvalidation_0-merror:0.18290\n",
      "[158]\tvalidation_0-merror:0.18290\n",
      "[159]\tvalidation_0-merror:0.18205\n",
      "[160]\tvalidation_0-merror:0.18205\n",
      "[161]\tvalidation_0-merror:0.18205\n",
      "[162]\tvalidation_0-merror:0.18205\n",
      "[163]\tvalidation_0-merror:0.18205\n",
      "[164]\tvalidation_0-merror:0.18205\n",
      "[165]\tvalidation_0-merror:0.18120\n",
      "[166]\tvalidation_0-merror:0.18036\n",
      "[167]\tvalidation_0-merror:0.18036\n",
      "[168]\tvalidation_0-merror:0.18036\n",
      "[169]\tvalidation_0-merror:0.18036\n",
      "[170]\tvalidation_0-merror:0.18036\n",
      "[171]\tvalidation_0-merror:0.18036\n",
      "[172]\tvalidation_0-merror:0.18036\n",
      "[173]\tvalidation_0-merror:0.18120\n",
      "[174]\tvalidation_0-merror:0.18036\n",
      "[175]\tvalidation_0-merror:0.17951\n",
      "[176]\tvalidation_0-merror:0.17951\n",
      "[177]\tvalidation_0-merror:0.17697\n",
      "[178]\tvalidation_0-merror:0.17782\n",
      "[179]\tvalidation_0-merror:0.17782\n",
      "[180]\tvalidation_0-merror:0.17697\n",
      "[181]\tvalidation_0-merror:0.17697\n",
      "[182]\tvalidation_0-merror:0.17612\n",
      "[183]\tvalidation_0-merror:0.17782\n",
      "[184]\tvalidation_0-merror:0.17697\n",
      "[185]\tvalidation_0-merror:0.17527\n",
      "[186]\tvalidation_0-merror:0.17527\n",
      "[187]\tvalidation_0-merror:0.17612\n",
      "[188]\tvalidation_0-merror:0.17527\n",
      "[189]\tvalidation_0-merror:0.17527\n",
      "[190]\tvalidation_0-merror:0.17443\n",
      "[191]\tvalidation_0-merror:0.17443\n",
      "[192]\tvalidation_0-merror:0.17443\n",
      "[193]\tvalidation_0-merror:0.17358\n",
      "[194]\tvalidation_0-merror:0.17443\n",
      "[195]\tvalidation_0-merror:0.17697\n",
      "[196]\tvalidation_0-merror:0.17697\n",
      "[197]\tvalidation_0-merror:0.17527\n",
      "[198]\tvalidation_0-merror:0.17358\n",
      "[199]\tvalidation_0-merror:0.17273\n",
      "[200]\tvalidation_0-merror:0.17273\n",
      "[201]\tvalidation_0-merror:0.17358\n",
      "[202]\tvalidation_0-merror:0.17358\n",
      "[203]\tvalidation_0-merror:0.17273\n",
      "[204]\tvalidation_0-merror:0.17189\n",
      "[205]\tvalidation_0-merror:0.17189\n",
      "[206]\tvalidation_0-merror:0.17104\n",
      "[207]\tvalidation_0-merror:0.17020\n",
      "[208]\tvalidation_0-merror:0.16935\n",
      "[209]\tvalidation_0-merror:0.17189\n",
      "[210]\tvalidation_0-merror:0.16935\n",
      "[211]\tvalidation_0-merror:0.16935\n",
      "[212]\tvalidation_0-merror:0.16935\n",
      "[213]\tvalidation_0-merror:0.16935\n",
      "[214]\tvalidation_0-merror:0.16935\n",
      "[215]\tvalidation_0-merror:0.16850\n",
      "[216]\tvalidation_0-merror:0.16850\n",
      "[217]\tvalidation_0-merror:0.16850\n",
      "[218]\tvalidation_0-merror:0.16935\n",
      "[219]\tvalidation_0-merror:0.16935\n",
      "[220]\tvalidation_0-merror:0.17020\n",
      "[221]\tvalidation_0-merror:0.16935\n",
      "[222]\tvalidation_0-merror:0.17104\n",
      "[223]\tvalidation_0-merror:0.17104\n",
      "[224]\tvalidation_0-merror:0.16935\n",
      "[225]\tvalidation_0-merror:0.16596\n",
      "[226]\tvalidation_0-merror:0.16427\n",
      "[227]\tvalidation_0-merror:0.16511\n",
      "[228]\tvalidation_0-merror:0.16596\n",
      "[229]\tvalidation_0-merror:0.16596\n",
      "[230]\tvalidation_0-merror:0.16765\n",
      "[231]\tvalidation_0-merror:0.16596\n",
      "[232]\tvalidation_0-merror:0.16596\n",
      "[233]\tvalidation_0-merror:0.16342\n",
      "[234]\tvalidation_0-merror:0.16257\n",
      "[235]\tvalidation_0-merror:0.16257\n",
      "[236]\tvalidation_0-merror:0.16427\n",
      "[237]\tvalidation_0-merror:0.16427\n",
      "[238]\tvalidation_0-merror:0.16511\n",
      "[239]\tvalidation_0-merror:0.16596\n",
      "[240]\tvalidation_0-merror:0.16596\n",
      "[241]\tvalidation_0-merror:0.16511\n",
      "[242]\tvalidation_0-merror:0.16596\n"
     ]
    },
    {
     "name": "stdout",
     "output_type": "stream",
     "text": [
      "[243]\tvalidation_0-merror:0.16596\n",
      "[244]\tvalidation_0-merror:0.16596\n",
      "[245]\tvalidation_0-merror:0.16596\n",
      "[246]\tvalidation_0-merror:0.16427\n",
      "[247]\tvalidation_0-merror:0.16511\n",
      "[248]\tvalidation_0-merror:0.16427\n",
      "[249]\tvalidation_0-merror:0.16342\n",
      "[250]\tvalidation_0-merror:0.16257\n",
      "[251]\tvalidation_0-merror:0.16257\n",
      "[252]\tvalidation_0-merror:0.16427\n",
      "[253]\tvalidation_0-merror:0.16427\n",
      "[254]\tvalidation_0-merror:0.16511\n",
      "[255]\tvalidation_0-merror:0.16511\n",
      "[256]\tvalidation_0-merror:0.16427\n",
      "[257]\tvalidation_0-merror:0.16427\n",
      "[258]\tvalidation_0-merror:0.16596\n",
      "[259]\tvalidation_0-merror:0.16511\n",
      "[260]\tvalidation_0-merror:0.16427\n",
      "[261]\tvalidation_0-merror:0.16173\n",
      "[262]\tvalidation_0-merror:0.16173\n",
      "[263]\tvalidation_0-merror:0.16173\n",
      "[264]\tvalidation_0-merror:0.16173\n",
      "[265]\tvalidation_0-merror:0.16173\n",
      "[266]\tvalidation_0-merror:0.16003\n",
      "[267]\tvalidation_0-merror:0.16003\n",
      "[268]\tvalidation_0-merror:0.16003\n",
      "[269]\tvalidation_0-merror:0.16003\n",
      "[270]\tvalidation_0-merror:0.15919\n",
      "[271]\tvalidation_0-merror:0.15919\n",
      "[272]\tvalidation_0-merror:0.15919\n",
      "[273]\tvalidation_0-merror:0.15919\n",
      "[274]\tvalidation_0-merror:0.16003\n",
      "[275]\tvalidation_0-merror:0.16088\n",
      "[276]\tvalidation_0-merror:0.16088\n",
      "[277]\tvalidation_0-merror:0.16003\n",
      "[278]\tvalidation_0-merror:0.15919\n",
      "[279]\tvalidation_0-merror:0.15919\n",
      "[280]\tvalidation_0-merror:0.15919\n",
      "[281]\tvalidation_0-merror:0.15834\n",
      "[282]\tvalidation_0-merror:0.16003\n",
      "[283]\tvalidation_0-merror:0.15919\n",
      "[284]\tvalidation_0-merror:0.16003\n",
      "[285]\tvalidation_0-merror:0.15919\n",
      "[286]\tvalidation_0-merror:0.15919\n",
      "[287]\tvalidation_0-merror:0.15834\n",
      "[288]\tvalidation_0-merror:0.15665\n",
      "[289]\tvalidation_0-merror:0.15580\n",
      "[290]\tvalidation_0-merror:0.15665\n",
      "[291]\tvalidation_0-merror:0.15495\n",
      "[292]\tvalidation_0-merror:0.15495\n",
      "[293]\tvalidation_0-merror:0.15495\n",
      "[294]\tvalidation_0-merror:0.15580\n",
      "[295]\tvalidation_0-merror:0.15580\n",
      "[296]\tvalidation_0-merror:0.15580\n",
      "[297]\tvalidation_0-merror:0.15495\n",
      "[298]\tvalidation_0-merror:0.15495\n",
      "[299]\tvalidation_0-merror:0.15495\n",
      "[300]\tvalidation_0-merror:0.15495\n",
      "[301]\tvalidation_0-merror:0.15411\n",
      "[302]\tvalidation_0-merror:0.15495\n",
      "[303]\tvalidation_0-merror:0.15411\n",
      "[304]\tvalidation_0-merror:0.15411\n",
      "[305]\tvalidation_0-merror:0.15411\n",
      "[306]\tvalidation_0-merror:0.15495\n",
      "[307]\tvalidation_0-merror:0.15495\n",
      "[308]\tvalidation_0-merror:0.15411\n",
      "[309]\tvalidation_0-merror:0.15411\n",
      "[310]\tvalidation_0-merror:0.15411\n",
      "[311]\tvalidation_0-merror:0.15495\n",
      "[312]\tvalidation_0-merror:0.15411\n",
      "[313]\tvalidation_0-merror:0.15411\n",
      "[314]\tvalidation_0-merror:0.15326\n",
      "[315]\tvalidation_0-merror:0.15326\n",
      "[316]\tvalidation_0-merror:0.15326\n",
      "[317]\tvalidation_0-merror:0.15411\n",
      "[318]\tvalidation_0-merror:0.15495\n",
      "[319]\tvalidation_0-merror:0.15495\n",
      "[320]\tvalidation_0-merror:0.15495\n",
      "[321]\tvalidation_0-merror:0.15495\n",
      "[322]\tvalidation_0-merror:0.15580\n",
      "[323]\tvalidation_0-merror:0.15411\n",
      "[324]\tvalidation_0-merror:0.15411\n",
      "[325]\tvalidation_0-merror:0.15326\n",
      "[326]\tvalidation_0-merror:0.15326\n",
      "[327]\tvalidation_0-merror:0.15411\n",
      "[328]\tvalidation_0-merror:0.15326\n",
      "[329]\tvalidation_0-merror:0.15411\n",
      "[330]\tvalidation_0-merror:0.15495\n",
      "[331]\tvalidation_0-merror:0.15495\n",
      "[332]\tvalidation_0-merror:0.15580\n",
      "[333]\tvalidation_0-merror:0.15495\n",
      "[334]\tvalidation_0-merror:0.15326\n",
      "[335]\tvalidation_0-merror:0.15326\n",
      "[336]\tvalidation_0-merror:0.15326\n",
      "[337]\tvalidation_0-merror:0.15326\n",
      "[338]\tvalidation_0-merror:0.15157\n",
      "[339]\tvalidation_0-merror:0.15241\n",
      "[340]\tvalidation_0-merror:0.15157\n",
      "[341]\tvalidation_0-merror:0.15157\n",
      "[342]\tvalidation_0-merror:0.15157\n",
      "[343]\tvalidation_0-merror:0.15072\n",
      "[344]\tvalidation_0-merror:0.14987\n",
      "[345]\tvalidation_0-merror:0.14987\n",
      "[346]\tvalidation_0-merror:0.14903\n",
      "[347]\tvalidation_0-merror:0.14987\n",
      "[348]\tvalidation_0-merror:0.14987\n",
      "[349]\tvalidation_0-merror:0.14903\n",
      "[350]\tvalidation_0-merror:0.14903\n",
      "[351]\tvalidation_0-merror:0.14818\n",
      "[352]\tvalidation_0-merror:0.14903\n",
      "[353]\tvalidation_0-merror:0.14903\n",
      "[354]\tvalidation_0-merror:0.14818\n",
      "[355]\tvalidation_0-merror:0.14818\n",
      "[356]\tvalidation_0-merror:0.14903\n",
      "[357]\tvalidation_0-merror:0.14903\n",
      "[358]\tvalidation_0-merror:0.14818\n",
      "[359]\tvalidation_0-merror:0.14903\n",
      "[360]\tvalidation_0-merror:0.14903\n",
      "[361]\tvalidation_0-merror:0.14903\n",
      "[362]\tvalidation_0-merror:0.14987\n",
      "[363]\tvalidation_0-merror:0.14987\n",
      "[364]\tvalidation_0-merror:0.14987\n",
      "[365]\tvalidation_0-merror:0.14903\n",
      "[366]\tvalidation_0-merror:0.14903\n",
      "[367]\tvalidation_0-merror:0.14903\n",
      "[368]\tvalidation_0-merror:0.14903\n",
      "[369]\tvalidation_0-merror:0.15072\n",
      "[370]\tvalidation_0-merror:0.15157\n",
      "[371]\tvalidation_0-merror:0.15157\n",
      "[372]\tvalidation_0-merror:0.15157\n",
      "[373]\tvalidation_0-merror:0.15157\n",
      "[374]\tvalidation_0-merror:0.14987\n",
      "[375]\tvalidation_0-merror:0.14987\n",
      "[376]\tvalidation_0-merror:0.14987\n",
      "[377]\tvalidation_0-merror:0.15072\n",
      "[378]\tvalidation_0-merror:0.15072\n",
      "[379]\tvalidation_0-merror:0.15072\n",
      "[380]\tvalidation_0-merror:0.14987\n",
      "[381]\tvalidation_0-merror:0.15072\n",
      "[382]\tvalidation_0-merror:0.14987\n",
      "[383]\tvalidation_0-merror:0.14903\n",
      "[384]\tvalidation_0-merror:0.14903\n",
      "[385]\tvalidation_0-merror:0.14903\n",
      "[386]\tvalidation_0-merror:0.14903\n",
      "[387]\tvalidation_0-merror:0.14903\n",
      "[388]\tvalidation_0-merror:0.14903\n",
      "[389]\tvalidation_0-merror:0.14903\n",
      "[390]\tvalidation_0-merror:0.14903\n",
      "[391]\tvalidation_0-merror:0.14903\n",
      "[392]\tvalidation_0-merror:0.14903\n",
      "[393]\tvalidation_0-merror:0.14903\n",
      "[394]\tvalidation_0-merror:0.14903\n",
      "[395]\tvalidation_0-merror:0.14903\n",
      "[396]\tvalidation_0-merror:0.14903\n",
      "[397]\tvalidation_0-merror:0.14903\n",
      "[398]\tvalidation_0-merror:0.14903\n",
      "[399]\tvalidation_0-merror:0.14903\n",
      "[400]\tvalidation_0-merror:0.14903\n",
      "[401]\tvalidation_0-merror:0.14903\n",
      "[402]\tvalidation_0-merror:0.14903\n",
      "[403]\tvalidation_0-merror:0.14903\n",
      "[404]\tvalidation_0-merror:0.14903\n",
      "[405]\tvalidation_0-merror:0.14903\n",
      "[406]\tvalidation_0-merror:0.14987\n",
      "[407]\tvalidation_0-merror:0.14987\n",
      "[408]\tvalidation_0-merror:0.14987\n",
      "[409]\tvalidation_0-merror:0.14987\n",
      "[410]\tvalidation_0-merror:0.14903\n",
      "[411]\tvalidation_0-merror:0.14903\n",
      "[412]\tvalidation_0-merror:0.14818\n",
      "[413]\tvalidation_0-merror:0.14903\n",
      "[414]\tvalidation_0-merror:0.14903\n",
      "[415]\tvalidation_0-merror:0.14818\n",
      "[416]\tvalidation_0-merror:0.14903\n",
      "[417]\tvalidation_0-merror:0.14903\n",
      "[418]\tvalidation_0-merror:0.14903\n",
      "[419]\tvalidation_0-merror:0.14818\n",
      "[420]\tvalidation_0-merror:0.14564\n",
      "[421]\tvalidation_0-merror:0.14649\n",
      "[422]\tvalidation_0-merror:0.14649\n",
      "[423]\tvalidation_0-merror:0.14649\n",
      "[424]\tvalidation_0-merror:0.14649\n",
      "[425]\tvalidation_0-merror:0.14564\n",
      "[426]\tvalidation_0-merror:0.14479\n",
      "[427]\tvalidation_0-merror:0.14479\n",
      "[428]\tvalidation_0-merror:0.14479\n",
      "[429]\tvalidation_0-merror:0.14479\n",
      "[430]\tvalidation_0-merror:0.14479\n",
      "[431]\tvalidation_0-merror:0.14479\n",
      "[432]\tvalidation_0-merror:0.14564\n",
      "[433]\tvalidation_0-merror:0.14479\n",
      "[434]\tvalidation_0-merror:0.14479\n",
      "[435]\tvalidation_0-merror:0.14479\n",
      "[436]\tvalidation_0-merror:0.14649\n",
      "[437]\tvalidation_0-merror:0.14564\n",
      "[438]\tvalidation_0-merror:0.14564\n",
      "[439]\tvalidation_0-merror:0.14564\n",
      "[440]\tvalidation_0-merror:0.14649\n",
      "[441]\tvalidation_0-merror:0.14564\n",
      "[442]\tvalidation_0-merror:0.14564\n",
      "[443]\tvalidation_0-merror:0.14649\n",
      "[444]\tvalidation_0-merror:0.14564\n",
      "[445]\tvalidation_0-merror:0.14564\n",
      "[446]\tvalidation_0-merror:0.14564\n",
      "[447]\tvalidation_0-merror:0.14564\n",
      "[448]\tvalidation_0-merror:0.14649\n",
      "[449]\tvalidation_0-merror:0.14649\n",
      "[450]\tvalidation_0-merror:0.14733\n",
      "[451]\tvalidation_0-merror:0.14733\n",
      "[452]\tvalidation_0-merror:0.14649\n",
      "[453]\tvalidation_0-merror:0.14649\n",
      "[454]\tvalidation_0-merror:0.14649\n",
      "[455]\tvalidation_0-merror:0.14733\n",
      "[456]\tvalidation_0-merror:0.14733\n",
      "[457]\tvalidation_0-merror:0.14649\n",
      "[458]\tvalidation_0-merror:0.14733\n",
      "[459]\tvalidation_0-merror:0.14649\n",
      "[460]\tvalidation_0-merror:0.14649\n",
      "[461]\tvalidation_0-merror:0.14649\n",
      "[462]\tvalidation_0-merror:0.14649\n",
      "[463]\tvalidation_0-merror:0.14649\n",
      "[464]\tvalidation_0-merror:0.14649\n",
      "[465]\tvalidation_0-merror:0.14733\n",
      "[466]\tvalidation_0-merror:0.14649\n",
      "[467]\tvalidation_0-merror:0.14649\n",
      "[468]\tvalidation_0-merror:0.14733\n",
      "[469]\tvalidation_0-merror:0.14733\n",
      "[470]\tvalidation_0-merror:0.14733\n",
      "[471]\tvalidation_0-merror:0.14733\n",
      "[472]\tvalidation_0-merror:0.14733\n",
      "[473]\tvalidation_0-merror:0.14818\n",
      "[474]\tvalidation_0-merror:0.14733\n",
      "[475]\tvalidation_0-merror:0.14818\n",
      "[476]\tvalidation_0-merror:0.14733\n",
      "[477]\tvalidation_0-merror:0.14818\n",
      "[478]\tvalidation_0-merror:0.14818\n",
      "[479]\tvalidation_0-merror:0.14818\n",
      "[480]\tvalidation_0-merror:0.14649\n",
      "[481]\tvalidation_0-merror:0.14564\n",
      "[482]\tvalidation_0-merror:0.14564\n",
      "[483]\tvalidation_0-merror:0.14649\n"
     ]
    },
    {
     "name": "stdout",
     "output_type": "stream",
     "text": [
      "[484]\tvalidation_0-merror:0.14649\n",
      "[485]\tvalidation_0-merror:0.14733\n",
      "[486]\tvalidation_0-merror:0.14733\n",
      "[487]\tvalidation_0-merror:0.14733\n",
      "[488]\tvalidation_0-merror:0.14649\n",
      "[489]\tvalidation_0-merror:0.14564\n",
      "[490]\tvalidation_0-merror:0.14649\n",
      "[491]\tvalidation_0-merror:0.14649\n",
      "[492]\tvalidation_0-merror:0.14564\n",
      "[493]\tvalidation_0-merror:0.14564\n",
      "[494]\tvalidation_0-merror:0.14564\n",
      "[495]\tvalidation_0-merror:0.14564\n",
      "[496]\tvalidation_0-merror:0.14564\n",
      "[497]\tvalidation_0-merror:0.14564\n",
      "[498]\tvalidation_0-merror:0.14564\n",
      "[499]\tvalidation_0-merror:0.14564\n",
      "[500]\tvalidation_0-merror:0.14564\n",
      "[501]\tvalidation_0-merror:0.14733\n",
      "[502]\tvalidation_0-merror:0.14649\n",
      "[503]\tvalidation_0-merror:0.14649\n",
      "[504]\tvalidation_0-merror:0.14649\n",
      "[505]\tvalidation_0-merror:0.14649\n",
      "[506]\tvalidation_0-merror:0.14733\n",
      "[507]\tvalidation_0-merror:0.14733\n",
      "[508]\tvalidation_0-merror:0.14733\n",
      "[509]\tvalidation_0-merror:0.14733\n",
      "[510]\tvalidation_0-merror:0.14733\n",
      "[511]\tvalidation_0-merror:0.14733\n",
      "[512]\tvalidation_0-merror:0.14733\n",
      "[513]\tvalidation_0-merror:0.14649\n",
      "[514]\tvalidation_0-merror:0.14649\n",
      "[515]\tvalidation_0-merror:0.14649\n",
      "[516]\tvalidation_0-merror:0.14649\n",
      "[517]\tvalidation_0-merror:0.14649\n",
      "[518]\tvalidation_0-merror:0.14649\n",
      "[519]\tvalidation_0-merror:0.14649\n",
      "[520]\tvalidation_0-merror:0.14733\n",
      "[521]\tvalidation_0-merror:0.14649\n",
      "[522]\tvalidation_0-merror:0.14649\n",
      "[523]\tvalidation_0-merror:0.14649\n",
      "[524]\tvalidation_0-merror:0.14564\n",
      "[525]\tvalidation_0-merror:0.14564\n",
      "[526]\tvalidation_0-merror:0.14649\n",
      "[527]\tvalidation_0-merror:0.14564\n",
      "[528]\tvalidation_0-merror:0.14733\n",
      "[529]\tvalidation_0-merror:0.14733\n",
      "[530]\tvalidation_0-merror:0.14649\n",
      "[531]\tvalidation_0-merror:0.14649\n",
      "[532]\tvalidation_0-merror:0.14564\n",
      "[533]\tvalidation_0-merror:0.14564\n",
      "[534]\tvalidation_0-merror:0.14649\n",
      "[535]\tvalidation_0-merror:0.14649\n",
      "[536]\tvalidation_0-merror:0.14649\n",
      "[537]\tvalidation_0-merror:0.14649\n",
      "[538]\tvalidation_0-merror:0.14649\n",
      "[539]\tvalidation_0-merror:0.14649\n",
      "[540]\tvalidation_0-merror:0.14564\n",
      "[541]\tvalidation_0-merror:0.14479\n",
      "[542]\tvalidation_0-merror:0.14395\n",
      "[543]\tvalidation_0-merror:0.14395\n",
      "[544]\tvalidation_0-merror:0.14395\n",
      "[545]\tvalidation_0-merror:0.14395\n",
      "[546]\tvalidation_0-merror:0.14395\n",
      "[547]\tvalidation_0-merror:0.14395\n",
      "[548]\tvalidation_0-merror:0.14395\n",
      "[549]\tvalidation_0-merror:0.14395\n",
      "[550]\tvalidation_0-merror:0.14395\n",
      "[551]\tvalidation_0-merror:0.14479\n",
      "[552]\tvalidation_0-merror:0.14479\n",
      "[553]\tvalidation_0-merror:0.14395\n",
      "[554]\tvalidation_0-merror:0.14395\n",
      "[555]\tvalidation_0-merror:0.14395\n",
      "[556]\tvalidation_0-merror:0.14395\n",
      "[557]\tvalidation_0-merror:0.14479\n",
      "[558]\tvalidation_0-merror:0.14479\n",
      "[559]\tvalidation_0-merror:0.14395\n",
      "[560]\tvalidation_0-merror:0.14395\n",
      "[561]\tvalidation_0-merror:0.14395\n",
      "[562]\tvalidation_0-merror:0.14395\n",
      "[563]\tvalidation_0-merror:0.14395\n",
      "[564]\tvalidation_0-merror:0.14395\n",
      "[565]\tvalidation_0-merror:0.14395\n",
      "[566]\tvalidation_0-merror:0.14395\n",
      "[567]\tvalidation_0-merror:0.14395\n",
      "[568]\tvalidation_0-merror:0.14395\n",
      "[569]\tvalidation_0-merror:0.14395\n",
      "[570]\tvalidation_0-merror:0.14395\n",
      "[571]\tvalidation_0-merror:0.14310\n",
      "[572]\tvalidation_0-merror:0.14310\n",
      "[573]\tvalidation_0-merror:0.14395\n",
      "[574]\tvalidation_0-merror:0.14395\n",
      "[575]\tvalidation_0-merror:0.14395\n",
      "[576]\tvalidation_0-merror:0.14395\n",
      "[577]\tvalidation_0-merror:0.14564\n",
      "[578]\tvalidation_0-merror:0.14564\n",
      "[579]\tvalidation_0-merror:0.14564\n",
      "[580]\tvalidation_0-merror:0.14564\n",
      "[581]\tvalidation_0-merror:0.14479\n",
      "[582]\tvalidation_0-merror:0.14564\n",
      "[583]\tvalidation_0-merror:0.14564\n",
      "[584]\tvalidation_0-merror:0.14564\n",
      "[585]\tvalidation_0-merror:0.14564\n",
      "[586]\tvalidation_0-merror:0.14564\n",
      "[587]\tvalidation_0-merror:0.14564\n",
      "[588]\tvalidation_0-merror:0.14564\n",
      "[589]\tvalidation_0-merror:0.14564\n",
      "[590]\tvalidation_0-merror:0.14479\n",
      "[591]\tvalidation_0-merror:0.14479\n",
      "[592]\tvalidation_0-merror:0.14479\n",
      "[593]\tvalidation_0-merror:0.14479\n",
      "[594]\tvalidation_0-merror:0.14479\n",
      "[595]\tvalidation_0-merror:0.14564\n",
      "[596]\tvalidation_0-merror:0.14479\n",
      "[597]\tvalidation_0-merror:0.14479\n",
      "[598]\tvalidation_0-merror:0.14479\n",
      "[599]\tvalidation_0-merror:0.14310\n",
      "[600]\tvalidation_0-merror:0.14310\n",
      "[601]\tvalidation_0-merror:0.14310\n",
      "[602]\tvalidation_0-merror:0.14310\n",
      "[603]\tvalidation_0-merror:0.14310\n",
      "[604]\tvalidation_0-merror:0.14310\n",
      "[605]\tvalidation_0-merror:0.14395\n",
      "[606]\tvalidation_0-merror:0.14395\n",
      "[607]\tvalidation_0-merror:0.14310\n",
      "[608]\tvalidation_0-merror:0.14395\n",
      "[609]\tvalidation_0-merror:0.14395\n",
      "[610]\tvalidation_0-merror:0.14395\n",
      "[611]\tvalidation_0-merror:0.14395\n",
      "[612]\tvalidation_0-merror:0.14310\n",
      "[613]\tvalidation_0-merror:0.14310\n",
      "[614]\tvalidation_0-merror:0.14310\n",
      "[615]\tvalidation_0-merror:0.14310\n",
      "[616]\tvalidation_0-merror:0.14310\n",
      "[617]\tvalidation_0-merror:0.14395\n",
      "[618]\tvalidation_0-merror:0.14395\n",
      "[619]\tvalidation_0-merror:0.14310\n",
      "[620]\tvalidation_0-merror:0.14310\n",
      "[621]\tvalidation_0-merror:0.14310\n",
      "[622]\tvalidation_0-merror:0.14310\n",
      "[623]\tvalidation_0-merror:0.14310\n",
      "[624]\tvalidation_0-merror:0.14310\n",
      "[625]\tvalidation_0-merror:0.14310\n",
      "[626]\tvalidation_0-merror:0.14310\n",
      "[627]\tvalidation_0-merror:0.14310\n",
      "[628]\tvalidation_0-merror:0.14395\n",
      "[629]\tvalidation_0-merror:0.14395\n",
      "[630]\tvalidation_0-merror:0.14225\n",
      "[631]\tvalidation_0-merror:0.14310\n",
      "[632]\tvalidation_0-merror:0.14225\n",
      "[633]\tvalidation_0-merror:0.14310\n",
      "[634]\tvalidation_0-merror:0.14310\n",
      "[635]\tvalidation_0-merror:0.14310\n",
      "[636]\tvalidation_0-merror:0.14310\n",
      "[637]\tvalidation_0-merror:0.14395\n",
      "[638]\tvalidation_0-merror:0.14310\n",
      "[639]\tvalidation_0-merror:0.14310\n",
      "[640]\tvalidation_0-merror:0.14310\n",
      "[641]\tvalidation_0-merror:0.14310\n",
      "[642]\tvalidation_0-merror:0.14310\n",
      "[643]\tvalidation_0-merror:0.14310\n",
      "[644]\tvalidation_0-merror:0.14310\n",
      "[645]\tvalidation_0-merror:0.14310\n",
      "[646]\tvalidation_0-merror:0.14310\n",
      "[647]\tvalidation_0-merror:0.14310\n",
      "[648]\tvalidation_0-merror:0.14310\n",
      "[649]\tvalidation_0-merror:0.14225\n",
      "[650]\tvalidation_0-merror:0.14225\n",
      "[651]\tvalidation_0-merror:0.14225\n",
      "[652]\tvalidation_0-merror:0.14141\n",
      "[653]\tvalidation_0-merror:0.14141\n",
      "[654]\tvalidation_0-merror:0.14141\n",
      "[655]\tvalidation_0-merror:0.14310\n",
      "[656]\tvalidation_0-merror:0.14225\n",
      "[657]\tvalidation_0-merror:0.14056\n",
      "[658]\tvalidation_0-merror:0.14141\n",
      "[659]\tvalidation_0-merror:0.14225\n",
      "[660]\tvalidation_0-merror:0.14310\n",
      "[661]\tvalidation_0-merror:0.14310\n",
      "[662]\tvalidation_0-merror:0.14310\n",
      "[663]\tvalidation_0-merror:0.14310\n",
      "[664]\tvalidation_0-merror:0.14225\n",
      "[665]\tvalidation_0-merror:0.14225\n",
      "[666]\tvalidation_0-merror:0.14225\n",
      "[667]\tvalidation_0-merror:0.14225\n",
      "[668]\tvalidation_0-merror:0.14225\n",
      "[669]\tvalidation_0-merror:0.14310\n",
      "[670]\tvalidation_0-merror:0.14225\n",
      "[671]\tvalidation_0-merror:0.14225\n",
      "[672]\tvalidation_0-merror:0.14225\n",
      "[673]\tvalidation_0-merror:0.14225\n",
      "[674]\tvalidation_0-merror:0.14225\n",
      "[675]\tvalidation_0-merror:0.14225\n",
      "[676]\tvalidation_0-merror:0.14225\n",
      "[677]\tvalidation_0-merror:0.14225\n",
      "[678]\tvalidation_0-merror:0.14141\n",
      "[679]\tvalidation_0-merror:0.14141\n",
      "[680]\tvalidation_0-merror:0.14141\n",
      "[681]\tvalidation_0-merror:0.14225\n",
      "[682]\tvalidation_0-merror:0.14310\n",
      "[683]\tvalidation_0-merror:0.14225\n",
      "[684]\tvalidation_0-merror:0.14225\n",
      "[685]\tvalidation_0-merror:0.14225\n",
      "[686]\tvalidation_0-merror:0.14225\n",
      "[687]\tvalidation_0-merror:0.14225\n",
      "[688]\tvalidation_0-merror:0.14225\n",
      "[689]\tvalidation_0-merror:0.14225\n",
      "[690]\tvalidation_0-merror:0.14225\n",
      "[691]\tvalidation_0-merror:0.14225\n",
      "[692]\tvalidation_0-merror:0.14225\n",
      "[693]\tvalidation_0-merror:0.14141\n",
      "[694]\tvalidation_0-merror:0.14141\n",
      "[695]\tvalidation_0-merror:0.14141\n",
      "[696]\tvalidation_0-merror:0.14141\n",
      "[697]\tvalidation_0-merror:0.14141\n",
      "[698]\tvalidation_0-merror:0.14141\n",
      "[699]\tvalidation_0-merror:0.14141\n",
      "[700]\tvalidation_0-merror:0.14141\n",
      "[701]\tvalidation_0-merror:0.14056\n",
      "[702]\tvalidation_0-merror:0.13971\n",
      "[703]\tvalidation_0-merror:0.13971\n",
      "[704]\tvalidation_0-merror:0.13971\n",
      "[705]\tvalidation_0-merror:0.13971\n",
      "[706]\tvalidation_0-merror:0.13971\n",
      "[707]\tvalidation_0-merror:0.13971\n",
      "[708]\tvalidation_0-merror:0.13971\n",
      "[709]\tvalidation_0-merror:0.13971\n",
      "[710]\tvalidation_0-merror:0.13971\n",
      "[711]\tvalidation_0-merror:0.13971\n",
      "[712]\tvalidation_0-merror:0.13971\n",
      "[713]\tvalidation_0-merror:0.14056\n",
      "[714]\tvalidation_0-merror:0.14056\n",
      "[715]\tvalidation_0-merror:0.14141\n",
      "[716]\tvalidation_0-merror:0.14141\n",
      "[717]\tvalidation_0-merror:0.14141\n",
      "[718]\tvalidation_0-merror:0.13971\n",
      "[719]\tvalidation_0-merror:0.13971\n",
      "[720]\tvalidation_0-merror:0.13971\n",
      "[721]\tvalidation_0-merror:0.13971\n",
      "[722]\tvalidation_0-merror:0.13971\n",
      "[723]\tvalidation_0-merror:0.13971\n",
      "[724]\tvalidation_0-merror:0.13971\n"
     ]
    },
    {
     "name": "stdout",
     "output_type": "stream",
     "text": [
      "[725]\tvalidation_0-merror:0.13971\n",
      "[726]\tvalidation_0-merror:0.14141\n",
      "[727]\tvalidation_0-merror:0.13971\n",
      "[728]\tvalidation_0-merror:0.13971\n",
      "[729]\tvalidation_0-merror:0.13886\n",
      "[730]\tvalidation_0-merror:0.14225\n",
      "[731]\tvalidation_0-merror:0.14225\n",
      "[732]\tvalidation_0-merror:0.14141\n",
      "[733]\tvalidation_0-merror:0.14141\n",
      "[734]\tvalidation_0-merror:0.14141\n",
      "[735]\tvalidation_0-merror:0.14141\n",
      "[736]\tvalidation_0-merror:0.14056\n",
      "[737]\tvalidation_0-merror:0.14056\n",
      "[738]\tvalidation_0-merror:0.14056\n",
      "[739]\tvalidation_0-merror:0.14056\n",
      "[740]\tvalidation_0-merror:0.14056\n",
      "[741]\tvalidation_0-merror:0.14056\n",
      "[742]\tvalidation_0-merror:0.14056\n",
      "[743]\tvalidation_0-merror:0.13971\n",
      "[744]\tvalidation_0-merror:0.14056\n",
      "[745]\tvalidation_0-merror:0.14056\n",
      "[746]\tvalidation_0-merror:0.14056\n",
      "[747]\tvalidation_0-merror:0.14056\n",
      "[748]\tvalidation_0-merror:0.14056\n",
      "[749]\tvalidation_0-merror:0.13971\n",
      "[750]\tvalidation_0-merror:0.13971\n",
      "[751]\tvalidation_0-merror:0.13971\n",
      "[752]\tvalidation_0-merror:0.13971\n",
      "[753]\tvalidation_0-merror:0.13971\n",
      "[754]\tvalidation_0-merror:0.13971\n",
      "[755]\tvalidation_0-merror:0.14056\n",
      "[756]\tvalidation_0-merror:0.13971\n",
      "[757]\tvalidation_0-merror:0.13971\n",
      "[758]\tvalidation_0-merror:0.14056\n",
      "[759]\tvalidation_0-merror:0.13886\n",
      "[760]\tvalidation_0-merror:0.13886\n",
      "[761]\tvalidation_0-merror:0.13886\n",
      "[762]\tvalidation_0-merror:0.13802\n",
      "[763]\tvalidation_0-merror:0.13802\n",
      "[764]\tvalidation_0-merror:0.13886\n",
      "[765]\tvalidation_0-merror:0.13971\n",
      "[766]\tvalidation_0-merror:0.13971\n",
      "[767]\tvalidation_0-merror:0.13971\n",
      "[768]\tvalidation_0-merror:0.14056\n",
      "[769]\tvalidation_0-merror:0.13971\n",
      "[770]\tvalidation_0-merror:0.14056\n",
      "[771]\tvalidation_0-merror:0.14056\n",
      "[772]\tvalidation_0-merror:0.14056\n",
      "[773]\tvalidation_0-merror:0.13971\n",
      "[774]\tvalidation_0-merror:0.13971\n",
      "[775]\tvalidation_0-merror:0.13971\n",
      "[776]\tvalidation_0-merror:0.13886\n",
      "[777]\tvalidation_0-merror:0.13802\n",
      "[778]\tvalidation_0-merror:0.13886\n",
      "[779]\tvalidation_0-merror:0.13886\n",
      "[780]\tvalidation_0-merror:0.13802\n",
      "[781]\tvalidation_0-merror:0.13802\n",
      "[782]\tvalidation_0-merror:0.13802\n",
      "[783]\tvalidation_0-merror:0.13886\n",
      "[784]\tvalidation_0-merror:0.13802\n",
      "[785]\tvalidation_0-merror:0.13802\n",
      "[786]\tvalidation_0-merror:0.13802\n",
      "[787]\tvalidation_0-merror:0.13886\n",
      "[788]\tvalidation_0-merror:0.13886\n",
      "[789]\tvalidation_0-merror:0.13802\n",
      "[790]\tvalidation_0-merror:0.13802\n",
      "[791]\tvalidation_0-merror:0.13886\n",
      "[792]\tvalidation_0-merror:0.13886\n",
      "[793]\tvalidation_0-merror:0.13886\n",
      "[794]\tvalidation_0-merror:0.13886\n",
      "[795]\tvalidation_0-merror:0.13886\n",
      "[796]\tvalidation_0-merror:0.13886\n",
      "[797]\tvalidation_0-merror:0.13886\n",
      "[798]\tvalidation_0-merror:0.13886\n",
      "[799]\tvalidation_0-merror:0.13886\n",
      "[800]\tvalidation_0-merror:0.13886\n",
      "[801]\tvalidation_0-merror:0.13802\n",
      "[802]\tvalidation_0-merror:0.13802\n",
      "[803]\tvalidation_0-merror:0.13802\n",
      "[804]\tvalidation_0-merror:0.13802\n",
      "[805]\tvalidation_0-merror:0.13802\n",
      "[806]\tvalidation_0-merror:0.13802\n",
      "[807]\tvalidation_0-merror:0.13802\n",
      "[808]\tvalidation_0-merror:0.13802\n",
      "[809]\tvalidation_0-merror:0.13802\n",
      "[810]\tvalidation_0-merror:0.13802\n",
      "[811]\tvalidation_0-merror:0.13802\n",
      "[812]\tvalidation_0-merror:0.13802\n",
      "[813]\tvalidation_0-merror:0.13886\n",
      "[814]\tvalidation_0-merror:0.13886\n",
      "[815]\tvalidation_0-merror:0.13971\n",
      "[816]\tvalidation_0-merror:0.13886\n",
      "[817]\tvalidation_0-merror:0.13886\n",
      "[818]\tvalidation_0-merror:0.13886\n",
      "[819]\tvalidation_0-merror:0.13886\n",
      "[820]\tvalidation_0-merror:0.13886\n",
      "[821]\tvalidation_0-merror:0.13886\n",
      "[822]\tvalidation_0-merror:0.13886\n",
      "[823]\tvalidation_0-merror:0.13886\n",
      "[824]\tvalidation_0-merror:0.13971\n",
      "[825]\tvalidation_0-merror:0.13886\n",
      "[826]\tvalidation_0-merror:0.13971\n",
      "[827]\tvalidation_0-merror:0.13971\n",
      "[828]\tvalidation_0-merror:0.13886\n",
      "[829]\tvalidation_0-merror:0.13886\n",
      "[830]\tvalidation_0-merror:0.13802\n",
      "[831]\tvalidation_0-merror:0.13886\n",
      "[832]\tvalidation_0-merror:0.13971\n",
      "[833]\tvalidation_0-merror:0.13886\n",
      "[834]\tvalidation_0-merror:0.13802\n",
      "[835]\tvalidation_0-merror:0.13971\n",
      "[836]\tvalidation_0-merror:0.13971\n",
      "[837]\tvalidation_0-merror:0.13971\n",
      "[838]\tvalidation_0-merror:0.14056\n",
      "[839]\tvalidation_0-merror:0.13971\n",
      "[840]\tvalidation_0-merror:0.13886\n",
      "[841]\tvalidation_0-merror:0.13971\n",
      "[842]\tvalidation_0-merror:0.14056\n",
      "[843]\tvalidation_0-merror:0.14056\n",
      "[844]\tvalidation_0-merror:0.14056\n",
      "[845]\tvalidation_0-merror:0.14056\n",
      "[846]\tvalidation_0-merror:0.13971\n",
      "[847]\tvalidation_0-merror:0.13971\n",
      "[848]\tvalidation_0-merror:0.13971\n",
      "[849]\tvalidation_0-merror:0.13971\n",
      "[850]\tvalidation_0-merror:0.13971\n",
      "[851]\tvalidation_0-merror:0.13802\n",
      "[852]\tvalidation_0-merror:0.13971\n",
      "[853]\tvalidation_0-merror:0.14056\n",
      "[854]\tvalidation_0-merror:0.14141\n",
      "[855]\tvalidation_0-merror:0.14056\n",
      "[856]\tvalidation_0-merror:0.13971\n",
      "[857]\tvalidation_0-merror:0.13971\n",
      "[858]\tvalidation_0-merror:0.13971\n",
      "[859]\tvalidation_0-merror:0.13971\n",
      "[860]\tvalidation_0-merror:0.13886\n",
      "[861]\tvalidation_0-merror:0.13886\n",
      "[862]\tvalidation_0-merror:0.13802\n",
      "[863]\tvalidation_0-merror:0.13802\n",
      "[864]\tvalidation_0-merror:0.13886\n",
      "[865]\tvalidation_0-merror:0.13971\n",
      "[866]\tvalidation_0-merror:0.13886\n",
      "[867]\tvalidation_0-merror:0.13886\n",
      "[868]\tvalidation_0-merror:0.13971\n",
      "[869]\tvalidation_0-merror:0.13886\n",
      "[870]\tvalidation_0-merror:0.13886\n",
      "[871]\tvalidation_0-merror:0.13886\n",
      "[872]\tvalidation_0-merror:0.13886\n",
      "[873]\tvalidation_0-merror:0.13886\n",
      "[874]\tvalidation_0-merror:0.13886\n",
      "[875]\tvalidation_0-merror:0.13971\n",
      "[876]\tvalidation_0-merror:0.14056\n",
      "[877]\tvalidation_0-merror:0.13971\n",
      "[878]\tvalidation_0-merror:0.14056\n",
      "[879]\tvalidation_0-merror:0.14056\n",
      "[880]\tvalidation_0-merror:0.14056\n",
      "[881]\tvalidation_0-merror:0.13971\n",
      "[882]\tvalidation_0-merror:0.13971\n",
      "[883]\tvalidation_0-merror:0.14056\n",
      "[884]\tvalidation_0-merror:0.14056\n",
      "[885]\tvalidation_0-merror:0.14056\n",
      "[886]\tvalidation_0-merror:0.14056\n",
      "[887]\tvalidation_0-merror:0.13971\n",
      "[888]\tvalidation_0-merror:0.13971\n",
      "[889]\tvalidation_0-merror:0.13971\n",
      "[890]\tvalidation_0-merror:0.13971\n",
      "[891]\tvalidation_0-merror:0.13971\n",
      "[892]\tvalidation_0-merror:0.14056\n",
      "[893]\tvalidation_0-merror:0.13971\n",
      "[894]\tvalidation_0-merror:0.13886\n",
      "[895]\tvalidation_0-merror:0.13886\n",
      "[896]\tvalidation_0-merror:0.13971\n",
      "[897]\tvalidation_0-merror:0.13886\n",
      "[898]\tvalidation_0-merror:0.13886\n",
      "[899]\tvalidation_0-merror:0.13886\n",
      "[900]\tvalidation_0-merror:0.13886\n",
      "[901]\tvalidation_0-merror:0.13886\n",
      "[902]\tvalidation_0-merror:0.13886\n",
      "[903]\tvalidation_0-merror:0.13971\n",
      "[904]\tvalidation_0-merror:0.13971\n",
      "[905]\tvalidation_0-merror:0.13886\n",
      "[906]\tvalidation_0-merror:0.13886\n",
      "[907]\tvalidation_0-merror:0.13886\n",
      "[908]\tvalidation_0-merror:0.13886\n",
      "[909]\tvalidation_0-merror:0.13802\n",
      "[910]\tvalidation_0-merror:0.13886\n",
      "[911]\tvalidation_0-merror:0.13886\n",
      "[912]\tvalidation_0-merror:0.13886\n",
      "[913]\tvalidation_0-merror:0.13802\n",
      "[914]\tvalidation_0-merror:0.13802\n",
      "[915]\tvalidation_0-merror:0.13717\n",
      "[916]\tvalidation_0-merror:0.13717\n",
      "[917]\tvalidation_0-merror:0.13717\n",
      "[918]\tvalidation_0-merror:0.13717\n",
      "[919]\tvalidation_0-merror:0.13717\n",
      "[920]\tvalidation_0-merror:0.13717\n",
      "[921]\tvalidation_0-merror:0.13717\n",
      "[922]\tvalidation_0-merror:0.13633\n",
      "[923]\tvalidation_0-merror:0.13717\n",
      "[924]\tvalidation_0-merror:0.13717\n",
      "[925]\tvalidation_0-merror:0.13717\n",
      "[926]\tvalidation_0-merror:0.13633\n",
      "[927]\tvalidation_0-merror:0.13633\n",
      "[928]\tvalidation_0-merror:0.13633\n",
      "[929]\tvalidation_0-merror:0.13633\n",
      "[930]\tvalidation_0-merror:0.13633\n",
      "[931]\tvalidation_0-merror:0.13633\n",
      "[932]\tvalidation_0-merror:0.13633\n",
      "[933]\tvalidation_0-merror:0.13633\n",
      "[934]\tvalidation_0-merror:0.13548\n",
      "[935]\tvalidation_0-merror:0.13717\n",
      "[936]\tvalidation_0-merror:0.13717\n",
      "[937]\tvalidation_0-merror:0.13717\n",
      "[938]\tvalidation_0-merror:0.13633\n",
      "[939]\tvalidation_0-merror:0.13633\n",
      "[940]\tvalidation_0-merror:0.13717\n",
      "[941]\tvalidation_0-merror:0.13717\n",
      "[942]\tvalidation_0-merror:0.13802\n",
      "[943]\tvalidation_0-merror:0.13717\n",
      "[944]\tvalidation_0-merror:0.13717\n",
      "[945]\tvalidation_0-merror:0.13717\n",
      "[946]\tvalidation_0-merror:0.13717\n",
      "[947]\tvalidation_0-merror:0.13717\n",
      "[948]\tvalidation_0-merror:0.13717\n",
      "[949]\tvalidation_0-merror:0.13717\n",
      "[950]\tvalidation_0-merror:0.13717\n",
      "[951]\tvalidation_0-merror:0.13717\n",
      "[952]\tvalidation_0-merror:0.13717\n",
      "[953]\tvalidation_0-merror:0.13717\n",
      "[954]\tvalidation_0-merror:0.13717\n",
      "[955]\tvalidation_0-merror:0.13633\n",
      "[956]\tvalidation_0-merror:0.13717\n",
      "[957]\tvalidation_0-merror:0.13802\n",
      "[958]\tvalidation_0-merror:0.13802\n",
      "[959]\tvalidation_0-merror:0.13717\n",
      "[960]\tvalidation_0-merror:0.13717\n",
      "[961]\tvalidation_0-merror:0.13717\n",
      "[962]\tvalidation_0-merror:0.13717\n",
      "[963]\tvalidation_0-merror:0.13802\n",
      "[964]\tvalidation_0-merror:0.13802\n",
      "[965]\tvalidation_0-merror:0.13802\n"
     ]
    },
    {
     "name": "stdout",
     "output_type": "stream",
     "text": [
      "[966]\tvalidation_0-merror:0.13802\n",
      "[967]\tvalidation_0-merror:0.13802\n",
      "[968]\tvalidation_0-merror:0.13802\n",
      "[969]\tvalidation_0-merror:0.13633\n",
      "[970]\tvalidation_0-merror:0.13717\n",
      "[971]\tvalidation_0-merror:0.13717\n",
      "[972]\tvalidation_0-merror:0.13802\n",
      "[973]\tvalidation_0-merror:0.13802\n",
      "[974]\tvalidation_0-merror:0.13802\n",
      "[975]\tvalidation_0-merror:0.13802\n",
      "[976]\tvalidation_0-merror:0.13802\n",
      "[977]\tvalidation_0-merror:0.13802\n",
      "[978]\tvalidation_0-merror:0.13802\n",
      "[979]\tvalidation_0-merror:0.13717\n",
      "[980]\tvalidation_0-merror:0.13717\n",
      "[981]\tvalidation_0-merror:0.13717\n",
      "[982]\tvalidation_0-merror:0.13802\n",
      "[983]\tvalidation_0-merror:0.13802\n",
      "[984]\tvalidation_0-merror:0.13717\n",
      "[985]\tvalidation_0-merror:0.13717\n",
      "[986]\tvalidation_0-merror:0.13717\n",
      "[987]\tvalidation_0-merror:0.13717\n",
      "[988]\tvalidation_0-merror:0.13717\n",
      "[989]\tvalidation_0-merror:0.13717\n",
      "[990]\tvalidation_0-merror:0.13717\n",
      "[991]\tvalidation_0-merror:0.13717\n",
      "[992]\tvalidation_0-merror:0.13717\n",
      "[993]\tvalidation_0-merror:0.13717\n",
      "[994]\tvalidation_0-merror:0.13717\n",
      "[995]\tvalidation_0-merror:0.13717\n",
      "[996]\tvalidation_0-merror:0.13717\n",
      "[997]\tvalidation_0-merror:0.13717\n",
      "[998]\tvalidation_0-merror:0.13802\n",
      "[999]\tvalidation_0-merror:0.13802\n"
     ]
    }
   ],
   "source": [
    "eval_set = [(preprocessor.transform(X_val), y_val)]\n",
    "model = model.fit((preprocessor.transform(X_train_sm)),y_train_sm,eval_set=eval_set,early_stopping_rounds=200,verbose=True)"
   ]
  },
  {
   "cell_type": "code",
   "execution_count": 96,
   "metadata": {},
   "outputs": [
    {
     "data": {
      "text/plain": [
       "(0.9159407665505227, 0.8645215918712955)"
      ]
     },
     "execution_count": 96,
     "metadata": {},
     "output_type": "execute_result"
    }
   ],
   "source": [
    "model.score(preprocessor.transform(X_train_sm),y_train_sm),model.score(preprocessor.transform(X_val),y_val)"
   ]
  },
  {
   "cell_type": "code",
   "execution_count": 396,
   "metadata": {
    "scrolled": true
   },
   "outputs": [],
   "source": [
    "y_test_xgb = model.predict(preprocessor.transform(X_test))\n",
    "output = pd.DataFrame({'id':test_df.id,'outage_duration':y_test_xgb})\n",
    "output.to_csv('xgb/output1.csv',index=False)"
   ]
  },
  {
   "cell_type": "code",
   "execution_count": 404,
   "metadata": {},
   "outputs": [
    {
     "data": {
      "text/plain": [
       "(5904, 1330)"
      ]
     },
     "execution_count": 404,
     "metadata": {},
     "output_type": "execute_result"
    }
   ],
   "source": [
    "preprocessor.fit_transform(train_final.drop('outage_duration',axis=1)).shape"
   ]
  },
  {
   "cell_type": "code",
   "execution_count": 401,
   "metadata": {},
   "outputs": [
    {
     "data": {
      "text/plain": [
       "(4723, 455)"
      ]
     },
     "execution_count": 401,
     "metadata": {},
     "output_type": "execute_result"
    }
   ],
   "source": [
    "X_train.shape"
   ]
  },
  {
   "cell_type": "markdown",
   "metadata": {},
   "source": [
    "The above model gave an accuracy of 65% on test, hence proceeding with the neural networks"
   ]
  },
  {
   "cell_type": "markdown",
   "metadata": {},
   "source": [
    "## 5. Summary\n",
    "\n",
    "* We described the problem statement\n",
    "* Imported necessary libraries to perform EDA\n",
    "* Read all the datasets in the raw format\n",
    "* Data Wrangling to get the necessary format for EDA and model building\n",
    "* Explored each dataset with description and EDA\n",
    "* Answers to the questions by the operations team\n",
    "* Recommendations to improve the detection of outage durations"
   ]
  },
  {
   "cell_type": "markdown",
   "metadata": {},
   "source": [
    "## 6. Next Steps\n",
    "\n",
    "* Splitting the train dataset into train and validation\n",
    "* Trying models in the order of the increasing complexity\n",
    "* Analyzing the performance(bias/variance) of different models\n",
    "* Tweaking the models and analyzing the performance\n",
    "* Choosing the best model"
   ]
  }
 ],
 "metadata": {
  "kernelspec": {
   "display_name": "Python 3",
   "language": "python",
   "name": "python3"
  },
  "language_info": {
   "codemirror_mode": {
    "name": "ipython",
    "version": 3
   },
   "file_extension": ".py",
   "mimetype": "text/x-python",
   "name": "python",
   "nbconvert_exporter": "python",
   "pygments_lexer": "ipython3",
   "version": "3.7.5"
  }
 },
 "nbformat": 4,
 "nbformat_minor": 2
}
